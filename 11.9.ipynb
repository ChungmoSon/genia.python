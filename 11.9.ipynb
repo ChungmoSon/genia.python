{
 "cells": [
  {
   "cell_type": "code",
   "execution_count": 14,
   "id": "e8c2cdd1",
   "metadata": {},
   "outputs": [
    {
     "name": "stdout",
     "output_type": "stream",
     "text": [
      "function 1\n",
      "10\n"
     ]
    }
   ],
   "source": [
    "def func1(x):\n",
    "    x = 1\n",
    "    if x == 1:\n",
    "        return 'function 1'\n",
    "    else:\n",
    "        return 'function 2'\n",
    "x=10\n",
    "a=2\n",
    "print(func1(a))\n",
    "print(x)"
   ]
  },
  {
   "cell_type": "code",
   "execution_count": 24,
   "id": "0c98337d",
   "metadata": {},
   "outputs": [
    {
     "name": "stdout",
     "output_type": "stream",
     "text": [
      "1152\n"
     ]
    }
   ],
   "source": [
    "def func2(input1):\n",
    "    input3 = input1 + input2\n",
    "    \n",
    "    return input3\n",
    "\n",
    "print(func2(768))\n",
    "input2 = 384"
   ]
  },
  {
   "cell_type": "code",
   "execution_count": 22,
   "id": "37e8b9cf",
   "metadata": {},
   "outputs": [
    {
     "name": "stdout",
     "output_type": "stream",
     "text": [
      "Bob\n"
     ]
    }
   ],
   "source": [
    "name = 'Alice'\n",
    "\n",
    "def example():\n",
    "    # ⛔️ UnboundLocalError: local variable 'name' referenced before assignment\n",
    "    \n",
    "    print(name)\n",
    "    name = 'Bob'\n",
    "\n",
    "example()"
   ]
  },
  {
   "cell_type": "code",
   "execution_count": 33,
   "id": "f0b96f55",
   "metadata": {},
   "outputs": [
    {
     "name": "stdout",
     "output_type": "stream",
     "text": [
      "(4, 16)\n",
      "(4, 16)\n",
      "(4, 16)\n",
      "(4, 16)\n",
      "(4, 16)\n",
      "(4, 16)\n",
      "(4, 16)\n",
      "(4, 16)\n",
      "(4, 16)\n",
      "(4, 16)\n"
     ]
    }
   ],
   "source": [
    "def func3(x,y):\n",
    "    return x**2, y**2\n",
    "\n",
    "for i in range(1,11):\n",
    "    print(func3(2,4))"
   ]
  },
  {
   "cell_type": "code",
   "execution_count": 4,
   "id": "453e282c",
   "metadata": {},
   "outputs": [],
   "source": [
    "def func3(x):\n",
    "    def func4(x):\n",
    "        return x"
   ]
  },
  {
   "cell_type": "code",
   "execution_count": 10,
   "id": "66e47fd4",
   "metadata": {},
   "outputs": [],
   "source": [
    "def func1(x):\n",
    "    return x"
   ]
  },
  {
   "cell_type": "code",
   "execution_count": 11,
   "id": "e853cd52",
   "metadata": {},
   "outputs": [
    {
     "data": {
      "text/plain": [
       "2"
      ]
     },
     "execution_count": 11,
     "metadata": {},
     "output_type": "execute_result"
    }
   ],
   "source": [
    "def func2(x):\n",
    "    return func1(x)\n",
    "func2(2)"
   ]
  },
  {
   "cell_type": "code",
   "execution_count": 3,
   "id": "85e3eb5b",
   "metadata": {},
   "outputs": [
    {
     "ename": "SyntaxError",
     "evalue": "invalid syntax (2032226311.py, line 1)",
     "output_type": "error",
     "traceback": [
      "\u001b[1;36m  File \u001b[1;32m\"C:\\Users\\user\\AppData\\Local\\Temp\\ipykernel_12588\\2032226311.py\"\u001b[1;36m, line \u001b[1;32m1\u001b[0m\n\u001b[1;33m    def. func,apply(x):\u001b[0m\n\u001b[1;37m       ^\u001b[0m\n\u001b[1;31mSyntaxError\u001b[0m\u001b[1;31m:\u001b[0m invalid syntax\n"
     ]
    }
   ],
   "source": [
    "def. func,apply(x):\n",
    "    if x>0:\n",
    "        return c"
   ]
  }
 ],
 "metadata": {
  "kernelspec": {
   "display_name": "Python 3 (ipykernel)",
   "language": "python",
   "name": "python3"
  },
  "language_info": {
   "codemirror_mode": {
    "name": "ipython",
    "version": 3
   },
   "file_extension": ".py",
   "mimetype": "text/x-python",
   "name": "python",
   "nbconvert_exporter": "python",
   "pygments_lexer": "ipython3",
   "version": "3.9.13"
  }
 },
 "nbformat": 4,
 "nbformat_minor": 5
}
