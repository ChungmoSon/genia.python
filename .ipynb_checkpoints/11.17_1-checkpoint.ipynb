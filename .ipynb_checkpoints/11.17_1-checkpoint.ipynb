{
 "cells": [
  {
   "cell_type": "code",
   "execution_count": 17,
   "id": "6342639a",
   "metadata": {},
   "outputs": [],
   "source": [
    "import pandas as pd\n",
    "df = pd.read_csv('시청자미디어재단_체험형미디어교육_20221109.csv',encoding='cp949')"
   ]
  },
  {
   "cell_type": "code",
   "execution_count": 18,
   "id": "587c798c",
   "metadata": {},
   "outputs": [],
   "source": [
    "df['교육방법구분_이산화']=''"
   ]
  },
  {
   "cell_type": "code",
   "execution_count": 19,
   "id": "4c09b764",
   "metadata": {},
   "outputs": [
    {
     "name": "stderr",
     "output_type": "stream",
     "text": [
      "C:\\Users\\user\\AppData\\Local\\Temp\\ipykernel_15012\\1184909210.py:3: SettingWithCopyWarning: \n",
      "A value is trying to be set on a copy of a slice from a DataFrame\n",
      "\n",
      "See the caveats in the documentation: https://pandas.pydata.org/pandas-docs/stable/user_guide/indexing.html#returning-a-view-versus-a-copy\n",
      "  df['교육방법구분_이산화'][i] = 1\n",
      "C:\\Users\\user\\AppData\\Local\\Temp\\ipykernel_15012\\1184909210.py:5: SettingWithCopyWarning: \n",
      "A value is trying to be set on a copy of a slice from a DataFrame\n",
      "\n",
      "See the caveats in the documentation: https://pandas.pydata.org/pandas-docs/stable/user_guide/indexing.html#returning-a-view-versus-a-copy\n",
      "  df['교육방법구분_이산화'][i] = 0\n"
     ]
    }
   ],
   "source": [
    "for i in df.index:\n",
    "    if df['교육방법구분'][i] == '오프라인':\n",
    "        df['교육방법구분_이산화'][i] = 1\n",
    "    else:\n",
    "        df['교육방법구분_이산화'][i] = 0   "
   ]
  },
  {
   "cell_type": "code",
   "execution_count": 23,
   "id": "b9581643",
   "metadata": {},
   "outputs": [
    {
     "data": {
      "text/html": [
       "<div>\n",
       "<style scoped>\n",
       "    .dataframe tbody tr th:only-of-type {\n",
       "        vertical-align: middle;\n",
       "    }\n",
       "\n",
       "    .dataframe tbody tr th {\n",
       "        vertical-align: top;\n",
       "    }\n",
       "\n",
       "    .dataframe thead th {\n",
       "        text-align: right;\n",
       "    }\n",
       "</style>\n",
       "<table border=\"1\" class=\"dataframe\">\n",
       "  <thead>\n",
       "    <tr style=\"text-align: right;\">\n",
       "      <th></th>\n",
       "      <th>센터명</th>\n",
       "      <th>강좌명</th>\n",
       "      <th>강사명</th>\n",
       "      <th>교육시작일자</th>\n",
       "      <th>교육종료일자</th>\n",
       "      <th>강좌내용</th>\n",
       "      <th>교육대상구분</th>\n",
       "      <th>교육방법구분</th>\n",
       "      <th>운영요일</th>\n",
       "      <th>강좌정원수</th>\n",
       "      <th>데이터기준일자</th>\n",
       "      <th>교육방법구분_이산화</th>\n",
       "    </tr>\n",
       "  </thead>\n",
       "  <tbody>\n",
       "    <tr>\n",
       "      <th>70</th>\n",
       "      <td>인천시청자미디어센터</td>\n",
       "      <td>스톱모션 제작 체험</td>\n",
       "      <td>백진영,김은자</td>\n",
       "      <td>2022-11-03</td>\n",
       "      <td>2022-11-03</td>\n",
       "      <td>스마트폰을 활용한 스톱모션 영상 제작 체험</td>\n",
       "      <td>대학생</td>\n",
       "      <td>온라인</td>\n",
       "      <td>목</td>\n",
       "      <td>28</td>\n",
       "      <td>2022-11-09</td>\n",
       "      <td>0</td>\n",
       "    </tr>\n",
       "    <tr>\n",
       "      <th>78</th>\n",
       "      <td>인천시청자미디어센터</td>\n",
       "      <td>TV뉴스체험</td>\n",
       "      <td>백진영,김은자</td>\n",
       "      <td>2022-11-10</td>\n",
       "      <td>2022-11-10</td>\n",
       "      <td>TV 뉴스 제작 및 영상합성 크로마키 체험</td>\n",
       "      <td>대학생</td>\n",
       "      <td>온라인</td>\n",
       "      <td>목</td>\n",
       "      <td>28</td>\n",
       "      <td>2022-11-09</td>\n",
       "      <td>0</td>\n",
       "    </tr>\n",
       "  </tbody>\n",
       "</table>\n",
       "</div>"
      ],
      "text/plain": [
       "           센터명         강좌명      강사명      교육시작일자      교육종료일자  \\\n",
       "70  인천시청자미디어센터  스톱모션 제작 체험  백진영,김은자  2022-11-03  2022-11-03   \n",
       "78  인천시청자미디어센터      TV뉴스체험  백진영,김은자  2022-11-10  2022-11-10   \n",
       "\n",
       "                       강좌내용 교육대상구분 교육방법구분 운영요일  강좌정원수     데이터기준일자 교육방법구분_이산화  \n",
       "70  스마트폰을 활용한 스톱모션 영상 제작 체험    대학생    온라인    목     28  2022-11-09          0  \n",
       "78  TV 뉴스 제작 및 영상합성 크로마키 체험    대학생    온라인    목     28  2022-11-09          0  "
      ]
     },
     "execution_count": 23,
     "metadata": {},
     "output_type": "execute_result"
    }
   ],
   "source": [
    "df[df['교육방법구분']=='온라인']"
   ]
  },
  {
   "cell_type": "code",
   "execution_count": 24,
   "id": "27ce5398",
   "metadata": {},
   "outputs": [
    {
     "data": {
      "text/html": [
       "<div>\n",
       "<style scoped>\n",
       "    .dataframe tbody tr th:only-of-type {\n",
       "        vertical-align: middle;\n",
       "    }\n",
       "\n",
       "    .dataframe tbody tr th {\n",
       "        vertical-align: top;\n",
       "    }\n",
       "\n",
       "    .dataframe thead th {\n",
       "        text-align: right;\n",
       "    }\n",
       "</style>\n",
       "<table border=\"1\" class=\"dataframe\">\n",
       "  <thead>\n",
       "    <tr style=\"text-align: right;\">\n",
       "      <th></th>\n",
       "      <th>센터명</th>\n",
       "      <th>강좌명</th>\n",
       "      <th>강사명</th>\n",
       "      <th>교육시작일자</th>\n",
       "      <th>교육종료일자</th>\n",
       "      <th>강좌내용</th>\n",
       "      <th>교육대상구분</th>\n",
       "      <th>교육방법구분</th>\n",
       "      <th>운영요일</th>\n",
       "      <th>강좌정원수</th>\n",
       "      <th>데이터기준일자</th>\n",
       "      <th>교육방법구분_이산화</th>\n",
       "    </tr>\n",
       "  </thead>\n",
       "  <tbody>\n",
       "    <tr>\n",
       "      <th>0</th>\n",
       "      <td>서울시청자미디어센터</td>\n",
       "      <td>상설미디어체험 교육</td>\n",
       "      <td>이수현,김민호</td>\n",
       "      <td>2022-11-12</td>\n",
       "      <td>2022-11-26</td>\n",
       "      <td>상설미디어체험(뉴스앵커체험 등)</td>\n",
       "      <td>일반</td>\n",
       "      <td>오프라인</td>\n",
       "      <td>토</td>\n",
       "      <td>25</td>\n",
       "      <td>2022-11-09</td>\n",
       "      <td>1</td>\n",
       "    </tr>\n",
       "    <tr>\n",
       "      <th>1</th>\n",
       "      <td>서울시청자미디어센터</td>\n",
       "      <td>찾아가는미디어나눔버스 체험 교육</td>\n",
       "      <td>김도경,이수현</td>\n",
       "      <td>2022-11-21</td>\n",
       "      <td>2022-11-21</td>\n",
       "      <td>찾아가는미디어나눔버스 체험</td>\n",
       "      <td>청소년</td>\n",
       "      <td>오프라인</td>\n",
       "      <td>월</td>\n",
       "      <td>25</td>\n",
       "      <td>2022-11-09</td>\n",
       "      <td>1</td>\n",
       "    </tr>\n",
       "    <tr>\n",
       "      <th>2</th>\n",
       "      <td>서울시청자미디어센터</td>\n",
       "      <td>찾아가는미디어나눔버스 체험</td>\n",
       "      <td>김도경,이수현</td>\n",
       "      <td>2022-11-22</td>\n",
       "      <td>2022-11-22</td>\n",
       "      <td>찾아가는미디어나눔버스 체험</td>\n",
       "      <td>청소년</td>\n",
       "      <td>오프라인</td>\n",
       "      <td>화</td>\n",
       "      <td>25</td>\n",
       "      <td>2022-11-09</td>\n",
       "      <td>1</td>\n",
       "    </tr>\n",
       "    <tr>\n",
       "      <th>3</th>\n",
       "      <td>서울시청자미디어센터</td>\n",
       "      <td>찾아가는미디어나눔버스 체험</td>\n",
       "      <td>김도경,이수현</td>\n",
       "      <td>2022-11-23</td>\n",
       "      <td>2022-11-23</td>\n",
       "      <td>찾아가는미디어나눔버스 체험</td>\n",
       "      <td>청소년</td>\n",
       "      <td>오프라인</td>\n",
       "      <td>수</td>\n",
       "      <td>25</td>\n",
       "      <td>2022-11-09</td>\n",
       "      <td>1</td>\n",
       "    </tr>\n",
       "    <tr>\n",
       "      <th>4</th>\n",
       "      <td>서울시청자미디어센터</td>\n",
       "      <td>찾아가는미디어나눔버스 체험</td>\n",
       "      <td>김도경,이수현</td>\n",
       "      <td>2022-11-25</td>\n",
       "      <td>2022-11-25</td>\n",
       "      <td>찾아가는미디어나눔버스 체험</td>\n",
       "      <td>청소년</td>\n",
       "      <td>오프라인</td>\n",
       "      <td>금</td>\n",
       "      <td>25</td>\n",
       "      <td>2022-11-09</td>\n",
       "      <td>1</td>\n",
       "    </tr>\n",
       "    <tr>\n",
       "      <th>...</th>\n",
       "      <td>...</td>\n",
       "      <td>...</td>\n",
       "      <td>...</td>\n",
       "      <td>...</td>\n",
       "      <td>...</td>\n",
       "      <td>...</td>\n",
       "      <td>...</td>\n",
       "      <td>...</td>\n",
       "      <td>...</td>\n",
       "      <td>...</td>\n",
       "      <td>...</td>\n",
       "      <td>...</td>\n",
       "    </tr>\n",
       "    <tr>\n",
       "      <th>94</th>\n",
       "      <td>인천시청자미디어센터</td>\n",
       "      <td>찾아가는 미디어나눔버스(TV뉴스체험)</td>\n",
       "      <td>류은애,김은자</td>\n",
       "      <td>2022-11-30</td>\n",
       "      <td>2022-11-30</td>\n",
       "      <td>TV 뉴스 제작 및 영상합성 크로마키 체험</td>\n",
       "      <td>중학생</td>\n",
       "      <td>오프라인</td>\n",
       "      <td>수</td>\n",
       "      <td>25</td>\n",
       "      <td>2022-11-09</td>\n",
       "      <td>1</td>\n",
       "    </tr>\n",
       "    <tr>\n",
       "      <th>95</th>\n",
       "      <td>충북시청자미디어센터</td>\n",
       "      <td>TV체험(뉴스체험)</td>\n",
       "      <td>미정</td>\n",
       "      <td>2022-11-01</td>\n",
       "      <td>2022-11-30</td>\n",
       "      <td>아나운서, 기자, 기상캐스터 등 역할을 나누어 뉴스 제작 과정을 체험해보는 프로그램</td>\n",
       "      <td>초등학생 이상</td>\n",
       "      <td>오프라인</td>\n",
       "      <td>월,화,수,목,금,토</td>\n",
       "      <td>15</td>\n",
       "      <td>2022-11-09</td>\n",
       "      <td>1</td>\n",
       "    </tr>\n",
       "    <tr>\n",
       "      <th>96</th>\n",
       "      <td>충북시청자미디어센터</td>\n",
       "      <td>라디오체험(DJ체험)</td>\n",
       "      <td>미정</td>\n",
       "      <td>2022-11-01</td>\n",
       "      <td>2022-11-30</td>\n",
       "      <td>라디오 프로그램을 작가, DJ, 게스트가 되어 라디오 프로그램을 제작해보는 체험</td>\n",
       "      <td>초등학생 이상</td>\n",
       "      <td>오프라인</td>\n",
       "      <td>월,화,수,목,금,토</td>\n",
       "      <td>15</td>\n",
       "      <td>2022-11-09</td>\n",
       "      <td>1</td>\n",
       "    </tr>\n",
       "    <tr>\n",
       "      <th>97</th>\n",
       "      <td>충북시청자미디어센터</td>\n",
       "      <td>유아 크로마키 체험</td>\n",
       "      <td>미정</td>\n",
       "      <td>2022-11-01</td>\n",
       "      <td>2022-11-30</td>\n",
       "      <td>유아 대상 크로마키를 통해 다양한 놀이를 해보는 체험</td>\n",
       "      <td>6~7세</td>\n",
       "      <td>오프라인</td>\n",
       "      <td>월,화,수,목,금,토</td>\n",
       "      <td>15</td>\n",
       "      <td>2022-11-09</td>\n",
       "      <td>1</td>\n",
       "    </tr>\n",
       "    <tr>\n",
       "      <th>98</th>\n",
       "      <td>충북시청자미디어센터</td>\n",
       "      <td>AI 체험</td>\n",
       "      <td>미정</td>\n",
       "      <td>2022-11-01</td>\n",
       "      <td>2022-11-30</td>\n",
       "      <td>인공지능에 대해 이해하고 머신러닝을 여러 방법으로 알아보는 체험</td>\n",
       "      <td>초등학생 이상</td>\n",
       "      <td>오프라인</td>\n",
       "      <td>월,화,수,목,금,토</td>\n",
       "      <td>15</td>\n",
       "      <td>2022-11-09</td>\n",
       "      <td>1</td>\n",
       "    </tr>\n",
       "  </tbody>\n",
       "</table>\n",
       "<p>97 rows × 12 columns</p>\n",
       "</div>"
      ],
      "text/plain": [
       "           센터명                   강좌명      강사명      교육시작일자      교육종료일자  \\\n",
       "0   서울시청자미디어센터            상설미디어체험 교육  이수현,김민호  2022-11-12  2022-11-26   \n",
       "1   서울시청자미디어센터     찾아가는미디어나눔버스 체험 교육  김도경,이수현  2022-11-21  2022-11-21   \n",
       "2   서울시청자미디어센터        찾아가는미디어나눔버스 체험  김도경,이수현  2022-11-22  2022-11-22   \n",
       "3   서울시청자미디어센터        찾아가는미디어나눔버스 체험  김도경,이수현  2022-11-23  2022-11-23   \n",
       "4   서울시청자미디어센터        찾아가는미디어나눔버스 체험  김도경,이수현  2022-11-25  2022-11-25   \n",
       "..         ...                   ...      ...         ...         ...   \n",
       "94  인천시청자미디어센터  찾아가는 미디어나눔버스(TV뉴스체험)  류은애,김은자  2022-11-30  2022-11-30   \n",
       "95  충북시청자미디어센터            TV체험(뉴스체험)       미정  2022-11-01  2022-11-30   \n",
       "96  충북시청자미디어센터           라디오체험(DJ체험)       미정  2022-11-01  2022-11-30   \n",
       "97  충북시청자미디어센터            유아 크로마키 체험       미정  2022-11-01  2022-11-30   \n",
       "98  충북시청자미디어센터                 AI 체험       미정  2022-11-01  2022-11-30   \n",
       "\n",
       "                                              강좌내용   교육대상구분 교육방법구분  \\\n",
       "0                                상설미디어체험(뉴스앵커체험 등)       일반   오프라인   \n",
       "1                                   찾아가는미디어나눔버스 체험      청소년   오프라인   \n",
       "2                                   찾아가는미디어나눔버스 체험      청소년   오프라인   \n",
       "3                                   찾아가는미디어나눔버스 체험      청소년   오프라인   \n",
       "4                                   찾아가는미디어나눔버스 체험      청소년   오프라인   \n",
       "..                                             ...      ...    ...   \n",
       "94                         TV 뉴스 제작 및 영상합성 크로마키 체험      중학생   오프라인   \n",
       "95  아나운서, 기자, 기상캐스터 등 역할을 나누어 뉴스 제작 과정을 체험해보는 프로그램  초등학생 이상   오프라인   \n",
       "96    라디오 프로그램을 작가, DJ, 게스트가 되어 라디오 프로그램을 제작해보는 체험  초등학생 이상   오프라인   \n",
       "97                   유아 대상 크로마키를 통해 다양한 놀이를 해보는 체험     6~7세   오프라인   \n",
       "98             인공지능에 대해 이해하고 머신러닝을 여러 방법으로 알아보는 체험  초등학생 이상   오프라인   \n",
       "\n",
       "           운영요일  강좌정원수     데이터기준일자 교육방법구분_이산화  \n",
       "0             토     25  2022-11-09          1  \n",
       "1             월     25  2022-11-09          1  \n",
       "2             화     25  2022-11-09          1  \n",
       "3             수     25  2022-11-09          1  \n",
       "4             금     25  2022-11-09          1  \n",
       "..          ...    ...         ...        ...  \n",
       "94            수     25  2022-11-09          1  \n",
       "95  월,화,수,목,금,토     15  2022-11-09          1  \n",
       "96  월,화,수,목,금,토     15  2022-11-09          1  \n",
       "97  월,화,수,목,금,토     15  2022-11-09          1  \n",
       "98  월,화,수,목,금,토     15  2022-11-09          1  \n",
       "\n",
       "[97 rows x 12 columns]"
      ]
     },
     "execution_count": 24,
     "metadata": {},
     "output_type": "execute_result"
    }
   ],
   "source": [
    "df[df['교육방법구분']=='오프라인']"
   ]
  },
  {
   "cell_type": "code",
   "execution_count": 27,
   "id": "82c464ae",
   "metadata": {},
   "outputs": [
    {
     "data": {
      "text/html": [
       "<div>\n",
       "<style scoped>\n",
       "    .dataframe tbody tr th:only-of-type {\n",
       "        vertical-align: middle;\n",
       "    }\n",
       "\n",
       "    .dataframe tbody tr th {\n",
       "        vertical-align: top;\n",
       "    }\n",
       "\n",
       "    .dataframe thead th {\n",
       "        text-align: right;\n",
       "    }\n",
       "</style>\n",
       "<table border=\"1\" class=\"dataframe\">\n",
       "  <thead>\n",
       "    <tr style=\"text-align: right;\">\n",
       "      <th></th>\n",
       "      <th>센터명</th>\n",
       "      <th>강좌명</th>\n",
       "      <th>강사명</th>\n",
       "      <th>교육시작일자</th>\n",
       "      <th>교육종료일자</th>\n",
       "      <th>강좌내용</th>\n",
       "      <th>교육대상구분</th>\n",
       "      <th>교육방법구분</th>\n",
       "      <th>운영요일</th>\n",
       "      <th>강좌정원수</th>\n",
       "      <th>데이터기준일자</th>\n",
       "      <th>교육방법구분_이산화</th>\n",
       "    </tr>\n",
       "  </thead>\n",
       "  <tbody>\n",
       "    <tr>\n",
       "      <th>0</th>\n",
       "      <td>서울시청자미디어센터</td>\n",
       "      <td>상설미디어체험 교육</td>\n",
       "      <td>이수현,김민호</td>\n",
       "      <td>2022-11-12</td>\n",
       "      <td>2022-11-26</td>\n",
       "      <td>상설미디어체험(뉴스앵커체험 등)</td>\n",
       "      <td>일반</td>\n",
       "      <td>오프라인</td>\n",
       "      <td>토</td>\n",
       "      <td>25</td>\n",
       "      <td>2022-11-09</td>\n",
       "      <td>1</td>\n",
       "    </tr>\n",
       "    <tr>\n",
       "      <th>1</th>\n",
       "      <td>서울시청자미디어센터</td>\n",
       "      <td>찾아가는미디어나눔버스 체험 교육</td>\n",
       "      <td>김도경,이수현</td>\n",
       "      <td>2022-11-21</td>\n",
       "      <td>2022-11-21</td>\n",
       "      <td>찾아가는미디어나눔버스 체험</td>\n",
       "      <td>청소년</td>\n",
       "      <td>오프라인</td>\n",
       "      <td>월</td>\n",
       "      <td>25</td>\n",
       "      <td>2022-11-09</td>\n",
       "      <td>1</td>\n",
       "    </tr>\n",
       "    <tr>\n",
       "      <th>2</th>\n",
       "      <td>서울시청자미디어센터</td>\n",
       "      <td>찾아가는미디어나눔버스 체험</td>\n",
       "      <td>김도경,이수현</td>\n",
       "      <td>2022-11-22</td>\n",
       "      <td>2022-11-22</td>\n",
       "      <td>찾아가는미디어나눔버스 체험</td>\n",
       "      <td>청소년</td>\n",
       "      <td>오프라인</td>\n",
       "      <td>화</td>\n",
       "      <td>25</td>\n",
       "      <td>2022-11-09</td>\n",
       "      <td>1</td>\n",
       "    </tr>\n",
       "    <tr>\n",
       "      <th>3</th>\n",
       "      <td>서울시청자미디어센터</td>\n",
       "      <td>찾아가는미디어나눔버스 체험</td>\n",
       "      <td>김도경,이수현</td>\n",
       "      <td>2022-11-23</td>\n",
       "      <td>2022-11-23</td>\n",
       "      <td>찾아가는미디어나눔버스 체험</td>\n",
       "      <td>청소년</td>\n",
       "      <td>오프라인</td>\n",
       "      <td>수</td>\n",
       "      <td>25</td>\n",
       "      <td>2022-11-09</td>\n",
       "      <td>1</td>\n",
       "    </tr>\n",
       "    <tr>\n",
       "      <th>4</th>\n",
       "      <td>서울시청자미디어센터</td>\n",
       "      <td>찾아가는미디어나눔버스 체험</td>\n",
       "      <td>김도경,이수현</td>\n",
       "      <td>2022-11-25</td>\n",
       "      <td>2022-11-25</td>\n",
       "      <td>찾아가는미디어나눔버스 체험</td>\n",
       "      <td>청소년</td>\n",
       "      <td>오프라인</td>\n",
       "      <td>금</td>\n",
       "      <td>25</td>\n",
       "      <td>2022-11-09</td>\n",
       "      <td>1</td>\n",
       "    </tr>\n",
       "    <tr>\n",
       "      <th>...</th>\n",
       "      <td>...</td>\n",
       "      <td>...</td>\n",
       "      <td>...</td>\n",
       "      <td>...</td>\n",
       "      <td>...</td>\n",
       "      <td>...</td>\n",
       "      <td>...</td>\n",
       "      <td>...</td>\n",
       "      <td>...</td>\n",
       "      <td>...</td>\n",
       "      <td>...</td>\n",
       "      <td>...</td>\n",
       "    </tr>\n",
       "    <tr>\n",
       "      <th>94</th>\n",
       "      <td>인천시청자미디어센터</td>\n",
       "      <td>찾아가는 미디어나눔버스(TV뉴스체험)</td>\n",
       "      <td>류은애,김은자</td>\n",
       "      <td>2022-11-30</td>\n",
       "      <td>2022-11-30</td>\n",
       "      <td>TV 뉴스 제작 및 영상합성 크로마키 체험</td>\n",
       "      <td>중학생</td>\n",
       "      <td>오프라인</td>\n",
       "      <td>수</td>\n",
       "      <td>25</td>\n",
       "      <td>2022-11-09</td>\n",
       "      <td>1</td>\n",
       "    </tr>\n",
       "    <tr>\n",
       "      <th>95</th>\n",
       "      <td>충북시청자미디어센터</td>\n",
       "      <td>TV체험(뉴스체험)</td>\n",
       "      <td>미정</td>\n",
       "      <td>2022-11-01</td>\n",
       "      <td>2022-11-30</td>\n",
       "      <td>아나운서, 기자, 기상캐스터 등 역할을 나누어 뉴스 제작 과정을 체험해보는 프로그램</td>\n",
       "      <td>초등학생 이상</td>\n",
       "      <td>오프라인</td>\n",
       "      <td>월,화,수,목,금,토</td>\n",
       "      <td>15</td>\n",
       "      <td>2022-11-09</td>\n",
       "      <td>1</td>\n",
       "    </tr>\n",
       "    <tr>\n",
       "      <th>96</th>\n",
       "      <td>충북시청자미디어센터</td>\n",
       "      <td>라디오체험(DJ체험)</td>\n",
       "      <td>미정</td>\n",
       "      <td>2022-11-01</td>\n",
       "      <td>2022-11-30</td>\n",
       "      <td>라디오 프로그램을 작가, DJ, 게스트가 되어 라디오 프로그램을 제작해보는 체험</td>\n",
       "      <td>초등학생 이상</td>\n",
       "      <td>오프라인</td>\n",
       "      <td>월,화,수,목,금,토</td>\n",
       "      <td>15</td>\n",
       "      <td>2022-11-09</td>\n",
       "      <td>1</td>\n",
       "    </tr>\n",
       "    <tr>\n",
       "      <th>97</th>\n",
       "      <td>충북시청자미디어센터</td>\n",
       "      <td>유아 크로마키 체험</td>\n",
       "      <td>미정</td>\n",
       "      <td>2022-11-01</td>\n",
       "      <td>2022-11-30</td>\n",
       "      <td>유아 대상 크로마키를 통해 다양한 놀이를 해보는 체험</td>\n",
       "      <td>6~7세</td>\n",
       "      <td>오프라인</td>\n",
       "      <td>월,화,수,목,금,토</td>\n",
       "      <td>15</td>\n",
       "      <td>2022-11-09</td>\n",
       "      <td>1</td>\n",
       "    </tr>\n",
       "    <tr>\n",
       "      <th>98</th>\n",
       "      <td>충북시청자미디어센터</td>\n",
       "      <td>AI 체험</td>\n",
       "      <td>미정</td>\n",
       "      <td>2022-11-01</td>\n",
       "      <td>2022-11-30</td>\n",
       "      <td>인공지능에 대해 이해하고 머신러닝을 여러 방법으로 알아보는 체험</td>\n",
       "      <td>초등학생 이상</td>\n",
       "      <td>오프라인</td>\n",
       "      <td>월,화,수,목,금,토</td>\n",
       "      <td>15</td>\n",
       "      <td>2022-11-09</td>\n",
       "      <td>1</td>\n",
       "    </tr>\n",
       "  </tbody>\n",
       "</table>\n",
       "<p>99 rows × 12 columns</p>\n",
       "</div>"
      ],
      "text/plain": [
       "           센터명                   강좌명      강사명      교육시작일자      교육종료일자  \\\n",
       "0   서울시청자미디어센터            상설미디어체험 교육  이수현,김민호  2022-11-12  2022-11-26   \n",
       "1   서울시청자미디어센터     찾아가는미디어나눔버스 체험 교육  김도경,이수현  2022-11-21  2022-11-21   \n",
       "2   서울시청자미디어센터        찾아가는미디어나눔버스 체험  김도경,이수현  2022-11-22  2022-11-22   \n",
       "3   서울시청자미디어센터        찾아가는미디어나눔버스 체험  김도경,이수현  2022-11-23  2022-11-23   \n",
       "4   서울시청자미디어센터        찾아가는미디어나눔버스 체험  김도경,이수현  2022-11-25  2022-11-25   \n",
       "..         ...                   ...      ...         ...         ...   \n",
       "94  인천시청자미디어센터  찾아가는 미디어나눔버스(TV뉴스체험)  류은애,김은자  2022-11-30  2022-11-30   \n",
       "95  충북시청자미디어센터            TV체험(뉴스체험)       미정  2022-11-01  2022-11-30   \n",
       "96  충북시청자미디어센터           라디오체험(DJ체험)       미정  2022-11-01  2022-11-30   \n",
       "97  충북시청자미디어센터            유아 크로마키 체험       미정  2022-11-01  2022-11-30   \n",
       "98  충북시청자미디어센터                 AI 체험       미정  2022-11-01  2022-11-30   \n",
       "\n",
       "                                              강좌내용   교육대상구분 교육방법구분  \\\n",
       "0                                상설미디어체험(뉴스앵커체험 등)       일반   오프라인   \n",
       "1                                   찾아가는미디어나눔버스 체험      청소년   오프라인   \n",
       "2                                   찾아가는미디어나눔버스 체험      청소년   오프라인   \n",
       "3                                   찾아가는미디어나눔버스 체험      청소년   오프라인   \n",
       "4                                   찾아가는미디어나눔버스 체험      청소년   오프라인   \n",
       "..                                             ...      ...    ...   \n",
       "94                         TV 뉴스 제작 및 영상합성 크로마키 체험      중학생   오프라인   \n",
       "95  아나운서, 기자, 기상캐스터 등 역할을 나누어 뉴스 제작 과정을 체험해보는 프로그램  초등학생 이상   오프라인   \n",
       "96    라디오 프로그램을 작가, DJ, 게스트가 되어 라디오 프로그램을 제작해보는 체험  초등학생 이상   오프라인   \n",
       "97                   유아 대상 크로마키를 통해 다양한 놀이를 해보는 체험     6~7세   오프라인   \n",
       "98             인공지능에 대해 이해하고 머신러닝을 여러 방법으로 알아보는 체험  초등학생 이상   오프라인   \n",
       "\n",
       "           운영요일  강좌정원수     데이터기준일자 교육방법구분_이산화  \n",
       "0             토     25  2022-11-09          1  \n",
       "1             월     25  2022-11-09          1  \n",
       "2             화     25  2022-11-09          1  \n",
       "3             수     25  2022-11-09          1  \n",
       "4             금     25  2022-11-09          1  \n",
       "..          ...    ...         ...        ...  \n",
       "94            수     25  2022-11-09          1  \n",
       "95  월,화,수,목,금,토     15  2022-11-09          1  \n",
       "96  월,화,수,목,금,토     15  2022-11-09          1  \n",
       "97  월,화,수,목,금,토     15  2022-11-09          1  \n",
       "98  월,화,수,목,금,토     15  2022-11-09          1  \n",
       "\n",
       "[99 rows x 12 columns]"
      ]
     },
     "execution_count": 27,
     "metadata": {},
     "output_type": "execute_result"
    }
   ],
   "source": [
    "binary_data=df['강좌정원수']>df['강좌정원수'].mean()\n",
    "[int(i) for i in binary_data]\n",
    "df"
   ]
  },
  {
   "cell_type": "code",
   "execution_count": 36,
   "id": "77c7d5dd",
   "metadata": {},
   "outputs": [],
   "source": [
    "import seaborn as sns\n",
    "import matplotlib.pyplot as plt\n",
    "import math"
   ]
  },
  {
   "cell_type": "code",
   "execution_count": 42,
   "id": "120502f5",
   "metadata": {},
   "outputs": [
    {
     "name": "stderr",
     "output_type": "stream",
     "text": [
      "C:\\Users\\user\\anaconda3\\lib\\site-packages\\seaborn\\distributions.py:2619: FutureWarning: `distplot` is a deprecated function and will be removed in a future version. Please adapt your code to use either `displot` (a figure-level function with similar flexibility) or `histplot` (an axes-level function for histograms).\n",
      "  warnings.warn(msg, FutureWarning)\n",
      "C:\\Users\\user\\anaconda3\\lib\\site-packages\\IPython\\core\\pylabtools.py:151: UserWarning: Glyph 44053 (\\N{HANGUL SYLLABLE GANG}) missing from current font.\n",
      "  fig.canvas.print_figure(bytes_io, **kw)\n",
      "C:\\Users\\user\\anaconda3\\lib\\site-packages\\IPython\\core\\pylabtools.py:151: UserWarning: Glyph 51340 (\\N{HANGUL SYLLABLE JWA}) missing from current font.\n",
      "  fig.canvas.print_figure(bytes_io, **kw)\n",
      "C:\\Users\\user\\anaconda3\\lib\\site-packages\\IPython\\core\\pylabtools.py:151: UserWarning: Glyph 51221 (\\N{HANGUL SYLLABLE JEONG}) missing from current font.\n",
      "  fig.canvas.print_figure(bytes_io, **kw)\n",
      "C:\\Users\\user\\anaconda3\\lib\\site-packages\\IPython\\core\\pylabtools.py:151: UserWarning: Glyph 50896 (\\N{HANGUL SYLLABLE WEON}) missing from current font.\n",
      "  fig.canvas.print_figure(bytes_io, **kw)\n",
      "C:\\Users\\user\\anaconda3\\lib\\site-packages\\IPython\\core\\pylabtools.py:151: UserWarning: Glyph 49688 (\\N{HANGUL SYLLABLE SU}) missing from current font.\n",
      "  fig.canvas.print_figure(bytes_io, **kw)\n"
     ]
    },
    {
     "data": {
      "image/png": "[encoded data removed]",
      "text/plain": [
       "<Figure size 640x480 with 1 Axes>"
      ]
     },
     "metadata": {},
     "output_type": "display_data"
    }
   ],
   "source": [
    "sns.set()\n",
    "sns.distplot(df['강좌정원수'].apply(lambda x: math.exp(x)))\n",
    "plt.show()\n",
    "plt.rcParams['font.family']='Malgun Gothic'"
   ]
  },
  {
   "cell_type": "code",
   "execution_count": 43,
   "id": "50ef5f9a",
   "metadata": {},
   "outputs": [
    {
     "data": {
      "text/plain": [
       "array(['서울시청자미디어센터', '울산시청자미디어센터', '강원시청자미디어센터', '대전시청자미디어센터',\n",
       "       '광주시청자미디어센터', '부산시청자미디어센터', '인천시청자미디어센터', '충북시청자미디어센터'],\n",
       "      dtype=object)"
      ]
     },
     "execution_count": 43,
     "metadata": {},
     "output_type": "execute_result"
    }
   ],
   "source": [
    "df['센터명'].unique()"
   ]
  },
  {
   "cell_type": "code",
   "execution_count": 49,
   "id": "b3db3e49",
   "metadata": {},
   "outputs": [
    {
     "data": {
      "text/plain": [
       "인천시청자미디어센터    28\n",
       "부산시청자미디어센터    26\n",
       "울산시청자미디어센터    24\n",
       "서울시청자미디어센터     6\n",
       "강원시청자미디어센터     4\n",
       "대전시청자미디어센터     4\n",
       "충북시청자미디어센터     4\n",
       "광주시청자미디어센터     3\n",
       "Name: 센터명, dtype: int64"
      ]
     },
     "execution_count": 49,
     "metadata": {},
     "output_type": "execute_result"
    }
   ],
   "source": [
    "df['센터명'].value_counts()"
   ]
  },
  {
   "cell_type": "code",
   "execution_count": 50,
   "id": "5da717f3",
   "metadata": {},
   "outputs": [
    {
     "data": {
      "text/plain": [
       "34"
      ]
     },
     "execution_count": 50,
     "metadata": {},
     "output_type": "execute_result"
    }
   ],
   "source": [
    "capital_area = df['센터명'].value_counts()[0]+df['센터명'].value_counts()[3]"
   ]
  },
  {
   "cell_type": "code",
   "execution_count": 61,
   "id": "ea87cdb5",
   "metadata": {},
   "outputs": [],
   "source": [
    "non_capital_area = len(df.index) - (df['센터명'].value_counts()[0]+df['센터명'].value_counts()[3])"
   ]
  },
  {
   "cell_type": "code",
   "execution_count": 62,
   "id": "b73f54cc",
   "metadata": {},
   "outputs": [
    {
     "data": {
      "text/plain": [
       "65"
      ]
     },
     "execution_count": 62,
     "metadata": {},
     "output_type": "execute_result"
    }
   ],
   "source": [
    "non_capital_area"
   ]
  },
  {
   "cell_type": "code",
   "execution_count": 77,
   "id": "3ba1ff4b",
   "metadata": {},
   "outputs": [],
   "source": [
    "def check_loc(x):\n",
    "    if '서울' in x or '인천' in x:\n",
    "        return '수도권'\n",
    "    else:\n",
    "        return '비수도권'\n",
    "\n",
    "df['수도권']=df['센터명'].apply(lambda x:check_loc(x))\n",
    "cap=df[df['수도권']=='수도권']['강좌정원수']\n",
    "non_cap=df[df['수도권']!='수도권']['강좌정원수']"
   ]
  },
  {
   "cell_type": "code",
   "execution_count": 78,
   "id": "208e94ba",
   "metadata": {},
   "outputs": [
    {
     "data": {
      "text/plain": [
       "6     25\n",
       "7     25\n",
       "8     25\n",
       "9     25\n",
       "10    25\n",
       "      ..\n",
       "66    20\n",
       "95    15\n",
       "96    15\n",
       "97    15\n",
       "98    15\n",
       "Name: 강좌정원수, Length: 65, dtype: int64"
      ]
     },
     "execution_count": 78,
     "metadata": {},
     "output_type": "execute_result"
    }
   ],
   "source": [
    "non_cap"
   ]
  },
  {
   "cell_type": "code",
   "execution_count": 79,
   "id": "67a9848a",
   "metadata": {},
   "outputs": [],
   "source": [
    "from scipy import stats"
   ]
  },
  {
   "cell_type": "code",
   "execution_count": 80,
   "id": "d974b245",
   "metadata": {},
   "outputs": [
    {
     "data": {
      "text/plain": [
       "KstestResult(statistic=0.2339366515837104, pvalue=0.1428094183283083)"
      ]
     },
     "execution_count": 80,
     "metadata": {},
     "output_type": "execute_result"
    }
   ],
   "source": [
    "stats.ks_2samp(cap,non_cap)"
   ]
  },
  {
   "cell_type": "code",
   "execution_count": 82,
   "id": "289db88b",
   "metadata": {},
   "outputs": [
    {
     "data": {
      "text/plain": [
       "Ttest_indResult(statistic=-1.678276931472426, pvalue=0.09651215594511886)"
      ]
     },
     "execution_count": 82,
     "metadata": {},
     "output_type": "execute_result"
    }
   ],
   "source": [
    "stats.ttest_ind(cap,non_cap, equal_var=True)"
   ]
  },
  {
   "cell_type": "code",
   "execution_count": 83,
   "id": "8d5ec5d6",
   "metadata": {},
   "outputs": [
    {
     "data": {
      "text/plain": [
       "Ttest_indResult(statistic=-1.6279550334641488, pvalue=0.1086317648332615)"
      ]
     },
     "execution_count": 83,
     "metadata": {},
     "output_type": "execute_result"
    }
   ],
   "source": [
    "stats.ttest_ind(cap,non_cap, equal_var=False)"
   ]
  },
  {
   "cell_type": "code",
   "execution_count": 84,
   "id": "6411f732",
   "metadata": {},
   "outputs": [
    {
     "ename": "NameError",
     "evalue": "name 'ttest' is not defined",
     "output_type": "error",
     "traceback": [
      "\u001b[1;31m---------------------------------------------------------------------------\u001b[0m",
      "\u001b[1;31mNameError\u001b[0m                                 Traceback (most recent call last)",
      "\u001b[1;32m~\\AppData\\Local\\Temp\\ipykernel_15012\\1910140487.py\u001b[0m in \u001b[0;36m<module>\u001b[1;34m\u001b[0m\n\u001b[1;32m----> 1\u001b[1;33m \u001b[0mttest\u001b[0m\u001b[1;33m.\u001b[0m\u001b[0mlnd\u001b[0m\u001b[1;33m\u001b[0m\u001b[1;33m\u001b[0m\u001b[0m\n\u001b[0m\u001b[0;32m      2\u001b[0m \u001b[0mequal_war\u001b[0m \u001b[1;33m=\u001b[0m \u001b[1;32mTrue\u001b[0m\u001b[1;33m\u001b[0m\u001b[1;33m\u001b[0m\u001b[0m\n",
      "\u001b[1;31mNameError\u001b[0m: name 'ttest' is not defined"
     ]
    }
   ],
   "source": [
    "ttest.lnd\n",
    "equal_war = True"
   ]
  },
  {
   "cell_type": "code",
   "execution_count": null,
   "id": "ab543565",
   "metadata": {},
   "outputs": [],
   "source": []
  }
 ],
 "metadata": {
  "kernelspec": {
   "display_name": "Python 3 (ipykernel)",
   "language": "python",
   "name": "python3"
  },
  "language_info": {
   "codemirror_mode": {
    "name": "ipython",
    "version": 3
   },
   "file_extension": ".py",
   "mimetype": "text/x-python",
   "name": "python",
   "nbconvert_exporter": "python",
   "pygments_lexer": "ipython3",
   "version": "3.9.13"
  }
 },
 "nbformat": 4,
 "nbformat_minor": 5
}
