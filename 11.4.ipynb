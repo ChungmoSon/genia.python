{
 "cells": [
  {
   "cell_type": "code",
   "execution_count": 3,
   "id": "704116b6",
   "metadata": {},
   "outputs": [
    {
     "name": "stdout",
     "output_type": "stream",
     "text": [
      "10444\n",
      "-870076\n",
      "22528399544939174411840147874772641\n",
      "1\n",
      "3\n"
     ]
    }
   ],
   "source": [
    "print(9988+456)\n",
    "print(9936-880012)\n",
    "print(3**72)\n",
    "print(7//4)\n",
    "print(7%4)"
   ]
  },
  {
   "cell_type": "code",
   "execution_count": 9,
   "id": "37ab5054",
   "metadata": {},
   "outputs": [
    {
     "name": "stdout",
     "output_type": "stream",
     "text": [
      "3 is odd\n",
      "72 is even\n",
      "99 is odd\n",
      "108 is even\n",
      "40 is even\n",
      "5 is odd\n"
     ]
    }
   ],
   "source": [
    "l = [3,72,99,108,40,5]\n",
    "for i in l:\n",
    "    if i%2==0: print(i,\"is even\")\n",
    "    else: print(i,\"is odd\")"
   ]
  },
  {
   "cell_type": "code",
   "execution_count": 16,
   "id": "bcf43233",
   "metadata": {},
   "outputs": [
    {
     "name": "stdout",
     "output_type": "stream",
     "text": [
      "[99, 4, 8, 7.2, [6], 'hello']\n"
     ]
    }
   ],
   "source": [
    "l = [4]\n",
    "l.insert(0, 99)\n",
    "t = (8, 7.2, [6], 'hello')\n",
    "l.extend(t)\n",
    "print(l)"
   ]
  },
  {
   "cell_type": "code",
   "execution_count": 24,
   "id": "0fc397be",
   "metadata": {},
   "outputs": [
    {
     "name": "stdout",
     "output_type": "stream",
     "text": [
      "(65.45, 9, [86], 2.24, 'qi')\n"
     ]
    }
   ],
   "source": [
    "t = (4, 9, [77], 0.32, 'qi')\n",
    "lt = list(t)\n",
    "lt[2][0] += 9\n",
    "lt[3] *= 7\n",
    "lt[0] = 65.45\n",
    "print(tuple(lt))"
   ]
  },
  {
   "cell_type": "code",
   "execution_count": 50,
   "id": "fd937665",
   "metadata": {},
   "outputs": [
    {
     "name": "stdout",
     "output_type": "stream",
     "text": [
      "\n",
      "POOOOOOO\n",
      "OOOOOOOO\n",
      "OOOOOOXO\n",
      "OOOOOOOO\n",
      "OOOOOOOA\n",
      "SOOOOOOO\n",
      "OOOOOOOO\n",
      "OOOOOOOF\n"
     ]
    }
   ],
   "source": [
    "l = list(range(8))\n",
    "print()\n",
    "for i in l:\n",
    "    for j in l:\n",
    "        if i == 2 and j == 6: print('X', end = '')\n",
    "        elif i == 0 and j == 0: print('P', end = '')\n",
    "        elif i == 7 and j == 7: print('F', end = '')\n",
    "        elif i == 5  and j == 0: print('S', end = '')\n",
    "        elif i == len(l)/2  and j == len(l)-1: print('A', end = '')    \n",
    "        else: print('O', end = '')\n",
    "    print()"
   ]
  },
  {
   "cell_type": "code",
   "execution_count": 67,
   "id": "62906576",
   "metadata": {},
   "outputs": [
    {
     "name": "stdout",
     "output_type": "stream",
     "text": [
      "[3, 3, 3, 3, 4, 4, 4, 5, 5, 5, 5, 6, 6, 6, 7, 7, 7, 7, 8, 8, 8, 9, 9, 9, 9, 10, 10, 10, 11, 11, 11, 11, 12, 12, 12, 13, 13, 13, 13]\n"
     ]
    }
   ],
   "source": [
    "l = [i//7 for i in range(21,99,2)]\n",
    "print(l)"
   ]
  },
  {
   "cell_type": "code",
   "execution_count": 137,
   "id": "baddb292",
   "metadata": {
    "scrolled": true
   },
   "outputs": [
    {
     "name": "stdout",
     "output_type": "stream",
     "text": [
      "Enter a number: 5\n",
      "1 +2 +3 +4 +5 += 15\n"
     ]
    }
   ],
   "source": [
    "n = int(input(\"Enter a number: \"))\n",
    "if n % 2 == 0:\n",
    "    for i in range(n):\n",
    "        print(i)\n",
    "else:\n",
    "    for i in range(n):\n",
    "        print(i+1,'+', end='')\n",
    "    print('=',n*(n+1)//2)"
   ]
  }
 ],
 "metadata": {
  "kernelspec": {
   "display_name": "Python 3 (ipykernel)",
   "language": "python",
   "name": "python3"
  },
  "language_info": {
   "codemirror_mode": {
    "name": "ipython",
    "version": 3
   },
   "file_extension": ".py",
   "mimetype": "text/x-python",
   "name": "python",
   "nbconvert_exporter": "python",
   "pygments_lexer": "ipython3",
   "version": "3.9.13"
  }
 },
 "nbformat": 4,
 "nbformat_minor": 5
}
