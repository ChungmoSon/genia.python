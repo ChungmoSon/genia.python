{
 "cells": [
  {
   "cell_type": "code",
   "execution_count": 11,
   "id": "9feb59be",
   "metadata": {},
   "outputs": [
    {
     "name": "stdout",
     "output_type": "stream",
     "text": [
      ", 파이썬 수업 3차시입니다. 안녕하세요, 파이썬 수업 3차시입니다. \n",
      ", 파이썬 수업 3차시입니다. 안녕하세요, 파이썬 수업 3차시입니다. \n"
     ]
    }
   ],
   "source": [
    "str = \"안녕하세요, 파이썬 수업 3차시입니다. 안녕하세요, 파이썬 수업 3차시입니다. 안녕하세요.\"\n",
    "print(str.strip('안녕하세요.'))\n",
    "str = \"안녕하세요, 파이썬 수업 3차시입니다. 안녕하세요, 파이썬 수업 3차시입니다. 안녕하세요\"\n",
    "print(str.strip('안녕하세요'))"
   ]
  },
  {
   "cell_type": "code",
   "execution_count": 14,
   "id": "b2688734",
   "metadata": {},
   "outputs": [
    {
     "name": "stdout",
     "output_type": "stream",
     "text": [
      "* * * * *\n",
      "    * * * "
     ]
    }
   ],
   "source": [
    "print('*', end = ' ')\n",
    "print('*', end = ' ')\n",
    "print('*', end = ' ')\n",
    "print('*', end = ' ')\n",
    "print('*')\n",
    "print('    *',end = ' ')\n",
    "print('*',end = ' ')\n",
    "print('*',end = ' ')"
   ]
  },
  {
   "cell_type": "code",
   "execution_count": 12,
   "id": "42d4c00d",
   "metadata": {},
   "outputs": [
    {
     "name": "stdout",
     "output_type": "stream",
     "text": [
      "* * * * *\n",
      "    * * *\n"
     ]
    }
   ],
   "source": [
    "print('''* * * * *\n",
    "    * * *''')"
   ]
  },
  {
   "cell_type": "code",
   "execution_count": 1,
   "id": "a9dd9d2b",
   "metadata": {},
   "outputs": [
    {
     "name": "stdout",
     "output_type": "stream",
     "text": [
      "30\n",
      "15\n",
      "10\n",
      "7\n",
      "6\n",
      "5\n",
      "4\n",
      "3\n",
      "3\n",
      "3\n"
     ]
    }
   ],
   "source": [
    "for i in range(1, 11):\n",
    "    print(30 // i)"
   ]
  },
  {
   "cell_type": "code",
   "execution_count": 2,
   "id": "b18efa60",
   "metadata": {},
   "outputs": [
    {
     "name": "stdout",
     "output_type": "stream",
     "text": [
      "안녕하세요, Nov 3rd 파이썬 3차시입니다\n",
      "안녕하세요, Nov 3rd 파이썬 3차시입니다\n",
      "안녕하세요, Nov 3rd 파이썬 3차시입니다\n"
     ]
    }
   ],
   "source": [
    "today = \"Nov 3rd\"\n",
    "\n",
    "print(\"안녕하세요, %s 파이썬 3차시입니다\"%today)\n",
    "\n",
    "print(f\"안녕하세요, {today} 파이썬 3차시입니다\")\n",
    "\n",
    "print(\"안녕하세요, {} 파이썬 3차시입니다\".format(today))"
   ]
  },
  {
   "cell_type": "markdown",
   "id": "1c110b94",
   "metadata": {},
   "source": [
    "def my_function(x,y):\n",
    "    for i in range(x,y):\n",
    "        print('hello')\n",
    "    print()\n",
    "\n",
    "my_function(4,8)\n",
    "my_function(9,12)\n",
    "my_function(16,20)"
   ]
  },
  {
   "cell_type": "code",
   "execution_count": 1,
   "id": "9d52a317",
   "metadata": {},
   "outputs": [
    {
     "name": "stdout",
     "output_type": "stream",
     "text": [
      "[1, 2, 3]\n",
      "[4, 5, 6]\n",
      "[7, 8, 9]\n"
     ]
    }
   ],
   "source": [
    "l=[[1,2,3],[4,5,6],[7,8,9]]\n",
    "for i  in l:\n",
    "    print(i)"
   ]
  },
  {
   "cell_type": "code",
   "execution_count": 27,
   "id": "34c7dd83",
   "metadata": {},
   "outputs": [
    {
     "name": "stdout",
     "output_type": "stream",
     "text": [
      "9 6 3 5 4 8 7 5 \n",
      "9 6 3 5 4 8 7 5 \n",
      "9 6 3 5 4 8 7 5 \n",
      "9 6 3 5 4 8 7 5 \n",
      "9 6 3 5 4 8 7 5 \n",
      "9 6 3 5 4 8 7 5 \n",
      "9 6 3 5 4 8 7 5 \n",
      "9 6 3 5 4 8 7 5 \n"
     ]
    }
   ],
   "source": [
    "for i in list(range(8)):\n",
    "    for j in [9,6,3,5,4,8,7,5]:\n",
    "        print(j, end = ' ')\n",
    "    print()"
   ]
  },
  {
   "cell_type": "code",
   "execution_count": 30,
   "id": "453cfaae",
   "metadata": {},
   "outputs": [
    {
     "name": "stdout",
     "output_type": "stream",
     "text": [
      "[0, 1, 1, 1, 2, 2, 2, 3, 3, 3, 4, 4, 4, 5, 5, 5, 6, 6, 6, 7, 7, 7, 8, 8, 8, 9, 9, 9, 10, 10, 10, 11, 11, 11, 12, 12, 12, 13, 13, 13]\n"
     ]
    }
   ],
   "source": [
    "C = [i//3 for i in range(2,42)]\n",
    "print(C)"
   ]
  },
  {
   "cell_type": "code",
   "execution_count": 40,
   "id": "5ccd5a9b",
   "metadata": {},
   "outputs": [
    {
     "name": "stdout",
     "output_type": "stream",
     "text": [
      "오늘은% 문자열을% 배웠고 \n",
      " % 그% 지식을% 이용해문자열% 수정을% 해% 봅시다% \n"
     ]
    }
   ],
   "source": [
    "str = \"오늘은\\t문자열을\\t배웠고,\\t그\\t지식을\\t이용해문자열\\t수정을\\t해\\t봅시다\\n\"\n",
    "str1 = str.replace('\\t','% ').replace('\\n','% ')\n",
    "print(str1.split(',')[0],'\\n',str1.split(',')[1])"
   ]
  }
 ],
 "metadata": {
  "kernelspec": {
   "display_name": "Python 3 (ipykernel)",
   "language": "python",
   "name": "python3"
  },
  "language_info": {
   "codemirror_mode": {
    "name": "ipython",
    "version": 3
   },
   "file_extension": ".py",
   "mimetype": "text/x-python",
   "name": "python",
   "nbconvert_exporter": "python",
   "pygments_lexer": "ipython3",
   "version": "3.9.13"
  }
 },
 "nbformat": 4,
 "nbformat_minor": 5
}
