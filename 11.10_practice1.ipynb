{
 "cells": [
  {
   "cell_type": "code",
   "execution_count": 1,
   "id": "3d213240",
   "metadata": {},
   "outputs": [],
   "source": [
    "import numpy as np"
   ]
  },
  {
   "cell_type": "code",
   "execution_count": 4,
   "id": "87bc125d",
   "metadata": {
    "scrolled": true
   },
   "outputs": [
    {
     "name": "stdout",
     "output_type": "stream",
     "text": [
      "1 th game! Let's roll a dice two times!\n",
      "Is the 1st number bigger than the 2nd number?(Y for yes/ N for no/ X for exit): Y\n",
      "\n",
      "You are wrong!\n",
      "The 1st number is 2 The 2nd number is 3\n",
      "Your score is  0\n",
      "\n",
      "\n",
      "2 th game! Let's roll a dice two times!\n",
      "Is the 1st number bigger than the 2nd number?(Y for yes/ N for no/ X for exit): X\n",
      "\n",
      "Bye. The program has ended\n"
     ]
    }
   ],
   "source": [
    "import time\n",
    "try_num = 1\n",
    "score = 0\n",
    "\n",
    "while 1:\n",
    "    \n",
    "    print(try_num,\"th game! Let's roll a dice two times!\")\n",
    "    \n",
    "    time.sleep(1)\n",
    "    \n",
    "    dice = np.random.randint(1, high = 7, size = 2)\n",
    "    choice = input(\"Is the 1st number bigger than the 2nd number?(Y for yes/ N for no/ X for exit): \")\n",
    "    \n",
    "    if (choice == 'Y' and list(dice)[0] > list(dice)[1]) or (choice == 'N' and list(dice)[0] < list(dice)[1]):\n",
    "        print()\n",
    "        print(\"You are correct!\")\n",
    "        print(\"The 1st number is\",dice[0],\"The 2nd number is\",dice[1])\n",
    "        try_num += 1\n",
    "        score += 1\n",
    "     \n",
    "    elif choice == 'X':\n",
    "        break\n",
    "\n",
    "    elif choice != 'X' and choice != 'Y' and choice != 'N':\n",
    "        print()\n",
    "        print(\"Please input Y,N or X\")\n",
    "        \n",
    "    elif list(dice)[0] == list(dice)[1]:\n",
    "        print(\"The numbers are the same. Let's roll again\")\n",
    "     \n",
    "    else:\n",
    "        print()\n",
    "        print(\"You are wrong!\")\n",
    "        print(\"The 1st number is\", dice[0], \"The 2nd number is\", dice[1])\n",
    "        try_num += 1\n",
    "    print(\"Your score is \",score)\n",
    "    print()\n",
    "    print()\n",
    "    \n",
    "print()     \n",
    "print(\"Bye. The program has ended\")"
   ]
  }
 ],
 "metadata": {
  "kernelspec": {
   "display_name": "Python 3 (ipykernel)",
   "language": "python",
   "name": "python3"
  },
  "language_info": {
   "codemirror_mode": {
    "name": "ipython",
    "version": 3
   },
   "file_extension": ".py",
   "mimetype": "text/x-python",
   "name": "python",
   "nbconvert_exporter": "python",
   "pygments_lexer": "ipython3",
   "version": "3.9.13"
  }
 },
 "nbformat": 4,
 "nbformat_minor": 5
}
