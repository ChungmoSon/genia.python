{
 "cells": [
  {
   "cell_type": "code",
   "execution_count": 4,
   "id": "821cc69e",
   "metadata": {},
   "outputs": [],
   "source": [
    "import pandas as pd"
   ]
  },
  {
   "cell_type": "code",
   "execution_count": 5,
   "id": "a249f920",
   "metadata": {},
   "outputs": [],
   "source": [
    "df = pd.read_csv('./시청자미디어재단_체험형미디어교육_20221109.csv',encoding='cp949')"
   ]
  },
  {
   "cell_type": "code",
   "execution_count": 4,
   "id": "966c5825",
   "metadata": {},
   "outputs": [
    {
     "data": {
      "text/html": [
       "<div>\n",
       "<style scoped>\n",
       "    .dataframe tbody tr th:only-of-type {\n",
       "        vertical-align: middle;\n",
       "    }\n",
       "\n",
       "    .dataframe tbody tr th {\n",
       "        vertical-align: top;\n",
       "    }\n",
       "\n",
       "    .dataframe thead th {\n",
       "        text-align: right;\n",
       "    }\n",
       "</style>\n",
       "<table border=\"1\" class=\"dataframe\">\n",
       "  <thead>\n",
       "    <tr style=\"text-align: right;\">\n",
       "      <th></th>\n",
       "      <th>센터명</th>\n",
       "      <th>강좌명</th>\n",
       "      <th>강사명</th>\n",
       "      <th>교육시작일자</th>\n",
       "      <th>교육종료일자</th>\n",
       "      <th>강좌내용</th>\n",
       "      <th>교육대상구분</th>\n",
       "      <th>교육방법구분</th>\n",
       "      <th>운영요일</th>\n",
       "      <th>강좌정원수</th>\n",
       "      <th>데이터기준일자</th>\n",
       "    </tr>\n",
       "  </thead>\n",
       "  <tbody>\n",
       "    <tr>\n",
       "      <th>0</th>\n",
       "      <td>서울시청자미디어센터</td>\n",
       "      <td>상설미디어체험 교육</td>\n",
       "      <td>이수현,김민호</td>\n",
       "      <td>2022-11-12</td>\n",
       "      <td>2022-11-26</td>\n",
       "      <td>상설미디어체험(뉴스앵커체험 등)</td>\n",
       "      <td>일반</td>\n",
       "      <td>오프라인</td>\n",
       "      <td>토</td>\n",
       "      <td>25</td>\n",
       "      <td>2022-11-09</td>\n",
       "    </tr>\n",
       "    <tr>\n",
       "      <th>1</th>\n",
       "      <td>서울시청자미디어센터</td>\n",
       "      <td>찾아가는미디어나눔버스 체험 교육</td>\n",
       "      <td>김도경,이수현</td>\n",
       "      <td>2022-11-21</td>\n",
       "      <td>2022-11-21</td>\n",
       "      <td>찾아가는미디어나눔버스 체험</td>\n",
       "      <td>청소년</td>\n",
       "      <td>오프라인</td>\n",
       "      <td>월</td>\n",
       "      <td>25</td>\n",
       "      <td>2022-11-09</td>\n",
       "    </tr>\n",
       "  </tbody>\n",
       "</table>\n",
       "</div>"
      ],
      "text/plain": [
       "          센터명                강좌명      강사명      교육시작일자      교육종료일자  \\\n",
       "0  서울시청자미디어센터         상설미디어체험 교육  이수현,김민호  2022-11-12  2022-11-26   \n",
       "1  서울시청자미디어센터  찾아가는미디어나눔버스 체험 교육  김도경,이수현  2022-11-21  2022-11-21   \n",
       "\n",
       "                강좌내용 교육대상구분 교육방법구분 운영요일  강좌정원수     데이터기준일자  \n",
       "0  상설미디어체험(뉴스앵커체험 등)     일반   오프라인    토     25  2022-11-09  \n",
       "1     찾아가는미디어나눔버스 체험    청소년   오프라인    월     25  2022-11-09  "
      ]
     },
     "execution_count": 4,
     "metadata": {},
     "output_type": "execute_result"
    }
   ],
   "source": [
    "df.head(2)"
   ]
  },
  {
   "cell_type": "markdown",
   "id": "0461a7ff",
   "metadata": {},
   "source": [
    "## 실습 - 데이터 이산화\n",
    "* 위 데이터프레임에서 임의의 데이터를 이산화해 보자\n",
    "* 이산화한 데이터는 0 or 1로 나타낼 수 있어야 한다\n",
    "* 이산화한 데이터의 두 범주는 모든 값을 포함해야 한다\n",
    "* 이산화를 했을 때 합당한 논리가 있어야 한다"
   ]
  },
  {
   "cell_type": "code",
   "execution_count": 6,
   "id": "c6b23212",
   "metadata": {},
   "outputs": [
    {
     "data": {
      "text/plain": [
       "array([25, 20, 15, 50, 10, 40, 14, 12, 28, 23,  8,  4, 21, 17],\n",
       "      dtype=int64)"
      ]
     },
     "execution_count": 6,
     "metadata": {},
     "output_type": "execute_result"
    }
   ],
   "source": [
    "df['강좌정원수'].unique()"
   ]
  },
  {
   "cell_type": "code",
   "execution_count": 4,
   "id": "315c7328",
   "metadata": {},
   "outputs": [],
   "source": [
    "mean_value = df['강좌정원수'].mean()"
   ]
  },
  {
   "cell_type": "code",
   "execution_count": 12,
   "id": "0152659f",
   "metadata": {},
   "outputs": [],
   "source": [
    "binary_data = df['강좌정원수'] > mean_value"
   ]
  },
  {
   "cell_type": "code",
   "execution_count": 14,
   "id": "55ffdabf",
   "metadata": {},
   "outputs": [],
   "source": [
    "df['binaty_data'] = [int(b) for b in binary_data]"
   ]
  },
  {
   "cell_type": "code",
   "execution_count": 15,
   "id": "21472290",
   "metadata": {},
   "outputs": [
    {
     "data": {
      "text/html": [
       "<div>\n",
       "<style scoped>\n",
       "    .dataframe tbody tr th:only-of-type {\n",
       "        vertical-align: middle;\n",
       "    }\n",
       "\n",
       "    .dataframe tbody tr th {\n",
       "        vertical-align: top;\n",
       "    }\n",
       "\n",
       "    .dataframe thead th {\n",
       "        text-align: right;\n",
       "    }\n",
       "</style>\n",
       "<table border=\"1\" class=\"dataframe\">\n",
       "  <thead>\n",
       "    <tr style=\"text-align: right;\">\n",
       "      <th></th>\n",
       "      <th>센터명</th>\n",
       "      <th>강좌명</th>\n",
       "      <th>강사명</th>\n",
       "      <th>교육시작일자</th>\n",
       "      <th>교육종료일자</th>\n",
       "      <th>강좌내용</th>\n",
       "      <th>교육대상구분</th>\n",
       "      <th>교육방법구분</th>\n",
       "      <th>운영요일</th>\n",
       "      <th>강좌정원수</th>\n",
       "      <th>데이터기준일자</th>\n",
       "      <th>binaty_data</th>\n",
       "    </tr>\n",
       "  </thead>\n",
       "  <tbody>\n",
       "    <tr>\n",
       "      <th>0</th>\n",
       "      <td>서울시청자미디어센터</td>\n",
       "      <td>상설미디어체험 교육</td>\n",
       "      <td>이수현,김민호</td>\n",
       "      <td>2022-11-12</td>\n",
       "      <td>2022-11-26</td>\n",
       "      <td>상설미디어체험(뉴스앵커체험 등)</td>\n",
       "      <td>일반</td>\n",
       "      <td>오프라인</td>\n",
       "      <td>토</td>\n",
       "      <td>25</td>\n",
       "      <td>2022-11-09</td>\n",
       "      <td>1</td>\n",
       "    </tr>\n",
       "    <tr>\n",
       "      <th>1</th>\n",
       "      <td>서울시청자미디어센터</td>\n",
       "      <td>찾아가는미디어나눔버스 체험 교육</td>\n",
       "      <td>김도경,이수현</td>\n",
       "      <td>2022-11-21</td>\n",
       "      <td>2022-11-21</td>\n",
       "      <td>찾아가는미디어나눔버스 체험</td>\n",
       "      <td>청소년</td>\n",
       "      <td>오프라인</td>\n",
       "      <td>월</td>\n",
       "      <td>25</td>\n",
       "      <td>2022-11-09</td>\n",
       "      <td>1</td>\n",
       "    </tr>\n",
       "    <tr>\n",
       "      <th>2</th>\n",
       "      <td>서울시청자미디어센터</td>\n",
       "      <td>찾아가는미디어나눔버스 체험</td>\n",
       "      <td>김도경,이수현</td>\n",
       "      <td>2022-11-22</td>\n",
       "      <td>2022-11-22</td>\n",
       "      <td>찾아가는미디어나눔버스 체험</td>\n",
       "      <td>청소년</td>\n",
       "      <td>오프라인</td>\n",
       "      <td>화</td>\n",
       "      <td>25</td>\n",
       "      <td>2022-11-09</td>\n",
       "      <td>1</td>\n",
       "    </tr>\n",
       "    <tr>\n",
       "      <th>3</th>\n",
       "      <td>서울시청자미디어센터</td>\n",
       "      <td>찾아가는미디어나눔버스 체험</td>\n",
       "      <td>김도경,이수현</td>\n",
       "      <td>2022-11-23</td>\n",
       "      <td>2022-11-23</td>\n",
       "      <td>찾아가는미디어나눔버스 체험</td>\n",
       "      <td>청소년</td>\n",
       "      <td>오프라인</td>\n",
       "      <td>수</td>\n",
       "      <td>25</td>\n",
       "      <td>2022-11-09</td>\n",
       "      <td>1</td>\n",
       "    </tr>\n",
       "    <tr>\n",
       "      <th>4</th>\n",
       "      <td>서울시청자미디어센터</td>\n",
       "      <td>찾아가는미디어나눔버스 체험</td>\n",
       "      <td>김도경,이수현</td>\n",
       "      <td>2022-11-25</td>\n",
       "      <td>2022-11-25</td>\n",
       "      <td>찾아가는미디어나눔버스 체험</td>\n",
       "      <td>청소년</td>\n",
       "      <td>오프라인</td>\n",
       "      <td>금</td>\n",
       "      <td>25</td>\n",
       "      <td>2022-11-09</td>\n",
       "      <td>1</td>\n",
       "    </tr>\n",
       "    <tr>\n",
       "      <th>...</th>\n",
       "      <td>...</td>\n",
       "      <td>...</td>\n",
       "      <td>...</td>\n",
       "      <td>...</td>\n",
       "      <td>...</td>\n",
       "      <td>...</td>\n",
       "      <td>...</td>\n",
       "      <td>...</td>\n",
       "      <td>...</td>\n",
       "      <td>...</td>\n",
       "      <td>...</td>\n",
       "      <td>...</td>\n",
       "    </tr>\n",
       "    <tr>\n",
       "      <th>94</th>\n",
       "      <td>인천시청자미디어센터</td>\n",
       "      <td>찾아가는 미디어나눔버스(TV뉴스체험)</td>\n",
       "      <td>류은애,김은자</td>\n",
       "      <td>2022-11-30</td>\n",
       "      <td>2022-11-30</td>\n",
       "      <td>TV 뉴스 제작 및 영상합성 크로마키 체험</td>\n",
       "      <td>중학생</td>\n",
       "      <td>오프라인</td>\n",
       "      <td>수</td>\n",
       "      <td>25</td>\n",
       "      <td>2022-11-09</td>\n",
       "      <td>1</td>\n",
       "    </tr>\n",
       "    <tr>\n",
       "      <th>95</th>\n",
       "      <td>충북시청자미디어센터</td>\n",
       "      <td>TV체험(뉴스체험)</td>\n",
       "      <td>미정</td>\n",
       "      <td>2022-11-01</td>\n",
       "      <td>2022-11-30</td>\n",
       "      <td>아나운서, 기자, 기상캐스터 등 역할을 나누어 뉴스 제작 과정을 체험해보는 프로그램</td>\n",
       "      <td>초등학생 이상</td>\n",
       "      <td>오프라인</td>\n",
       "      <td>월,화,수,목,금,토</td>\n",
       "      <td>15</td>\n",
       "      <td>2022-11-09</td>\n",
       "      <td>0</td>\n",
       "    </tr>\n",
       "    <tr>\n",
       "      <th>96</th>\n",
       "      <td>충북시청자미디어센터</td>\n",
       "      <td>라디오체험(DJ체험)</td>\n",
       "      <td>미정</td>\n",
       "      <td>2022-11-01</td>\n",
       "      <td>2022-11-30</td>\n",
       "      <td>라디오 프로그램을 작가, DJ, 게스트가 되어 라디오 프로그램을 제작해보는 체험</td>\n",
       "      <td>초등학생 이상</td>\n",
       "      <td>오프라인</td>\n",
       "      <td>월,화,수,목,금,토</td>\n",
       "      <td>15</td>\n",
       "      <td>2022-11-09</td>\n",
       "      <td>0</td>\n",
       "    </tr>\n",
       "    <tr>\n",
       "      <th>97</th>\n",
       "      <td>충북시청자미디어센터</td>\n",
       "      <td>유아 크로마키 체험</td>\n",
       "      <td>미정</td>\n",
       "      <td>2022-11-01</td>\n",
       "      <td>2022-11-30</td>\n",
       "      <td>유아 대상 크로마키를 통해 다양한 놀이를 해보는 체험</td>\n",
       "      <td>6~7세</td>\n",
       "      <td>오프라인</td>\n",
       "      <td>월,화,수,목,금,토</td>\n",
       "      <td>15</td>\n",
       "      <td>2022-11-09</td>\n",
       "      <td>0</td>\n",
       "    </tr>\n",
       "    <tr>\n",
       "      <th>98</th>\n",
       "      <td>충북시청자미디어센터</td>\n",
       "      <td>AI 체험</td>\n",
       "      <td>미정</td>\n",
       "      <td>2022-11-01</td>\n",
       "      <td>2022-11-30</td>\n",
       "      <td>인공지능에 대해 이해하고 머신러닝을 여러 방법으로 알아보는 체험</td>\n",
       "      <td>초등학생 이상</td>\n",
       "      <td>오프라인</td>\n",
       "      <td>월,화,수,목,금,토</td>\n",
       "      <td>15</td>\n",
       "      <td>2022-11-09</td>\n",
       "      <td>0</td>\n",
       "    </tr>\n",
       "  </tbody>\n",
       "</table>\n",
       "<p>99 rows × 12 columns</p>\n",
       "</div>"
      ],
      "text/plain": [
       "           센터명                   강좌명      강사명      교육시작일자      교육종료일자  \\\n",
       "0   서울시청자미디어센터            상설미디어체험 교육  이수현,김민호  2022-11-12  2022-11-26   \n",
       "1   서울시청자미디어센터     찾아가는미디어나눔버스 체험 교육  김도경,이수현  2022-11-21  2022-11-21   \n",
       "2   서울시청자미디어센터        찾아가는미디어나눔버스 체험  김도경,이수현  2022-11-22  2022-11-22   \n",
       "3   서울시청자미디어센터        찾아가는미디어나눔버스 체험  김도경,이수현  2022-11-23  2022-11-23   \n",
       "4   서울시청자미디어센터        찾아가는미디어나눔버스 체험  김도경,이수현  2022-11-25  2022-11-25   \n",
       "..         ...                   ...      ...         ...         ...   \n",
       "94  인천시청자미디어센터  찾아가는 미디어나눔버스(TV뉴스체험)  류은애,김은자  2022-11-30  2022-11-30   \n",
       "95  충북시청자미디어센터            TV체험(뉴스체험)       미정  2022-11-01  2022-11-30   \n",
       "96  충북시청자미디어센터           라디오체험(DJ체험)       미정  2022-11-01  2022-11-30   \n",
       "97  충북시청자미디어센터            유아 크로마키 체험       미정  2022-11-01  2022-11-30   \n",
       "98  충북시청자미디어센터                 AI 체험       미정  2022-11-01  2022-11-30   \n",
       "\n",
       "                                              강좌내용   교육대상구분 교육방법구분  \\\n",
       "0                                상설미디어체험(뉴스앵커체험 등)       일반   오프라인   \n",
       "1                                   찾아가는미디어나눔버스 체험      청소년   오프라인   \n",
       "2                                   찾아가는미디어나눔버스 체험      청소년   오프라인   \n",
       "3                                   찾아가는미디어나눔버스 체험      청소년   오프라인   \n",
       "4                                   찾아가는미디어나눔버스 체험      청소년   오프라인   \n",
       "..                                             ...      ...    ...   \n",
       "94                         TV 뉴스 제작 및 영상합성 크로마키 체험      중학생   오프라인   \n",
       "95  아나운서, 기자, 기상캐스터 등 역할을 나누어 뉴스 제작 과정을 체험해보는 프로그램  초등학생 이상   오프라인   \n",
       "96    라디오 프로그램을 작가, DJ, 게스트가 되어 라디오 프로그램을 제작해보는 체험  초등학생 이상   오프라인   \n",
       "97                   유아 대상 크로마키를 통해 다양한 놀이를 해보는 체험     6~7세   오프라인   \n",
       "98             인공지능에 대해 이해하고 머신러닝을 여러 방법으로 알아보는 체험  초등학생 이상   오프라인   \n",
       "\n",
       "           운영요일  강좌정원수     데이터기준일자  binaty_data  \n",
       "0             토     25  2022-11-09            1  \n",
       "1             월     25  2022-11-09            1  \n",
       "2             화     25  2022-11-09            1  \n",
       "3             수     25  2022-11-09            1  \n",
       "4             금     25  2022-11-09            1  \n",
       "..          ...    ...         ...          ...  \n",
       "94            수     25  2022-11-09            1  \n",
       "95  월,화,수,목,금,토     15  2022-11-09            0  \n",
       "96  월,화,수,목,금,토     15  2022-11-09            0  \n",
       "97  월,화,수,목,금,토     15  2022-11-09            0  \n",
       "98  월,화,수,목,금,토     15  2022-11-09            0  \n",
       "\n",
       "[99 rows x 12 columns]"
      ]
     },
     "execution_count": 15,
     "metadata": {},
     "output_type": "execute_result"
    }
   ],
   "source": [
    "df"
   ]
  },
  {
   "cell_type": "code",
   "execution_count": 2,
   "id": "4ab58cac",
   "metadata": {},
   "outputs": [],
   "source": [
    "import seaborn as sns\n",
    "import matplotlib.pyplot as plt"
   ]
  },
  {
   "cell_type": "code",
   "execution_count": 8,
   "id": "9651a0cd",
   "metadata": {},
   "outputs": [
    {
     "data": {
      "text/plain": [
       "<AxesSubplot:xlabel='강좌정원수', ylabel='Count'>"
      ]
     },
     "execution_count": 8,
     "metadata": {},
     "output_type": "execute_result"
    },
    {
     "name": "stderr",
     "output_type": "stream",
     "text": [
      "C:\\Users\\user\\anaconda3\\lib\\site-packages\\IPython\\core\\pylabtools.py:151: UserWarning: Glyph 44053 (\\N{HANGUL SYLLABLE GANG}) missing from current font.\n",
      "  fig.canvas.print_figure(bytes_io, **kw)\n",
      "C:\\Users\\user\\anaconda3\\lib\\site-packages\\IPython\\core\\pylabtools.py:151: UserWarning: Glyph 51340 (\\N{HANGUL SYLLABLE JWA}) missing from current font.\n",
      "  fig.canvas.print_figure(bytes_io, **kw)\n",
      "C:\\Users\\user\\anaconda3\\lib\\site-packages\\IPython\\core\\pylabtools.py:151: UserWarning: Glyph 51221 (\\N{HANGUL SYLLABLE JEONG}) missing from current font.\n",
      "  fig.canvas.print_figure(bytes_io, **kw)\n",
      "C:\\Users\\user\\anaconda3\\lib\\site-packages\\IPython\\core\\pylabtools.py:151: UserWarning: Glyph 50896 (\\N{HANGUL SYLLABLE WEON}) missing from current font.\n",
      "  fig.canvas.print_figure(bytes_io, **kw)\n",
      "C:\\Users\\user\\anaconda3\\lib\\site-packages\\IPython\\core\\pylabtools.py:151: UserWarning: Glyph 49688 (\\N{HANGUL SYLLABLE SU}) missing from current font.\n",
      "  fig.canvas.print_figure(bytes_io, **kw)\n"
     ]
    },
    {
     "data": {
      "image/png": "[encoded data removed]",
      "text/plain": [
       "<Figure size 640x480 with 1 Axes>"
      ]
     },
     "metadata": {},
     "output_type": "display_data"
    }
   ],
   "source": [
    "sns.histplot(df['강좌정원수'])"
   ]
  },
  {
   "cell_type": "code",
   "execution_count": 12,
   "id": "9b1caac6",
   "metadata": {},
   "outputs": [],
   "source": [
    "import math"
   ]
  },
  {
   "cell_type": "code",
   "execution_count": 16,
   "id": "a50ad49a",
   "metadata": {},
   "outputs": [
    {
     "name": "stderr",
     "output_type": "stream",
     "text": [
      "C:\\Users\\user\\anaconda3\\lib\\site-packages\\IPython\\core\\pylabtools.py:151: UserWarning: Glyph 44053 (\\N{HANGUL SYLLABLE GANG}) missing from current font.\n",
      "  fig.canvas.print_figure(bytes_io, **kw)\n",
      "C:\\Users\\user\\anaconda3\\lib\\site-packages\\IPython\\core\\pylabtools.py:151: UserWarning: Glyph 51340 (\\N{HANGUL SYLLABLE JWA}) missing from current font.\n",
      "  fig.canvas.print_figure(bytes_io, **kw)\n",
      "C:\\Users\\user\\anaconda3\\lib\\site-packages\\IPython\\core\\pylabtools.py:151: UserWarning: Glyph 51221 (\\N{HANGUL SYLLABLE JEONG}) missing from current font.\n",
      "  fig.canvas.print_figure(bytes_io, **kw)\n",
      "C:\\Users\\user\\anaconda3\\lib\\site-packages\\IPython\\core\\pylabtools.py:151: UserWarning: Glyph 50896 (\\N{HANGUL SYLLABLE WEON}) missing from current font.\n",
      "  fig.canvas.print_figure(bytes_io, **kw)\n",
      "C:\\Users\\user\\anaconda3\\lib\\site-packages\\IPython\\core\\pylabtools.py:151: UserWarning: Glyph 49688 (\\N{HANGUL SYLLABLE SU}) missing from current font.\n",
      "  fig.canvas.print_figure(bytes_io, **kw)\n"
     ]
    },
    {
     "data": {
      "image/png": "[encoded data removed]",
      "text/plain": [
       "<Figure size 640x480 with 1 Axes>"
      ]
     },
     "metadata": {},
     "output_type": "display_data"
    }
   ],
   "source": [
    "sns.histplot(df['강좌정원수'].apply(lambda x: math.log2(x)))\n",
    "plt.show()"
   ]
  },
  {
   "cell_type": "code",
   "execution_count": 24,
   "id": "867325c8",
   "metadata": {
    "scrolled": true
   },
   "outputs": [
    {
     "name": "stderr",
     "output_type": "stream",
     "text": [
      "C:\\ProgramData\\Anaconda3\\lib\\site-packages\\seaborn\\distributions.py:2619: FutureWarning: `distplot` is a deprecated function and will be removed in a future version. Please adapt your code to use either `displot` (a figure-level function with similar flexibility) or `histplot` (an axes-level function for histograms).\n",
      "  warnings.warn(msg, FutureWarning)\n",
      "C:\\ProgramData\\Anaconda3\\lib\\site-packages\\IPython\\core\\pylabtools.py:151: UserWarning: Glyph 44053 (\\N{HANGUL SYLLABLE GANG}) missing from current font.\n",
      "  fig.canvas.print_figure(bytes_io, **kw)\n",
      "C:\\ProgramData\\Anaconda3\\lib\\site-packages\\IPython\\core\\pylabtools.py:151: UserWarning: Glyph 51340 (\\N{HANGUL SYLLABLE JWA}) missing from current font.\n",
      "  fig.canvas.print_figure(bytes_io, **kw)\n",
      "C:\\ProgramData\\Anaconda3\\lib\\site-packages\\IPython\\core\\pylabtools.py:151: UserWarning: Glyph 51221 (\\N{HANGUL SYLLABLE JEONG}) missing from current font.\n",
      "  fig.canvas.print_figure(bytes_io, **kw)\n",
      "C:\\ProgramData\\Anaconda3\\lib\\site-packages\\IPython\\core\\pylabtools.py:151: UserWarning: Glyph 50896 (\\N{HANGUL SYLLABLE WEON}) missing from current font.\n",
      "  fig.canvas.print_figure(bytes_io, **kw)\n",
      "C:\\ProgramData\\Anaconda3\\lib\\site-packages\\IPython\\core\\pylabtools.py:151: UserWarning: Glyph 49688 (\\N{HANGUL SYLLABLE SU}) missing from current font.\n",
      "  fig.canvas.print_figure(bytes_io, **kw)\n"
     ]
    },
    {
     "data": {
      "image/png": "[encoded data removed]",
      "text/plain": [
       "<Figure size 640x480 with 1 Axes>"
      ]
     },
     "metadata": {},
     "output_type": "display_data"
    }
   ],
   "source": [
    "sns.distplot(df['강좌정원수'].apply(lambda x: math.exp(x)))\n",
    "plt.show()"
   ]
  },
  {
   "cell_type": "code",
   "execution_count": 29,
   "id": "7188b83b",
   "metadata": {},
   "outputs": [],
   "source": [
    "sns.set()"
   ]
  },
  {
   "cell_type": "code",
   "execution_count": 33,
   "id": "5fe5daec",
   "metadata": {},
   "outputs": [],
   "source": [
    "plt.rcParams['font.family'] = 'Malgun Gothic'"
   ]
  },
  {
   "cell_type": "code",
   "execution_count": 34,
   "id": "7a42dc4b",
   "metadata": {},
   "outputs": [
    {
     "name": "stderr",
     "output_type": "stream",
     "text": [
      "C:\\ProgramData\\Anaconda3\\lib\\site-packages\\seaborn\\distributions.py:2619: FutureWarning: `distplot` is a deprecated function and will be removed in a future version. Please adapt your code to use either `displot` (a figure-level function with similar flexibility) or `histplot` (an axes-level function for histograms).\n",
      "  warnings.warn(msg, FutureWarning)\n"
     ]
    },
    {
     "data": {
      "image/png": "[encoded data removed]",
      "text/plain": [
       "<Figure size 640x480 with 1 Axes>"
      ]
     },
     "metadata": {},
     "output_type": "display_data"
    }
   ],
   "source": [
    "sns.distplot(df['강좌정원수'].apply(lambda x: math.log10(x)))\n",
    "plt.show()"
   ]
  },
  {
   "cell_type": "code",
   "execution_count": 36,
   "id": "d45d9a0d",
   "metadata": {},
   "outputs": [
    {
     "data": {
      "text/html": [
       "<div>\n",
       "<style scoped>\n",
       "    .dataframe tbody tr th:only-of-type {\n",
       "        vertical-align: middle;\n",
       "    }\n",
       "\n",
       "    .dataframe tbody tr th {\n",
       "        vertical-align: top;\n",
       "    }\n",
       "\n",
       "    .dataframe thead th {\n",
       "        text-align: right;\n",
       "    }\n",
       "</style>\n",
       "<table border=\"1\" class=\"dataframe\">\n",
       "  <thead>\n",
       "    <tr style=\"text-align: right;\">\n",
       "      <th></th>\n",
       "      <th>센터명</th>\n",
       "      <th>강좌명</th>\n",
       "      <th>강사명</th>\n",
       "      <th>교육시작일자</th>\n",
       "      <th>교육종료일자</th>\n",
       "      <th>강좌내용</th>\n",
       "      <th>교육대상구분</th>\n",
       "      <th>교육방법구분</th>\n",
       "      <th>운영요일</th>\n",
       "      <th>강좌정원수</th>\n",
       "      <th>데이터기준일자</th>\n",
       "      <th>binaty_data</th>\n",
       "    </tr>\n",
       "  </thead>\n",
       "  <tbody>\n",
       "    <tr>\n",
       "      <th>0</th>\n",
       "      <td>서울시청자미디어센터</td>\n",
       "      <td>상설미디어체험 교육</td>\n",
       "      <td>이수현,김민호</td>\n",
       "      <td>2022-11-12</td>\n",
       "      <td>2022-11-26</td>\n",
       "      <td>상설미디어체험(뉴스앵커체험 등)</td>\n",
       "      <td>일반</td>\n",
       "      <td>오프라인</td>\n",
       "      <td>토</td>\n",
       "      <td>25</td>\n",
       "      <td>2022-11-09</td>\n",
       "      <td>1</td>\n",
       "    </tr>\n",
       "    <tr>\n",
       "      <th>1</th>\n",
       "      <td>서울시청자미디어센터</td>\n",
       "      <td>찾아가는미디어나눔버스 체험 교육</td>\n",
       "      <td>김도경,이수현</td>\n",
       "      <td>2022-11-21</td>\n",
       "      <td>2022-11-21</td>\n",
       "      <td>찾아가는미디어나눔버스 체험</td>\n",
       "      <td>청소년</td>\n",
       "      <td>오프라인</td>\n",
       "      <td>월</td>\n",
       "      <td>25</td>\n",
       "      <td>2022-11-09</td>\n",
       "      <td>1</td>\n",
       "    </tr>\n",
       "  </tbody>\n",
       "</table>\n",
       "</div>"
      ],
      "text/plain": [
       "          센터명                강좌명      강사명      교육시작일자      교육종료일자  \\\n",
       "0  서울시청자미디어센터         상설미디어체험 교육  이수현,김민호  2022-11-12  2022-11-26   \n",
       "1  서울시청자미디어센터  찾아가는미디어나눔버스 체험 교육  김도경,이수현  2022-11-21  2022-11-21   \n",
       "\n",
       "                강좌내용 교육대상구분 교육방법구분 운영요일  강좌정원수     데이터기준일자  binaty_data  \n",
       "0  상설미디어체험(뉴스앵커체험 등)     일반   오프라인    토     25  2022-11-09            1  \n",
       "1     찾아가는미디어나눔버스 체험    청소년   오프라인    월     25  2022-11-09            1  "
      ]
     },
     "execution_count": 36,
     "metadata": {},
     "output_type": "execute_result"
    }
   ],
   "source": [
    "df.head(2)"
   ]
  },
  {
   "cell_type": "markdown",
   "id": "b3547fa0",
   "metadata": {},
   "source": [
    "## 실습 - T-test\n",
    "* 수도권과 비수도권의 강좌정원수 간의 차이가 통계적으로 유의한지 알아보세요"
   ]
  },
  {
   "cell_type": "code",
   "execution_count": 38,
   "id": "e32f2d73",
   "metadata": {},
   "outputs": [
    {
     "data": {
      "text/plain": [
       "array(['서울시청자미디어센터', '울산시청자미디어센터', '강원시청자미디어센터', '대전시청자미디어센터',\n",
       "       '광주시청자미디어센터', '부산시청자미디어센터', '인천시청자미디어센터', '충북시청자미디어센터'],\n",
       "      dtype=object)"
      ]
     },
     "execution_count": 38,
     "metadata": {},
     "output_type": "execute_result"
    }
   ],
   "source": [
    "df['센터명'].unique()"
   ]
  },
  {
   "cell_type": "code",
   "execution_count": 39,
   "id": "fef5effe",
   "metadata": {},
   "outputs": [],
   "source": [
    "def check_loc(x):\n",
    "    if '서울' in x or '인천' in x:\n",
    "        return '수도권'\n",
    "    else:\n",
    "        return '비수도권'"
   ]
  },
  {
   "cell_type": "code",
   "execution_count": 41,
   "id": "5d0a10b9",
   "metadata": {},
   "outputs": [],
   "source": [
    "df['수도권'] = df['센터명'].apply(lambda x: check_loc(x))"
   ]
  },
  {
   "cell_type": "code",
   "execution_count": 45,
   "id": "a970a2b8",
   "metadata": {},
   "outputs": [],
   "source": [
    "cap = df[df['수도권'] == '수도권']['강좌정원수']"
   ]
  },
  {
   "cell_type": "code",
   "execution_count": 47,
   "id": "61fe7ab8",
   "metadata": {},
   "outputs": [],
   "source": [
    "non_cap = df[df['수도권'] != '수도권']['강좌정원수']"
   ]
  },
  {
   "cell_type": "code",
   "execution_count": 51,
   "id": "19accc39",
   "metadata": {},
   "outputs": [],
   "source": [
    "from scipy import stats"
   ]
  },
  {
   "cell_type": "code",
   "execution_count": 52,
   "id": "b561c88c",
   "metadata": {},
   "outputs": [
    {
     "data": {
      "text/plain": [
       "KstestResult(statistic=0.2339366515837104, pvalue=0.1428094183283083)"
      ]
     },
     "execution_count": 52,
     "metadata": {},
     "output_type": "execute_result"
    }
   ],
   "source": [
    "stats.ks_2samp(cap, non_cap)"
   ]
  },
  {
   "cell_type": "code",
   "execution_count": 53,
   "id": "c3c0ae5d",
   "metadata": {},
   "outputs": [
    {
     "ename": "ValueError",
     "evalue": "The samples x and y must have the same length.",
     "output_type": "error",
     "traceback": [
      "\u001b[1;31m---------------------------------------------------------------------------\u001b[0m",
      "\u001b[1;31mValueError\u001b[0m                                Traceback (most recent call last)",
      "\u001b[1;32m~\\AppData\\Local\\Temp\\ipykernel_16544\\869217577.py\u001b[0m in \u001b[0;36m<module>\u001b[1;34m\u001b[0m\n\u001b[1;32m----> 1\u001b[1;33m \u001b[0mstats\u001b[0m\u001b[1;33m.\u001b[0m\u001b[0mwilcoxon\u001b[0m\u001b[1;33m(\u001b[0m\u001b[0mcap\u001b[0m\u001b[1;33m,\u001b[0m \u001b[0mnon_cap\u001b[0m\u001b[1;33m)\u001b[0m\u001b[1;33m\u001b[0m\u001b[1;33m\u001b[0m\u001b[0m\n\u001b[0m",
      "\u001b[1;32mC:\\ProgramData\\Anaconda3\\lib\\site-packages\\scipy\\_lib\\_util.py\u001b[0m in \u001b[0;36mwrapper\u001b[1;34m(*args, **kwargs)\u001b[0m\n\u001b[0;32m    700\u001b[0m                     \u001b[1;32mraise\u001b[0m \u001b[0mTypeError\u001b[0m\u001b[1;33m(\u001b[0m\u001b[0mmessage\u001b[0m\u001b[1;33m)\u001b[0m\u001b[1;33m\u001b[0m\u001b[1;33m\u001b[0m\u001b[0m\n\u001b[0;32m    701\u001b[0m                 \u001b[0mkwargs\u001b[0m\u001b[1;33m[\u001b[0m\u001b[0mnew_name\u001b[0m\u001b[1;33m]\u001b[0m \u001b[1;33m=\u001b[0m \u001b[0mkwargs\u001b[0m\u001b[1;33m.\u001b[0m\u001b[0mpop\u001b[0m\u001b[1;33m(\u001b[0m\u001b[0mold_name\u001b[0m\u001b[1;33m)\u001b[0m\u001b[1;33m\u001b[0m\u001b[1;33m\u001b[0m\u001b[0m\n\u001b[1;32m--> 702\u001b[1;33m             \u001b[1;32mreturn\u001b[0m \u001b[0mfun\u001b[0m\u001b[1;33m(\u001b[0m\u001b[1;33m*\u001b[0m\u001b[0margs\u001b[0m\u001b[1;33m,\u001b[0m \u001b[1;33m**\u001b[0m\u001b[0mkwargs\u001b[0m\u001b[1;33m)\u001b[0m\u001b[1;33m\u001b[0m\u001b[1;33m\u001b[0m\u001b[0m\n\u001b[0m\u001b[0;32m    703\u001b[0m         \u001b[1;32mreturn\u001b[0m \u001b[0mwrapper\u001b[0m\u001b[1;33m\u001b[0m\u001b[1;33m\u001b[0m\u001b[0m\n\u001b[0;32m    704\u001b[0m     \u001b[1;32mreturn\u001b[0m \u001b[0mdecorator\u001b[0m\u001b[1;33m\u001b[0m\u001b[1;33m\u001b[0m\u001b[0m\n",
      "\u001b[1;32mC:\\ProgramData\\Anaconda3\\lib\\site-packages\\scipy\\stats\\_axis_nan_policy.py\u001b[0m in \u001b[0;36maxis_nan_policy_wrapper\u001b[1;34m(***failed resolving arguments***)\u001b[0m\n\u001b[0;32m    501\u001b[0m                 \u001b[1;32mif\u001b[0m \u001b[0msentinel\u001b[0m\u001b[1;33m:\u001b[0m\u001b[1;33m\u001b[0m\u001b[1;33m\u001b[0m\u001b[0m\n\u001b[0;32m    502\u001b[0m                     \u001b[0msamples\u001b[0m \u001b[1;33m=\u001b[0m \u001b[0m_remove_sentinel\u001b[0m\u001b[1;33m(\u001b[0m\u001b[0msamples\u001b[0m\u001b[1;33m,\u001b[0m \u001b[0mpaired\u001b[0m\u001b[1;33m,\u001b[0m \u001b[0msentinel\u001b[0m\u001b[1;33m)\u001b[0m\u001b[1;33m\u001b[0m\u001b[1;33m\u001b[0m\u001b[0m\n\u001b[1;32m--> 503\u001b[1;33m                 \u001b[0mres\u001b[0m \u001b[1;33m=\u001b[0m \u001b[0mhypotest_fun_out\u001b[0m\u001b[1;33m(\u001b[0m\u001b[1;33m*\u001b[0m\u001b[0msamples\u001b[0m\u001b[1;33m,\u001b[0m \u001b[1;33m**\u001b[0m\u001b[0mkwds\u001b[0m\u001b[1;33m)\u001b[0m\u001b[1;33m\u001b[0m\u001b[1;33m\u001b[0m\u001b[0m\n\u001b[0m\u001b[0;32m    504\u001b[0m                 \u001b[0mres\u001b[0m \u001b[1;33m=\u001b[0m \u001b[0mresult_to_tuple\u001b[0m\u001b[1;33m(\u001b[0m\u001b[0mres\u001b[0m\u001b[1;33m)\u001b[0m\u001b[1;33m\u001b[0m\u001b[1;33m\u001b[0m\u001b[0m\n\u001b[0;32m    505\u001b[0m                 \u001b[0mres\u001b[0m \u001b[1;33m=\u001b[0m \u001b[0m_add_reduced_axes\u001b[0m\u001b[1;33m(\u001b[0m\u001b[0mres\u001b[0m\u001b[1;33m,\u001b[0m \u001b[0mreduced_axes\u001b[0m\u001b[1;33m,\u001b[0m \u001b[0mkeepdims\u001b[0m\u001b[1;33m)\u001b[0m\u001b[1;33m\u001b[0m\u001b[1;33m\u001b[0m\u001b[0m\n",
      "\u001b[1;32mC:\\ProgramData\\Anaconda3\\lib\\site-packages\\scipy\\stats\\_morestats.py\u001b[0m in \u001b[0;36mwilcoxon\u001b[1;34m(x, y, zero_method, correction, alternative, method)\u001b[0m\n\u001b[0;32m   3235\u001b[0m             \u001b[1;32mraise\u001b[0m \u001b[0mValueError\u001b[0m\u001b[1;33m(\u001b[0m\u001b[1;34m'Samples x and y must be one-dimensional.'\u001b[0m\u001b[1;33m)\u001b[0m\u001b[1;33m\u001b[0m\u001b[1;33m\u001b[0m\u001b[0m\n\u001b[0;32m   3236\u001b[0m         \u001b[1;32mif\u001b[0m \u001b[0mlen\u001b[0m\u001b[1;33m(\u001b[0m\u001b[0mx\u001b[0m\u001b[1;33m)\u001b[0m \u001b[1;33m!=\u001b[0m \u001b[0mlen\u001b[0m\u001b[1;33m(\u001b[0m\u001b[0my\u001b[0m\u001b[1;33m)\u001b[0m\u001b[1;33m:\u001b[0m\u001b[1;33m\u001b[0m\u001b[1;33m\u001b[0m\u001b[0m\n\u001b[1;32m-> 3237\u001b[1;33m             \u001b[1;32mraise\u001b[0m \u001b[0mValueError\u001b[0m\u001b[1;33m(\u001b[0m\u001b[1;34m'The samples x and y must have the same length.'\u001b[0m\u001b[1;33m)\u001b[0m\u001b[1;33m\u001b[0m\u001b[1;33m\u001b[0m\u001b[0m\n\u001b[0m\u001b[0;32m   3238\u001b[0m         \u001b[0md\u001b[0m \u001b[1;33m=\u001b[0m \u001b[0mx\u001b[0m \u001b[1;33m-\u001b[0m \u001b[0my\u001b[0m\u001b[1;33m\u001b[0m\u001b[1;33m\u001b[0m\u001b[0m\n\u001b[0;32m   3239\u001b[0m \u001b[1;33m\u001b[0m\u001b[0m\n",
      "\u001b[1;31mValueError\u001b[0m: The samples x and y must have the same length."
     ]
    }
   ],
   "source": [
    "stats.wilcoxon(cap, non_cap)"
   ]
  },
  {
   "cell_type": "code",
   "execution_count": 54,
   "id": "96570ea6",
   "metadata": {},
   "outputs": [
    {
     "data": {
      "text/plain": [
       "34"
      ]
     },
     "execution_count": 54,
     "metadata": {},
     "output_type": "execute_result"
    }
   ],
   "source": [
    "len(cap)"
   ]
  },
  {
   "cell_type": "code",
   "execution_count": 55,
   "id": "41cc039f",
   "metadata": {},
   "outputs": [
    {
     "data": {
      "text/plain": [
       "65"
      ]
     },
     "execution_count": 55,
     "metadata": {},
     "output_type": "execute_result"
    }
   ],
   "source": [
    "len(non_cap)"
   ]
  },
  {
   "cell_type": "code",
   "execution_count": 58,
   "id": "065912d3",
   "metadata": {},
   "outputs": [
    {
     "data": {
      "text/plain": [
       "Ttest_indResult(statistic=-1.678276931472426, pvalue=0.09651215594511886)"
      ]
     },
     "execution_count": 58,
     "metadata": {},
     "output_type": "execute_result"
    }
   ],
   "source": [
    "stats.ttest_ind(cap, non_cap, equal_var=True)"
   ]
  },
  {
   "cell_type": "code",
   "execution_count": 59,
   "id": "6767799e",
   "metadata": {},
   "outputs": [
    {
     "data": {
      "text/plain": [
       "Ttest_indResult(statistic=-1.6279550334641488, pvalue=0.1086317648332615)"
      ]
     },
     "execution_count": 59,
     "metadata": {},
     "output_type": "execute_result"
    }
   ],
   "source": [
    "stats.ttest_ind(cap, non_cap, equal_var=False)"
   ]
  },
  {
   "cell_type": "code",
   "execution_count": 63,
   "id": "6961ba1f",
   "metadata": {},
   "outputs": [
    {
     "data": {
      "image/png": "[encoded data removed]",
      "text/plain": [
       "<Figure size 500x500 with 1 Axes>"
      ]
     },
     "metadata": {},
     "output_type": "display_data"
    }
   ],
   "source": [
    "sns.displot(cap)\n",
    "plt.show()"
   ]
  },
  {
   "cell_type": "code",
   "execution_count": 62,
   "id": "82bca9ca",
   "metadata": {},
   "outputs": [
    {
     "data": {
      "image/png": "[encoded data removed]",
      "text/plain": [
       "<Figure size 500x500 with 1 Axes>"
      ]
     },
     "metadata": {},
     "output_type": "display_data"
    }
   ],
   "source": [
    "sns.displot(non_cap)\n",
    "plt.show()"
   ]
  },
  {
   "cell_type": "code",
   "execution_count": 66,
   "id": "e3cc48c4",
   "metadata": {},
   "outputs": [
    {
     "data": {
      "image/png": "[encoded data removed]",
      "text/plain": [
       "<Figure size 500x500 with 1 Axes>"
      ]
     },
     "metadata": {},
     "output_type": "display_data"
    }
   ],
   "source": [
    "sns.displot(df['강좌정원수'])\n",
    "plt.show()"
   ]
  },
  {
   "cell_type": "code",
   "execution_count": 70,
   "id": "36c2ab1b",
   "metadata": {},
   "outputs": [],
   "source": [
    "df2 = pd.read_csv('./CS_T_T_STD_COST.csv', encoding='cp949')"
   ]
  },
  {
   "cell_type": "code",
   "execution_count": 72,
   "id": "a6115c07",
   "metadata": {},
   "outputs": [
    {
     "data": {
      "text/html": [
       "<div>\n",
       "<style scoped>\n",
       "    .dataframe tbody tr th:only-of-type {\n",
       "        vertical-align: middle;\n",
       "    }\n",
       "\n",
       "    .dataframe tbody tr th {\n",
       "        vertical-align: top;\n",
       "    }\n",
       "\n",
       "    .dataframe thead th {\n",
       "        text-align: right;\n",
       "    }\n",
       "</style>\n",
       "<table border=\"1\" class=\"dataframe\">\n",
       "  <thead>\n",
       "    <tr style=\"text-align: right;\">\n",
       "      <th></th>\n",
       "      <th>연번</th>\n",
       "      <th>업체아이디</th>\n",
       "      <th>킬로미터당원가</th>\n",
       "      <th>관할행정아이디</th>\n",
       "      <th>입력일자</th>\n",
       "      <th>최종처리자아이디</th>\n",
       "      <th>수정일자</th>\n",
       "      <th>영역분류</th>\n",
       "      <th>일일대당원가</th>\n",
       "      <th>평가연도</th>\n",
       "      <th>평가차수</th>\n",
       "    </tr>\n",
       "  </thead>\n",
       "  <tbody>\n",
       "    <tr>\n",
       "      <th>0</th>\n",
       "      <td>1</td>\n",
       "      <td>1041</td>\n",
       "      <td>622</td>\n",
       "      <td>3.0</td>\n",
       "      <td>2012-07-10</td>\n",
       "      <td>1</td>\n",
       "      <td>2012-07-10</td>\n",
       "      <td>1</td>\n",
       "      <td>307546</td>\n",
       "      <td>2012</td>\n",
       "      <td>19</td>\n",
       "    </tr>\n",
       "    <tr>\n",
       "      <th>1</th>\n",
       "      <td>2</td>\n",
       "      <td>1000</td>\n",
       "      <td>461</td>\n",
       "      <td>30.0</td>\n",
       "      <td>2012-07-10</td>\n",
       "      <td>1</td>\n",
       "      <td>2012-07-10</td>\n",
       "      <td>2</td>\n",
       "      <td>305872</td>\n",
       "      <td>2012</td>\n",
       "      <td>19</td>\n",
       "    </tr>\n",
       "  </tbody>\n",
       "</table>\n",
       "</div>"
      ],
      "text/plain": [
       "   연번  업체아이디  킬로미터당원가  관할행정아이디        입력일자 최종처리자아이디        수정일자  영역분류  일일대당원가  \\\n",
       "0   1   1041      622      3.0  2012-07-10        1  2012-07-10     1  307546   \n",
       "1   2   1000      461     30.0  2012-07-10        1  2012-07-10     2  305872   \n",
       "\n",
       "   평가연도  평가차수  \n",
       "0  2012    19  \n",
       "1  2012    19  "
      ]
     },
     "execution_count": 72,
     "metadata": {},
     "output_type": "execute_result"
    }
   ],
   "source": [
    "df2.head(2)"
   ]
  },
  {
   "cell_type": "markdown",
   "id": "dd41ac74",
   "metadata": {},
   "source": [
    "## 실습 - 데이터 분석\n",
    "* 위 데이터에서 아래 분석을 수행하시오\n",
    "1. 임의의 두 업체별 일일대당원가에서 차이를 보이는지 확인\n",
    "1. 임의의 두 평가연도에서 킬로미터당원가가 가장 높은 영역과 낮은 영역을 구하기\n",
    "1. 2010, 2012년도에서 30, 7 관할행정구역에서의 킬로미터당원가 차이를 보이는지 확인"
   ]
  },
  {
   "cell_type": "code",
   "execution_count": 80,
   "id": "5a4e1412",
   "metadata": {},
   "outputs": [],
   "source": [
    "df2 = df2[df2['일일대당원가'] > 10000]"
   ]
  },
  {
   "cell_type": "code",
   "execution_count": 91,
   "id": "f0758d09",
   "metadata": {},
   "outputs": [
    {
     "data": {
      "text/html": [
       "<div>\n",
       "<style scoped>\n",
       "    .dataframe tbody tr th:only-of-type {\n",
       "        vertical-align: middle;\n",
       "    }\n",
       "\n",
       "    .dataframe tbody tr th {\n",
       "        vertical-align: top;\n",
       "    }\n",
       "\n",
       "    .dataframe thead th {\n",
       "        text-align: right;\n",
       "    }\n",
       "</style>\n",
       "<table border=\"1\" class=\"dataframe\">\n",
       "  <thead>\n",
       "    <tr style=\"text-align: right;\">\n",
       "      <th></th>\n",
       "      <th>연번</th>\n",
       "      <th>업체아이디</th>\n",
       "      <th>킬로미터당원가</th>\n",
       "      <th>관할행정아이디</th>\n",
       "      <th>입력일자</th>\n",
       "      <th>최종처리자아이디</th>\n",
       "      <th>수정일자</th>\n",
       "      <th>영역분류</th>\n",
       "      <th>일일대당원가</th>\n",
       "      <th>평가연도</th>\n",
       "      <th>평가차수</th>\n",
       "    </tr>\n",
       "  </thead>\n",
       "  <tbody>\n",
       "    <tr>\n",
       "      <th>0</th>\n",
       "      <td>1</td>\n",
       "      <td>1041</td>\n",
       "      <td>622</td>\n",
       "      <td>3.0</td>\n",
       "      <td>2012-07-10</td>\n",
       "      <td>1</td>\n",
       "      <td>2012-07-10</td>\n",
       "      <td>1</td>\n",
       "      <td>307546</td>\n",
       "      <td>2012</td>\n",
       "      <td>19</td>\n",
       "    </tr>\n",
       "    <tr>\n",
       "      <th>1</th>\n",
       "      <td>2</td>\n",
       "      <td>1000</td>\n",
       "      <td>461</td>\n",
       "      <td>30.0</td>\n",
       "      <td>2012-07-10</td>\n",
       "      <td>1</td>\n",
       "      <td>2012-07-10</td>\n",
       "      <td>2</td>\n",
       "      <td>305872</td>\n",
       "      <td>2012</td>\n",
       "      <td>19</td>\n",
       "    </tr>\n",
       "  </tbody>\n",
       "</table>\n",
       "</div>"
      ],
      "text/plain": [
       "   연번  업체아이디  킬로미터당원가  관할행정아이디        입력일자 최종처리자아이디        수정일자  영역분류  일일대당원가  \\\n",
       "0   1   1041      622      3.0  2012-07-10        1  2012-07-10     1  307546   \n",
       "1   2   1000      461     30.0  2012-07-10        1  2012-07-10     2  305872   \n",
       "\n",
       "   평가연도  평가차수  \n",
       "0  2012    19  \n",
       "1  2012    19  "
      ]
     },
     "execution_count": 91,
     "metadata": {},
     "output_type": "execute_result"
    }
   ],
   "source": [
    "df2.head(2)"
   ]
  },
  {
   "cell_type": "code",
   "execution_count": 94,
   "id": "43821ab7",
   "metadata": {},
   "outputs": [],
   "source": [
    "df_1041 = df2[df2['업체아이디'] == 1041]"
   ]
  },
  {
   "cell_type": "code",
   "execution_count": 96,
   "id": "e179b474",
   "metadata": {},
   "outputs": [],
   "source": [
    "df_1000 = df2[df2['업체아이디'] == 1000]"
   ]
  },
  {
   "cell_type": "code",
   "execution_count": 99,
   "id": "2d6d2dbd",
   "metadata": {},
   "outputs": [
    {
     "data": {
      "text/plain": [
       "KstestResult(statistic=0.4473684210526316, pvalue=0.0006905367290316688)"
      ]
     },
     "execution_count": 99,
     "metadata": {},
     "output_type": "execute_result"
    }
   ],
   "source": [
    "stats.ks_2samp(df_1041['일일대당원가'], df_1000['일일대당원가'])"
   ]
  },
  {
   "cell_type": "code",
   "execution_count": 102,
   "id": "287a0bec",
   "metadata": {},
   "outputs": [
    {
     "data": {
      "text/plain": [
       "Ttest_indResult(statistic=-2.9492957597304197, pvalue=0.004293180587886503)"
      ]
     },
     "execution_count": 102,
     "metadata": {},
     "output_type": "execute_result"
    }
   ],
   "source": [
    "stats.ttest_ind(df_1041['일일대당원가'], df_1000['일일대당원가'], equal_var=True)"
   ]
  },
  {
   "cell_type": "code",
   "execution_count": 103,
   "id": "1846ba1f",
   "metadata": {},
   "outputs": [],
   "source": [
    "# 임의의 두 평가연도에서 킬로미터당원가가 가장 높은 영역과 낮은 영역을 구하기"
   ]
  },
  {
   "cell_type": "code",
   "execution_count": 104,
   "id": "d40c2d77",
   "metadata": {},
   "outputs": [
    {
     "data": {
      "text/html": [
       "<div>\n",
       "<style scoped>\n",
       "    .dataframe tbody tr th:only-of-type {\n",
       "        vertical-align: middle;\n",
       "    }\n",
       "\n",
       "    .dataframe tbody tr th {\n",
       "        vertical-align: top;\n",
       "    }\n",
       "\n",
       "    .dataframe thead th {\n",
       "        text-align: right;\n",
       "    }\n",
       "</style>\n",
       "<table border=\"1\" class=\"dataframe\">\n",
       "  <thead>\n",
       "    <tr style=\"text-align: right;\">\n",
       "      <th></th>\n",
       "      <th>연번</th>\n",
       "      <th>업체아이디</th>\n",
       "      <th>킬로미터당원가</th>\n",
       "      <th>관할행정아이디</th>\n",
       "      <th>입력일자</th>\n",
       "      <th>최종처리자아이디</th>\n",
       "      <th>수정일자</th>\n",
       "      <th>영역분류</th>\n",
       "      <th>일일대당원가</th>\n",
       "      <th>평가연도</th>\n",
       "      <th>평가차수</th>\n",
       "    </tr>\n",
       "  </thead>\n",
       "  <tbody>\n",
       "    <tr>\n",
       "      <th>0</th>\n",
       "      <td>1</td>\n",
       "      <td>1041</td>\n",
       "      <td>622</td>\n",
       "      <td>3.0</td>\n",
       "      <td>2012-07-10</td>\n",
       "      <td>1</td>\n",
       "      <td>2012-07-10</td>\n",
       "      <td>1</td>\n",
       "      <td>307546</td>\n",
       "      <td>2012</td>\n",
       "      <td>19</td>\n",
       "    </tr>\n",
       "    <tr>\n",
       "      <th>1</th>\n",
       "      <td>2</td>\n",
       "      <td>1000</td>\n",
       "      <td>461</td>\n",
       "      <td>30.0</td>\n",
       "      <td>2012-07-10</td>\n",
       "      <td>1</td>\n",
       "      <td>2012-07-10</td>\n",
       "      <td>2</td>\n",
       "      <td>305872</td>\n",
       "      <td>2012</td>\n",
       "      <td>19</td>\n",
       "    </tr>\n",
       "  </tbody>\n",
       "</table>\n",
       "</div>"
      ],
      "text/plain": [
       "   연번  업체아이디  킬로미터당원가  관할행정아이디        입력일자 최종처리자아이디        수정일자  영역분류  일일대당원가  \\\n",
       "0   1   1041      622      3.0  2012-07-10        1  2012-07-10     1  307546   \n",
       "1   2   1000      461     30.0  2012-07-10        1  2012-07-10     2  305872   \n",
       "\n",
       "   평가연도  평가차수  \n",
       "0  2012    19  \n",
       "1  2012    19  "
      ]
     },
     "execution_count": 104,
     "metadata": {},
     "output_type": "execute_result"
    }
   ],
   "source": [
    "df2.head(2)"
   ]
  },
  {
   "cell_type": "code",
   "execution_count": 111,
   "id": "11565e09",
   "metadata": {},
   "outputs": [],
   "source": [
    "m = [True if d == 2012 or d == 2020 else False for d in df2['평가연도']]"
   ]
  },
  {
   "cell_type": "code",
   "execution_count": 114,
   "id": "f173d08d",
   "metadata": {},
   "outputs": [],
   "source": [
    "df2_20202012 = df2[m]"
   ]
  },
  {
   "cell_type": "code",
   "execution_count": 115,
   "id": "3ad2343b",
   "metadata": {},
   "outputs": [
    {
     "data": {
      "text/plain": [
       "array([2012, 2020], dtype=int64)"
      ]
     },
     "execution_count": 115,
     "metadata": {},
     "output_type": "execute_result"
    }
   ],
   "source": [
    "df2_20202012['평가연도'].unique()"
   ]
  },
  {
   "cell_type": "code",
   "execution_count": 123,
   "id": "da55436e",
   "metadata": {},
   "outputs": [],
   "source": [
    "m = df2_20202012['평가연도'] == 2012"
   ]
  },
  {
   "cell_type": "code",
   "execution_count": 131,
   "id": "2ef38c44",
   "metadata": {},
   "outputs": [
    {
     "data": {
      "text/plain": [
       "array([1, 2, 4], dtype=int64)"
      ]
     },
     "execution_count": 131,
     "metadata": {},
     "output_type": "execute_result"
    }
   ],
   "source": [
    "df2_20202012['영역분류'].unique()"
   ]
  },
  {
   "cell_type": "code",
   "execution_count": 144,
   "id": "3d713559",
   "metadata": {},
   "outputs": [
    {
     "data": {
      "text/plain": [
       "467.22556390977445"
      ]
     },
     "execution_count": 144,
     "metadata": {},
     "output_type": "execute_result"
    }
   ],
   "source": [
    "df2_20202012[df2_20202012['영역분류'] == 1]['킬로미터당원가'].mean()"
   ]
  },
  {
   "cell_type": "code",
   "execution_count": 146,
   "id": "27904184",
   "metadata": {},
   "outputs": [
    {
     "data": {
      "text/plain": [
       "377.0954545454546"
      ]
     },
     "execution_count": 146,
     "metadata": {},
     "output_type": "execute_result"
    }
   ],
   "source": [
    "df2_20202012[df2_20202012['영역분류'] == 2]['킬로미터당원가'].mean()"
   ]
  },
  {
   "cell_type": "code",
   "execution_count": 148,
   "id": "abfe239b",
   "metadata": {},
   "outputs": [
    {
     "data": {
      "text/plain": [
       "297.5263157894737"
      ]
     },
     "execution_count": 148,
     "metadata": {},
     "output_type": "execute_result"
    }
   ],
   "source": [
    "df2_20202012[df2_20202012['영역분류'] == 4]['킬로미터당원가'].mean()"
   ]
  },
  {
   "cell_type": "code",
   "execution_count": 147,
   "id": "ccef16ec",
   "metadata": {},
   "outputs": [
    {
     "data": {
      "image/png": "[encoded data removed]",
      "text/plain": [
       "<Figure size 500x500 with 1 Axes>"
      ]
     },
     "metadata": {},
     "output_type": "display_data"
    }
   ],
   "source": [
    "sns.displot(df2_20202012[df2_20202012['영역분류'] == 4]['킬로미터당원가'])\n",
    "plt.show()"
   ]
  },
  {
   "cell_type": "code",
   "execution_count": 149,
   "id": "3e66af3e",
   "metadata": {},
   "outputs": [],
   "source": [
    "# 2010, 2012년도에서 30, 7 관할행정구역에서의 킬로미터당원가 차이를 보이는지 확인"
   ]
  },
  {
   "cell_type": "code",
   "execution_count": 150,
   "id": "4e95d90b",
   "metadata": {},
   "outputs": [],
   "source": [
    "m = [True if d == 2010 or d == 2012 else False for d in df2['평가연도']]"
   ]
  },
  {
   "cell_type": "code",
   "execution_count": 152,
   "id": "47a4bd4e",
   "metadata": {},
   "outputs": [],
   "source": [
    "df_20102012 = df2[m]"
   ]
  },
  {
   "cell_type": "code",
   "execution_count": 157,
   "id": "ae74573c",
   "metadata": {},
   "outputs": [],
   "source": [
    "df_30 = df_20102012[df_20102012['관할행정아이디'] == 30]"
   ]
  },
  {
   "cell_type": "code",
   "execution_count": 158,
   "id": "01e91708",
   "metadata": {},
   "outputs": [],
   "source": [
    "df_7 = df_20102012[df_20102012['관할행정아이디'] == 7]"
   ]
  },
  {
   "cell_type": "code",
   "execution_count": 164,
   "id": "e1b059d7",
   "metadata": {},
   "outputs": [
    {
     "data": {
      "image/png": "[encoded data removed]",
      "text/plain": [
       "<Figure size 500x500 with 1 Axes>"
      ]
     },
     "metadata": {},
     "output_type": "display_data"
    }
   ],
   "source": [
    "sns.displot(df2['킬로미터당원가'])\n",
    "plt.show()"
   ]
  },
  {
   "cell_type": "code",
   "execution_count": 165,
   "id": "099de9db",
   "metadata": {},
   "outputs": [
    {
     "data": {
      "text/plain": [
       "KstestResult(statistic=0.43, pvalue=0.001564944840231729)"
      ]
     },
     "execution_count": 165,
     "metadata": {},
     "output_type": "execute_result"
    }
   ],
   "source": [
    "stats.ks_2samp(df_30['킬로미터당원가'], df_7['킬로미터당원가'])"
   ]
  },
  {
   "cell_type": "code",
   "execution_count": 166,
   "id": "b697719e",
   "metadata": {},
   "outputs": [
    {
     "data": {
      "text/plain": [
       "Ttest_indResult(statistic=-1.1474910377308585, pvalue=0.2524364738556644)"
      ]
     },
     "execution_count": 166,
     "metadata": {},
     "output_type": "execute_result"
    }
   ],
   "source": [
    "stats.ttest_ind(df_30['킬로미터당원가'], df_7['킬로미터당원가'], equal_var=True)"
   ]
  },
  {
   "cell_type": "code",
   "execution_count": 168,
   "id": "930bbb74",
   "metadata": {},
   "outputs": [
    {
     "name": "stdout",
     "output_type": "stream",
     "text": [
      "[68, 71, 73, 74, 75, 76, 77, 78, 79, 80, 81, 82, 83, 85, 86, 87, 88, 89, 90, 91, 92, 93, 94]\n"
     ]
    }
   ],
   "source": [
    "print(df.index[df['강좌내용'] == 'TV 뉴스 제작 및 영상합성 크로마키 체험'].tolist())"
   ]
  },
  {
   "cell_type": "code",
   "execution_count": 169,
   "id": "6fba3b70",
   "metadata": {},
   "outputs": [
    {
     "data": {
      "text/html": [
       "<div>\n",
       "<style scoped>\n",
       "    .dataframe tbody tr th:only-of-type {\n",
       "        vertical-align: middle;\n",
       "    }\n",
       "\n",
       "    .dataframe tbody tr th {\n",
       "        vertical-align: top;\n",
       "    }\n",
       "\n",
       "    .dataframe thead th {\n",
       "        text-align: right;\n",
       "    }\n",
       "</style>\n",
       "<table border=\"1\" class=\"dataframe\">\n",
       "  <thead>\n",
       "    <tr style=\"text-align: right;\">\n",
       "      <th></th>\n",
       "      <th>센터명</th>\n",
       "      <th>강좌명</th>\n",
       "      <th>강사명</th>\n",
       "      <th>교육시작일자</th>\n",
       "      <th>교육종료일자</th>\n",
       "      <th>강좌내용</th>\n",
       "      <th>교육대상구분</th>\n",
       "      <th>교육방법구분</th>\n",
       "      <th>운영요일</th>\n",
       "      <th>강좌정원수</th>\n",
       "      <th>데이터기준일자</th>\n",
       "      <th>binaty_data</th>\n",
       "      <th>수도권</th>\n",
       "    </tr>\n",
       "  </thead>\n",
       "  <tbody>\n",
       "    <tr>\n",
       "      <th>0</th>\n",
       "      <td>서울시청자미디어센터</td>\n",
       "      <td>상설미디어체험 교육</td>\n",
       "      <td>이수현,김민호</td>\n",
       "      <td>2022-11-12</td>\n",
       "      <td>2022-11-26</td>\n",
       "      <td>상설미디어체험(뉴스앵커체험 등)</td>\n",
       "      <td>일반</td>\n",
       "      <td>오프라인</td>\n",
       "      <td>토</td>\n",
       "      <td>25</td>\n",
       "      <td>2022-11-09</td>\n",
       "      <td>1</td>\n",
       "      <td>수도권</td>\n",
       "    </tr>\n",
       "    <tr>\n",
       "      <th>1</th>\n",
       "      <td>서울시청자미디어센터</td>\n",
       "      <td>찾아가는미디어나눔버스 체험 교육</td>\n",
       "      <td>김도경,이수현</td>\n",
       "      <td>2022-11-21</td>\n",
       "      <td>2022-11-21</td>\n",
       "      <td>찾아가는미디어나눔버스 체험</td>\n",
       "      <td>청소년</td>\n",
       "      <td>오프라인</td>\n",
       "      <td>월</td>\n",
       "      <td>25</td>\n",
       "      <td>2022-11-09</td>\n",
       "      <td>1</td>\n",
       "      <td>수도권</td>\n",
       "    </tr>\n",
       "    <tr>\n",
       "      <th>2</th>\n",
       "      <td>서울시청자미디어센터</td>\n",
       "      <td>찾아가는미디어나눔버스 체험</td>\n",
       "      <td>김도경,이수현</td>\n",
       "      <td>2022-11-22</td>\n",
       "      <td>2022-11-22</td>\n",
       "      <td>찾아가는미디어나눔버스 체험</td>\n",
       "      <td>청소년</td>\n",
       "      <td>오프라인</td>\n",
       "      <td>화</td>\n",
       "      <td>25</td>\n",
       "      <td>2022-11-09</td>\n",
       "      <td>1</td>\n",
       "      <td>수도권</td>\n",
       "    </tr>\n",
       "    <tr>\n",
       "      <th>3</th>\n",
       "      <td>서울시청자미디어센터</td>\n",
       "      <td>찾아가는미디어나눔버스 체험</td>\n",
       "      <td>김도경,이수현</td>\n",
       "      <td>2022-11-23</td>\n",
       "      <td>2022-11-23</td>\n",
       "      <td>찾아가는미디어나눔버스 체험</td>\n",
       "      <td>청소년</td>\n",
       "      <td>오프라인</td>\n",
       "      <td>수</td>\n",
       "      <td>25</td>\n",
       "      <td>2022-11-09</td>\n",
       "      <td>1</td>\n",
       "      <td>수도권</td>\n",
       "    </tr>\n",
       "    <tr>\n",
       "      <th>4</th>\n",
       "      <td>서울시청자미디어센터</td>\n",
       "      <td>찾아가는미디어나눔버스 체험</td>\n",
       "      <td>김도경,이수현</td>\n",
       "      <td>2022-11-25</td>\n",
       "      <td>2022-11-25</td>\n",
       "      <td>찾아가는미디어나눔버스 체험</td>\n",
       "      <td>청소년</td>\n",
       "      <td>오프라인</td>\n",
       "      <td>금</td>\n",
       "      <td>25</td>\n",
       "      <td>2022-11-09</td>\n",
       "      <td>1</td>\n",
       "      <td>수도권</td>\n",
       "    </tr>\n",
       "    <tr>\n",
       "      <th>...</th>\n",
       "      <td>...</td>\n",
       "      <td>...</td>\n",
       "      <td>...</td>\n",
       "      <td>...</td>\n",
       "      <td>...</td>\n",
       "      <td>...</td>\n",
       "      <td>...</td>\n",
       "      <td>...</td>\n",
       "      <td>...</td>\n",
       "      <td>...</td>\n",
       "      <td>...</td>\n",
       "      <td>...</td>\n",
       "      <td>...</td>\n",
       "    </tr>\n",
       "    <tr>\n",
       "      <th>94</th>\n",
       "      <td>인천시청자미디어센터</td>\n",
       "      <td>찾아가는 미디어나눔버스(TV뉴스체험)</td>\n",
       "      <td>류은애,김은자</td>\n",
       "      <td>2022-11-30</td>\n",
       "      <td>2022-11-30</td>\n",
       "      <td>TV 뉴스 제작 및 영상합성 크로마키 체험</td>\n",
       "      <td>중학생</td>\n",
       "      <td>오프라인</td>\n",
       "      <td>수</td>\n",
       "      <td>25</td>\n",
       "      <td>2022-11-09</td>\n",
       "      <td>1</td>\n",
       "      <td>수도권</td>\n",
       "    </tr>\n",
       "    <tr>\n",
       "      <th>95</th>\n",
       "      <td>충북시청자미디어센터</td>\n",
       "      <td>TV체험(뉴스체험)</td>\n",
       "      <td>미정</td>\n",
       "      <td>2022-11-01</td>\n",
       "      <td>2022-11-30</td>\n",
       "      <td>아나운서, 기자, 기상캐스터 등 역할을 나누어 뉴스 제작 과정을 체험해보는 프로그램</td>\n",
       "      <td>초등학생 이상</td>\n",
       "      <td>오프라인</td>\n",
       "      <td>월,화,수,목,금,토</td>\n",
       "      <td>15</td>\n",
       "      <td>2022-11-09</td>\n",
       "      <td>0</td>\n",
       "      <td>비수도권</td>\n",
       "    </tr>\n",
       "    <tr>\n",
       "      <th>96</th>\n",
       "      <td>충북시청자미디어센터</td>\n",
       "      <td>라디오체험(DJ체험)</td>\n",
       "      <td>미정</td>\n",
       "      <td>2022-11-01</td>\n",
       "      <td>2022-11-30</td>\n",
       "      <td>라디오 프로그램을 작가, DJ, 게스트가 되어 라디오 프로그램을 제작해보는 체험</td>\n",
       "      <td>초등학생 이상</td>\n",
       "      <td>오프라인</td>\n",
       "      <td>월,화,수,목,금,토</td>\n",
       "      <td>15</td>\n",
       "      <td>2022-11-09</td>\n",
       "      <td>0</td>\n",
       "      <td>비수도권</td>\n",
       "    </tr>\n",
       "    <tr>\n",
       "      <th>97</th>\n",
       "      <td>충북시청자미디어센터</td>\n",
       "      <td>유아 크로마키 체험</td>\n",
       "      <td>미정</td>\n",
       "      <td>2022-11-01</td>\n",
       "      <td>2022-11-30</td>\n",
       "      <td>유아 대상 크로마키를 통해 다양한 놀이를 해보는 체험</td>\n",
       "      <td>6~7세</td>\n",
       "      <td>오프라인</td>\n",
       "      <td>월,화,수,목,금,토</td>\n",
       "      <td>15</td>\n",
       "      <td>2022-11-09</td>\n",
       "      <td>0</td>\n",
       "      <td>비수도권</td>\n",
       "    </tr>\n",
       "    <tr>\n",
       "      <th>98</th>\n",
       "      <td>충북시청자미디어센터</td>\n",
       "      <td>AI 체험</td>\n",
       "      <td>미정</td>\n",
       "      <td>2022-11-01</td>\n",
       "      <td>2022-11-30</td>\n",
       "      <td>인공지능에 대해 이해하고 머신러닝을 여러 방법으로 알아보는 체험</td>\n",
       "      <td>초등학생 이상</td>\n",
       "      <td>오프라인</td>\n",
       "      <td>월,화,수,목,금,토</td>\n",
       "      <td>15</td>\n",
       "      <td>2022-11-09</td>\n",
       "      <td>0</td>\n",
       "      <td>비수도권</td>\n",
       "    </tr>\n",
       "  </tbody>\n",
       "</table>\n",
       "<p>99 rows × 13 columns</p>\n",
       "</div>"
      ],
      "text/plain": [
       "           센터명                   강좌명      강사명      교육시작일자      교육종료일자  \\\n",
       "0   서울시청자미디어센터            상설미디어체험 교육  이수현,김민호  2022-11-12  2022-11-26   \n",
       "1   서울시청자미디어센터     찾아가는미디어나눔버스 체험 교육  김도경,이수현  2022-11-21  2022-11-21   \n",
       "2   서울시청자미디어센터        찾아가는미디어나눔버스 체험  김도경,이수현  2022-11-22  2022-11-22   \n",
       "3   서울시청자미디어센터        찾아가는미디어나눔버스 체험  김도경,이수현  2022-11-23  2022-11-23   \n",
       "4   서울시청자미디어센터        찾아가는미디어나눔버스 체험  김도경,이수현  2022-11-25  2022-11-25   \n",
       "..         ...                   ...      ...         ...         ...   \n",
       "94  인천시청자미디어센터  찾아가는 미디어나눔버스(TV뉴스체험)  류은애,김은자  2022-11-30  2022-11-30   \n",
       "95  충북시청자미디어센터            TV체험(뉴스체험)       미정  2022-11-01  2022-11-30   \n",
       "96  충북시청자미디어센터           라디오체험(DJ체험)       미정  2022-11-01  2022-11-30   \n",
       "97  충북시청자미디어센터            유아 크로마키 체험       미정  2022-11-01  2022-11-30   \n",
       "98  충북시청자미디어센터                 AI 체험       미정  2022-11-01  2022-11-30   \n",
       "\n",
       "                                              강좌내용   교육대상구분 교육방법구분  \\\n",
       "0                                상설미디어체험(뉴스앵커체험 등)       일반   오프라인   \n",
       "1                                   찾아가는미디어나눔버스 체험      청소년   오프라인   \n",
       "2                                   찾아가는미디어나눔버스 체험      청소년   오프라인   \n",
       "3                                   찾아가는미디어나눔버스 체험      청소년   오프라인   \n",
       "4                                   찾아가는미디어나눔버스 체험      청소년   오프라인   \n",
       "..                                             ...      ...    ...   \n",
       "94                         TV 뉴스 제작 및 영상합성 크로마키 체험      중학생   오프라인   \n",
       "95  아나운서, 기자, 기상캐스터 등 역할을 나누어 뉴스 제작 과정을 체험해보는 프로그램  초등학생 이상   오프라인   \n",
       "96    라디오 프로그램을 작가, DJ, 게스트가 되어 라디오 프로그램을 제작해보는 체험  초등학생 이상   오프라인   \n",
       "97                   유아 대상 크로마키를 통해 다양한 놀이를 해보는 체험     6~7세   오프라인   \n",
       "98             인공지능에 대해 이해하고 머신러닝을 여러 방법으로 알아보는 체험  초등학생 이상   오프라인   \n",
       "\n",
       "           운영요일  강좌정원수     데이터기준일자  binaty_data   수도권  \n",
       "0             토     25  2022-11-09            1   수도권  \n",
       "1             월     25  2022-11-09            1   수도권  \n",
       "2             화     25  2022-11-09            1   수도권  \n",
       "3             수     25  2022-11-09            1   수도권  \n",
       "4             금     25  2022-11-09            1   수도권  \n",
       "..          ...    ...         ...          ...   ...  \n",
       "94            수     25  2022-11-09            1   수도권  \n",
       "95  월,화,수,목,금,토     15  2022-11-09            0  비수도권  \n",
       "96  월,화,수,목,금,토     15  2022-11-09            0  비수도권  \n",
       "97  월,화,수,목,금,토     15  2022-11-09            0  비수도권  \n",
       "98  월,화,수,목,금,토     15  2022-11-09            0  비수도권  \n",
       "\n",
       "[99 rows x 13 columns]"
      ]
     },
     "execution_count": 169,
     "metadata": {},
     "output_type": "execute_result"
    }
   ],
   "source": [
    "df"
   ]
  },
  {
   "cell_type": "markdown",
   "id": "bc47e49b",
   "metadata": {},
   "source": [
    "## 과제 - 서울교통공사_역별 월별 노인 승하차인원 정보\n",
    "1. 1, 2호선 각각에서 상/하반기의 승하차인원수 차이가 나는지 확인해 보기\n",
    "1. 서울역, 강남역 간의 승하차인원수 차이가 나는지 확인해 보기"
   ]
  },
  {
   "cell_type": "code",
   "execution_count": 170,
   "id": "cd7ce920",
   "metadata": {},
   "outputs": [],
   "source": [
    "metro = pd.read_csv('./서울교통공사_역별 월별 노인 승하차인원 정보_20220831.csv', encoding='cp949')"
   ]
  },
  {
   "cell_type": "code",
   "execution_count": 171,
   "id": "0581a001",
   "metadata": {},
   "outputs": [
    {
     "data": {
      "text/html": [
       "<div>\n",
       "<style scoped>\n",
       "    .dataframe tbody tr th:only-of-type {\n",
       "        vertical-align: middle;\n",
       "    }\n",
       "\n",
       "    .dataframe tbody tr th {\n",
       "        vertical-align: top;\n",
       "    }\n",
       "\n",
       "    .dataframe thead th {\n",
       "        text-align: right;\n",
       "    }\n",
       "</style>\n",
       "<table border=\"1\" class=\"dataframe\">\n",
       "  <thead>\n",
       "    <tr style=\"text-align: right;\">\n",
       "      <th></th>\n",
       "      <th>연번</th>\n",
       "      <th>호선</th>\n",
       "      <th>고유역번호(외부역코드)</th>\n",
       "      <th>역명</th>\n",
       "      <th>승하차구분</th>\n",
       "      <th>수송연월</th>\n",
       "      <th>승하차인원수</th>\n",
       "    </tr>\n",
       "  </thead>\n",
       "  <tbody>\n",
       "    <tr>\n",
       "      <th>0</th>\n",
       "      <td>1</td>\n",
       "      <td>1</td>\n",
       "      <td>150</td>\n",
       "      <td>서울역</td>\n",
       "      <td>승차</td>\n",
       "      <td>2022-01</td>\n",
       "      <td>118173</td>\n",
       "    </tr>\n",
       "    <tr>\n",
       "      <th>1</th>\n",
       "      <td>2</td>\n",
       "      <td>1</td>\n",
       "      <td>150</td>\n",
       "      <td>서울역</td>\n",
       "      <td>하차</td>\n",
       "      <td>2022-01</td>\n",
       "      <td>111415</td>\n",
       "    </tr>\n",
       "  </tbody>\n",
       "</table>\n",
       "</div>"
      ],
      "text/plain": [
       "   연번  호선  고유역번호(외부역코드)   역명 승하차구분     수송연월  승하차인원수\n",
       "0   1   1           150  서울역    승차  2022-01  118173\n",
       "1   2   1           150  서울역    하차  2022-01  111415"
      ]
     },
     "execution_count": 171,
     "metadata": {},
     "output_type": "execute_result"
    }
   ],
   "source": [
    "metro.head(2)"
   ]
  },
  {
   "cell_type": "code",
   "execution_count": 173,
   "id": "81ac0dfd",
   "metadata": {},
   "outputs": [
    {
     "data": {
      "text/plain": [
       "array(['2022-01', '2022-02', '2022-03', '2022-04', '2022-05', '2022-06',\n",
       "       '2022-07', '2022-08'], dtype=object)"
      ]
     },
     "execution_count": 173,
     "metadata": {},
     "output_type": "execute_result"
    }
   ],
   "source": [
    "metro['수송연월'].unique()"
   ]
  },
  {
   "cell_type": "code",
   "execution_count": 194,
   "id": "f9c6e9ae",
   "metadata": {},
   "outputs": [],
   "source": [
    "m = metro['수송연월'].apply(lambda x: int(x[-1]) < 7)"
   ]
  },
  {
   "cell_type": "code",
   "execution_count": 197,
   "id": "df6b9861",
   "metadata": {},
   "outputs": [],
   "source": [
    "metro_16 = metro[m]\n",
    "metro_78 = metro[-m]"
   ]
  },
  {
   "cell_type": "code",
   "execution_count": 202,
   "id": "f53bdc61",
   "metadata": {},
   "outputs": [],
   "source": [
    "line1 = metro_16[metro_16['호선'] == 1]['승하차인원수']\n",
    "line2 = metro_16[metro_16['호선'] == 2]['승하차인원수']"
   ]
  },
  {
   "cell_type": "code",
   "execution_count": 203,
   "id": "882717a0",
   "metadata": {},
   "outputs": [
    {
     "data": {
      "text/plain": [
       "KstestResult(statistic=0.5416666666666666, pvalue=1.2872543235654246e-27)"
      ]
     },
     "execution_count": 203,
     "metadata": {},
     "output_type": "execute_result"
    }
   ],
   "source": [
    "stats.ks_2samp(line1, line2)"
   ]
  },
  {
   "cell_type": "code",
   "execution_count": 204,
   "id": "f9e7341a",
   "metadata": {},
   "outputs": [
    {
     "data": {
      "image/png": "[encoded data removed]",
      "text/plain": [
       "<Figure size 500x500 with 1 Axes>"
      ]
     },
     "metadata": {},
     "output_type": "display_data"
    }
   ],
   "source": [
    "sns.displot(metro_16['승하차인원수'])\n",
    "plt.show()"
   ]
  },
  {
   "cell_type": "code",
   "execution_count": 205,
   "id": "e8ae2c2d",
   "metadata": {},
   "outputs": [
    {
     "data": {
      "text/plain": [
       "Ttest_indResult(statistic=16.432898276358074, pvalue=9.514977027484528e-52)"
      ]
     },
     "execution_count": 205,
     "metadata": {},
     "output_type": "execute_result"
    }
   ],
   "source": [
    "stats.ttest_ind(line1, line2, equal_var=True)"
   ]
  },
  {
   "cell_type": "code",
   "execution_count": 175,
   "id": "aab151fd",
   "metadata": {},
   "outputs": [],
   "source": [
    "seoul = metro['역명'] == '서울역'"
   ]
  },
  {
   "cell_type": "code",
   "execution_count": 180,
   "id": "a5067b7d",
   "metadata": {},
   "outputs": [],
   "source": [
    "gangnam = metro['역명'] == '강남'"
   ]
  },
  {
   "cell_type": "code",
   "execution_count": 206,
   "id": "94668842",
   "metadata": {},
   "outputs": [],
   "source": [
    "seoul_metro = metro[seoul]"
   ]
  },
  {
   "cell_type": "code",
   "execution_count": 207,
   "id": "4c7d3133",
   "metadata": {},
   "outputs": [],
   "source": [
    "gangnam_metro = metro[gangnam]"
   ]
  },
  {
   "cell_type": "code",
   "execution_count": 210,
   "id": "cf695e15",
   "metadata": {},
   "outputs": [
    {
     "data": {
      "text/plain": [
       "KstestResult(statistic=0.5, pvalue=0.007643004367031386)"
      ]
     },
     "execution_count": 210,
     "metadata": {},
     "output_type": "execute_result"
    }
   ],
   "source": [
    "stats.ks_2samp(seoul_metro['승하차인원수'], gangnam_metro['승하차인원수'])"
   ]
  },
  {
   "cell_type": "code",
   "execution_count": 211,
   "id": "1c77d6e0",
   "metadata": {},
   "outputs": [
    {
     "data": {
      "image/png": "[encoded data removed]",
      "text/plain": [
       "<Figure size 500x500 with 1 Axes>"
      ]
     },
     "metadata": {},
     "output_type": "display_data"
    }
   ],
   "source": [
    "sns.displot(metro['승하차인원수'])\n",
    "plt.show()"
   ]
  },
  {
   "cell_type": "code",
   "execution_count": 212,
   "id": "968422a4",
   "metadata": {},
   "outputs": [
    {
     "data": {
      "text/plain": [
       "Ttest_indResult(statistic=-2.4392951234522693, pvalue=0.01863203680121225)"
      ]
     },
     "execution_count": 212,
     "metadata": {},
     "output_type": "execute_result"
    }
   ],
   "source": [
    "stats.ttest_ind(seoul_metro['승하차인원수'], gangnam_metro['승하차인원수'], equal_var=True)"
   ]
  }
 ],
 "metadata": {
  "kernelspec": {
   "display_name": "Python 3 (ipykernel)",
   "language": "python",
   "name": "python3"
  },
  "language_info": {
   "codemirror_mode": {
    "name": "ipython",
    "version": 3
   },
   "file_extension": ".py",
   "mimetype": "text/x-python",
   "name": "python",
   "nbconvert_exporter": "python",
   "pygments_lexer": "ipython3",
   "version": "3.9.13"
  }
 },
 "nbformat": 4,
 "nbformat_minor": 5
}
