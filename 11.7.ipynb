{
 "cells": [
  {
   "cell_type": "code",
   "execution_count": 41,
   "id": "a8df02aa",
   "metadata": {},
   "outputs": [
    {
     "name": "stdout",
     "output_type": "stream",
     "text": [
      "Input a number: 5\n",
      "15\n"
     ]
    }
   ],
   "source": [
    "x = int(input(\"Input a number: \"))\n",
    "i,m,s = 1,1,0\n",
    "\n",
    "if x % 2 == 0:\n",
    "    while i < x+1:\n",
    "        m *= i\n",
    "        i += 1\n",
    "    print(m)\n",
    "else:\n",
    "    for i in range(x+1): \n",
    "        s += i\n",
    "    print(s)"
   ]
  },
  {
   "cell_type": "code",
   "execution_count": 17,
   "id": "6bd2d139",
   "metadata": {
    "scrolled": true
   },
   "outputs": [
    {
     "name": "stdout",
     "output_type": "stream",
     "text": [
      "100 104 108 112 116 120 124 128 132 136 140 144 148 152 156 160 164 168 172 176 180 184 188 192 196 200 204 208 212 216 220 224 228 232 236 240 244 248 252 256 260 264 268 272 276 280 284 288 292 296 300 304 308 312 316 320 324 328 332 336 340 344 348 352 356 360 364 368 372 376 380 384 388 392 396 "
     ]
    }
   ],
   "source": [
    "for i in range(100,397,4): print(i, end=' ')"
   ]
  },
  {
   "cell_type": "code",
   "execution_count": 28,
   "id": "83b87840",
   "metadata": {},
   "outputs": [
    {
     "name": "stdout",
     "output_type": "stream",
     "text": [
      "99\n",
      "66\n",
      "8\n",
      "74\n",
      "ABC\n",
      "456\n"
     ]
    }
   ],
   "source": [
    "l = [99,66,8,74,'ABC','456']\n",
    "i = 0\n",
    "while i<len(l): \n",
    "    print(l[i])\n",
    "    i += 1"
   ]
  },
  {
   "cell_type": "code",
   "execution_count": 6,
   "id": "270bcc28",
   "metadata": {},
   "outputs": [
    {
     "name": "stdout",
     "output_type": "stream",
     "text": [
      "99,25,4,5,6,7,8\n"
     ]
    }
   ],
   "source": [
    "x='99,25,4,5,6,7,8'\n",
    "l=['77','a',x,'66','hello']\n",
    "i=0\n",
    "while i<len(l):\n",
    "    if l[i]==x:\n",
    "        print(l[i])\n",
    "    i += 1"
   ]
  },
  {
   "cell_type": "code",
   "execution_count": 18,
   "id": "8a9f947e",
   "metadata": {
    "scrolled": true
   },
   "outputs": [
    {
     "name": "stdout",
     "output_type": "stream",
     "text": [
      "9\n",
      "9\n",
      ",\n",
      "2\n",
      "5\n",
      ",\n",
      "4\n"
     ]
    }
   ],
   "source": [
    "x='99,25,4,5,6,7,8'\n",
    "for i in range(7):\n",
    "    print(x[i])"
   ]
  },
  {
   "cell_type": "code",
   "execution_count": 92,
   "id": "334782d0",
   "metadata": {
    "scrolled": true
   },
   "outputs": [
    {
     "name": "stdout",
     "output_type": "stream",
     "text": [
      "red small apple\n",
      "red small banana\n",
      "red big apple\n",
      "red big banana\n",
      "red small dog\n",
      "red small cat\n",
      "red big dog\n",
      "red big cat\n",
      "blue small apple\n",
      "blue small banana\n",
      "blue big apple\n",
      "blue big banana\n",
      "blue small dog\n",
      "blue small cat\n",
      "blue big dog\n",
      "blue big cat\n"
     ]
    }
   ],
   "source": [
    "color = [\"red\", \"blue\"]\n",
    "size = [\"small\",\"big\"]\n",
    "fruits = [\"apple\", \"banana\"]\n",
    "animals = [\"dog\", \"cat\"]\n",
    "\n",
    "for a in color: \n",
    "    for b in size:\n",
    "        for c in fruits:\n",
    "            print(a,b,c) \n",
    "    for d in size:\n",
    "        for e in animals:\n",
    "            print(a,d,e) "
   ]
  }
 ],
 "metadata": {
  "kernelspec": {
   "display_name": "Python 3 (ipykernel)",
   "language": "python",
   "name": "python3"
  },
  "language_info": {
   "codemirror_mode": {
    "name": "ipython",
    "version": 3
   },
   "file_extension": ".py",
   "mimetype": "text/x-python",
   "name": "python",
   "nbconvert_exporter": "python",
   "pygments_lexer": "ipython3",
   "version": "3.9.13"
  }
 },
 "nbformat": 4,
 "nbformat_minor": 5
}
