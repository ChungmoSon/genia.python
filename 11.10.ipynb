{
 "cells": [
  {
   "cell_type": "code",
   "execution_count": 1,
   "id": "229a7153",
   "metadata": {},
   "outputs": [],
   "source": [
    "import pandas as pd"
   ]
  },
  {
   "cell_type": "code",
   "execution_count": 6,
   "id": "b9586cf2",
   "metadata": {},
   "outputs": [
    {
     "data": {
      "text/html": [
       "<div>\n",
       "<style scoped>\n",
       "    .dataframe tbody tr th:only-of-type {\n",
       "        vertical-align: middle;\n",
       "    }\n",
       "\n",
       "    .dataframe tbody tr th {\n",
       "        vertical-align: top;\n",
       "    }\n",
       "\n",
       "    .dataframe thead th {\n",
       "        text-align: right;\n",
       "    }\n",
       "</style>\n",
       "<table border=\"1\" class=\"dataframe\">\n",
       "  <thead>\n",
       "    <tr style=\"text-align: right;\">\n",
       "      <th></th>\n",
       "      <th>PassengerId</th>\n",
       "      <th>Pclass</th>\n",
       "      <th>Name</th>\n",
       "      <th>Sex</th>\n",
       "      <th>Age</th>\n",
       "      <th>SibSp</th>\n",
       "      <th>Parch</th>\n",
       "      <th>Ticket</th>\n",
       "      <th>Fare</th>\n",
       "      <th>Cabin</th>\n",
       "      <th>Embarked</th>\n",
       "    </tr>\n",
       "  </thead>\n",
       "  <tbody>\n",
       "    <tr>\n",
       "      <th>0</th>\n",
       "      <td>892</td>\n",
       "      <td>3</td>\n",
       "      <td>Kelly, Mr. James</td>\n",
       "      <td>male</td>\n",
       "      <td>34.5</td>\n",
       "      <td>0</td>\n",
       "      <td>0</td>\n",
       "      <td>330911</td>\n",
       "      <td>7.8292</td>\n",
       "      <td>NaN</td>\n",
       "      <td>Q</td>\n",
       "    </tr>\n",
       "    <tr>\n",
       "      <th>1</th>\n",
       "      <td>893</td>\n",
       "      <td>3</td>\n",
       "      <td>Wilkes, Mrs. James (Ellen Needs)</td>\n",
       "      <td>female</td>\n",
       "      <td>47.0</td>\n",
       "      <td>1</td>\n",
       "      <td>0</td>\n",
       "      <td>363272</td>\n",
       "      <td>7.0000</td>\n",
       "      <td>NaN</td>\n",
       "      <td>S</td>\n",
       "    </tr>\n",
       "    <tr>\n",
       "      <th>2</th>\n",
       "      <td>894</td>\n",
       "      <td>2</td>\n",
       "      <td>Myles, Mr. Thomas Francis</td>\n",
       "      <td>male</td>\n",
       "      <td>62.0</td>\n",
       "      <td>0</td>\n",
       "      <td>0</td>\n",
       "      <td>240276</td>\n",
       "      <td>9.6875</td>\n",
       "      <td>NaN</td>\n",
       "      <td>Q</td>\n",
       "    </tr>\n",
       "    <tr>\n",
       "      <th>3</th>\n",
       "      <td>895</td>\n",
       "      <td>3</td>\n",
       "      <td>Wirz, Mr. Albert</td>\n",
       "      <td>male</td>\n",
       "      <td>27.0</td>\n",
       "      <td>0</td>\n",
       "      <td>0</td>\n",
       "      <td>315154</td>\n",
       "      <td>8.6625</td>\n",
       "      <td>NaN</td>\n",
       "      <td>S</td>\n",
       "    </tr>\n",
       "    <tr>\n",
       "      <th>4</th>\n",
       "      <td>896</td>\n",
       "      <td>3</td>\n",
       "      <td>Hirvonen, Mrs. Alexander (Helga E Lindqvist)</td>\n",
       "      <td>female</td>\n",
       "      <td>22.0</td>\n",
       "      <td>1</td>\n",
       "      <td>1</td>\n",
       "      <td>3101298</td>\n",
       "      <td>12.2875</td>\n",
       "      <td>NaN</td>\n",
       "      <td>S</td>\n",
       "    </tr>\n",
       "    <tr>\n",
       "      <th>...</th>\n",
       "      <td>...</td>\n",
       "      <td>...</td>\n",
       "      <td>...</td>\n",
       "      <td>...</td>\n",
       "      <td>...</td>\n",
       "      <td>...</td>\n",
       "      <td>...</td>\n",
       "      <td>...</td>\n",
       "      <td>...</td>\n",
       "      <td>...</td>\n",
       "      <td>...</td>\n",
       "    </tr>\n",
       "    <tr>\n",
       "      <th>413</th>\n",
       "      <td>1305</td>\n",
       "      <td>3</td>\n",
       "      <td>Spector, Mr. Woolf</td>\n",
       "      <td>male</td>\n",
       "      <td>NaN</td>\n",
       "      <td>0</td>\n",
       "      <td>0</td>\n",
       "      <td>A.5. 3236</td>\n",
       "      <td>8.0500</td>\n",
       "      <td>NaN</td>\n",
       "      <td>S</td>\n",
       "    </tr>\n",
       "    <tr>\n",
       "      <th>414</th>\n",
       "      <td>1306</td>\n",
       "      <td>1</td>\n",
       "      <td>Oliva y Ocana, Dona. Fermina</td>\n",
       "      <td>female</td>\n",
       "      <td>39.0</td>\n",
       "      <td>0</td>\n",
       "      <td>0</td>\n",
       "      <td>PC 17758</td>\n",
       "      <td>108.9000</td>\n",
       "      <td>C105</td>\n",
       "      <td>C</td>\n",
       "    </tr>\n",
       "    <tr>\n",
       "      <th>415</th>\n",
       "      <td>1307</td>\n",
       "      <td>3</td>\n",
       "      <td>Saether, Mr. Simon Sivertsen</td>\n",
       "      <td>male</td>\n",
       "      <td>38.5</td>\n",
       "      <td>0</td>\n",
       "      <td>0</td>\n",
       "      <td>SOTON/O.Q. 3101262</td>\n",
       "      <td>7.2500</td>\n",
       "      <td>NaN</td>\n",
       "      <td>S</td>\n",
       "    </tr>\n",
       "    <tr>\n",
       "      <th>416</th>\n",
       "      <td>1308</td>\n",
       "      <td>3</td>\n",
       "      <td>Ware, Mr. Frederick</td>\n",
       "      <td>male</td>\n",
       "      <td>NaN</td>\n",
       "      <td>0</td>\n",
       "      <td>0</td>\n",
       "      <td>359309</td>\n",
       "      <td>8.0500</td>\n",
       "      <td>NaN</td>\n",
       "      <td>S</td>\n",
       "    </tr>\n",
       "    <tr>\n",
       "      <th>417</th>\n",
       "      <td>1309</td>\n",
       "      <td>3</td>\n",
       "      <td>Peter, Master. Michael J</td>\n",
       "      <td>male</td>\n",
       "      <td>NaN</td>\n",
       "      <td>1</td>\n",
       "      <td>1</td>\n",
       "      <td>2668</td>\n",
       "      <td>22.3583</td>\n",
       "      <td>NaN</td>\n",
       "      <td>C</td>\n",
       "    </tr>\n",
       "  </tbody>\n",
       "</table>\n",
       "<p>418 rows × 11 columns</p>\n",
       "</div>"
      ],
      "text/plain": [
       "     PassengerId  Pclass                                          Name  \\\n",
       "0            892       3                              Kelly, Mr. James   \n",
       "1            893       3              Wilkes, Mrs. James (Ellen Needs)   \n",
       "2            894       2                     Myles, Mr. Thomas Francis   \n",
       "3            895       3                              Wirz, Mr. Albert   \n",
       "4            896       3  Hirvonen, Mrs. Alexander (Helga E Lindqvist)   \n",
       "..           ...     ...                                           ...   \n",
       "413         1305       3                            Spector, Mr. Woolf   \n",
       "414         1306       1                  Oliva y Ocana, Dona. Fermina   \n",
       "415         1307       3                  Saether, Mr. Simon Sivertsen   \n",
       "416         1308       3                           Ware, Mr. Frederick   \n",
       "417         1309       3                      Peter, Master. Michael J   \n",
       "\n",
       "        Sex   Age  SibSp  Parch              Ticket      Fare Cabin Embarked  \n",
       "0      male  34.5      0      0              330911    7.8292   NaN        Q  \n",
       "1    female  47.0      1      0              363272    7.0000   NaN        S  \n",
       "2      male  62.0      0      0              240276    9.6875   NaN        Q  \n",
       "3      male  27.0      0      0              315154    8.6625   NaN        S  \n",
       "4    female  22.0      1      1             3101298   12.2875   NaN        S  \n",
       "..      ...   ...    ...    ...                 ...       ...   ...      ...  \n",
       "413    male   NaN      0      0           A.5. 3236    8.0500   NaN        S  \n",
       "414  female  39.0      0      0            PC 17758  108.9000  C105        C  \n",
       "415    male  38.5      0      0  SOTON/O.Q. 3101262    7.2500   NaN        S  \n",
       "416    male   NaN      0      0              359309    8.0500   NaN        S  \n",
       "417    male   NaN      1      1                2668   22.3583   NaN        C  \n",
       "\n",
       "[418 rows x 11 columns]"
      ]
     },
     "execution_count": 6,
     "metadata": {},
     "output_type": "execute_result"
    }
   ],
   "source": [
    "titanic=pd.read_csv('test.csv')\n",
    "titanic"
   ]
  },
  {
   "cell_type": "code",
   "execution_count": 8,
   "id": "e516cb0d",
   "metadata": {},
   "outputs": [
    {
     "data": {
      "text/html": [
       "<div>\n",
       "<style scoped>\n",
       "    .dataframe tbody tr th:only-of-type {\n",
       "        vertical-align: middle;\n",
       "    }\n",
       "\n",
       "    .dataframe tbody tr th {\n",
       "        vertical-align: top;\n",
       "    }\n",
       "\n",
       "    .dataframe thead th {\n",
       "        text-align: right;\n",
       "    }\n",
       "</style>\n",
       "<table border=\"1\" class=\"dataframe\">\n",
       "  <thead>\n",
       "    <tr style=\"text-align: right;\">\n",
       "      <th></th>\n",
       "      <th>Age</th>\n",
       "      <th>SibSp</th>\n",
       "      <th>Parch</th>\n",
       "    </tr>\n",
       "  </thead>\n",
       "  <tbody>\n",
       "    <tr>\n",
       "      <th>0</th>\n",
       "      <td>34.5</td>\n",
       "      <td>0</td>\n",
       "      <td>0</td>\n",
       "    </tr>\n",
       "    <tr>\n",
       "      <th>1</th>\n",
       "      <td>47.0</td>\n",
       "      <td>1</td>\n",
       "      <td>0</td>\n",
       "    </tr>\n",
       "    <tr>\n",
       "      <th>2</th>\n",
       "      <td>62.0</td>\n",
       "      <td>0</td>\n",
       "      <td>0</td>\n",
       "    </tr>\n",
       "    <tr>\n",
       "      <th>3</th>\n",
       "      <td>27.0</td>\n",
       "      <td>0</td>\n",
       "      <td>0</td>\n",
       "    </tr>\n",
       "    <tr>\n",
       "      <th>4</th>\n",
       "      <td>22.0</td>\n",
       "      <td>1</td>\n",
       "      <td>1</td>\n",
       "    </tr>\n",
       "    <tr>\n",
       "      <th>5</th>\n",
       "      <td>14.0</td>\n",
       "      <td>0</td>\n",
       "      <td>0</td>\n",
       "    </tr>\n",
       "    <tr>\n",
       "      <th>6</th>\n",
       "      <td>30.0</td>\n",
       "      <td>0</td>\n",
       "      <td>0</td>\n",
       "    </tr>\n",
       "    <tr>\n",
       "      <th>7</th>\n",
       "      <td>26.0</td>\n",
       "      <td>1</td>\n",
       "      <td>1</td>\n",
       "    </tr>\n",
       "    <tr>\n",
       "      <th>8</th>\n",
       "      <td>18.0</td>\n",
       "      <td>0</td>\n",
       "      <td>0</td>\n",
       "    </tr>\n",
       "    <tr>\n",
       "      <th>9</th>\n",
       "      <td>21.0</td>\n",
       "      <td>2</td>\n",
       "      <td>0</td>\n",
       "    </tr>\n",
       "  </tbody>\n",
       "</table>\n",
       "</div>"
      ],
      "text/plain": [
       "    Age  SibSp  Parch\n",
       "0  34.5      0      0\n",
       "1  47.0      1      0\n",
       "2  62.0      0      0\n",
       "3  27.0      0      0\n",
       "4  22.0      1      1\n",
       "5  14.0      0      0\n",
       "6  30.0      0      0\n",
       "7  26.0      1      1\n",
       "8  18.0      0      0\n",
       "9  21.0      2      0"
      ]
     },
     "execution_count": 8,
     "metadata": {},
     "output_type": "execute_result"
    }
   ],
   "source": [
    "titanic_small = titanic[['Age','SibSp','Parch']].iloc[:10]\n",
    "titanic_small"
   ]
  },
  {
   "cell_type": "code",
   "execution_count": 9,
   "id": "df3f0c02",
   "metadata": {},
   "outputs": [],
   "source": [
    "import numpy as np"
   ]
  },
  {
   "cell_type": "code",
   "execution_count": 12,
   "id": "9a38ce34",
   "metadata": {},
   "outputs": [],
   "source": [
    "titanic_array = np.array(titanic_small)"
   ]
  },
  {
   "cell_type": "code",
   "execution_count": 11,
   "id": "3088c228",
   "metadata": {},
   "outputs": [
    {
     "data": {
      "text/plain": [
       "array(['hello'], dtype='<U5')"
      ]
     },
     "execution_count": 11,
     "metadata": {},
     "output_type": "execute_result"
    }
   ],
   "source": [
    "np.array(['hello'])"
   ]
  },
  {
   "cell_type": "code",
   "execution_count": 14,
   "id": "dcfc899b",
   "metadata": {},
   "outputs": [],
   "source": [
    "np.save('titanic.npy', titanic_array)"
   ]
  },
  {
   "cell_type": "code",
   "execution_count": 15,
   "id": "2bf0b09f",
   "metadata": {},
   "outputs": [],
   "source": [
    "titanic_array_load = np.load('titanic.npy')"
   ]
  },
  {
   "cell_type": "code",
   "execution_count": 16,
   "id": "3473bb85",
   "metadata": {
    "scrolled": false
   },
   "outputs": [
    {
     "data": {
      "text/plain": [
       "array([[ True,  True,  True],\n",
       "       [ True,  True,  True],\n",
       "       [ True,  True,  True],\n",
       "       [ True,  True,  True],\n",
       "       [ True,  True,  True],\n",
       "       [ True,  True,  True],\n",
       "       [ True,  True,  True],\n",
       "       [ True,  True,  True],\n",
       "       [ True,  True,  True],\n",
       "       [ True,  True,  True]])"
      ]
     },
     "execution_count": 16,
     "metadata": {},
     "output_type": "execute_result"
    }
   ],
   "source": [
    "titanic_array_load == titanic_array"
   ]
  },
  {
   "cell_type": "markdown",
   "id": "41ddfe55",
   "metadata": {},
   "source": [
    "##실습"
   ]
  },
  {
   "cell_type": "code",
   "execution_count": 45,
   "id": "410d1ac0",
   "metadata": {},
   "outputs": [],
   "source": [
    "np.save('df_to_arr.npy', titanic.T.iloc[-3])"
   ]
  },
  {
   "cell_type": "code",
   "execution_count": 19,
   "id": "e1330cf8",
   "metadata": {},
   "outputs": [
    {
     "data": {
      "text/plain": [
       "0       7.8292\n",
       "1          7.0\n",
       "2       9.6875\n",
       "3       8.6625\n",
       "4      12.2875\n",
       "        ...   \n",
       "413       8.05\n",
       "414      108.9\n",
       "415       7.25\n",
       "416       8.05\n",
       "417    22.3583\n",
       "Name: Fare, Length: 418, dtype: object"
      ]
     },
     "execution_count": 19,
     "metadata": {},
     "output_type": "execute_result"
    }
   ],
   "source": [
    "titanic.T.iloc[-3]"
   ]
  },
  {
   "cell_type": "code",
   "execution_count": 33,
   "id": "2a8cb712",
   "metadata": {
    "scrolled": true
   },
   "outputs": [
    {
     "data": {
      "text/plain": [
       "array([7.8292, 7.0, 9.6875, 8.6625, 12.2875, 9.225, 7.6292, 29.0, 7.2292,\n",
       "       24.15, 7.8958, 26.0, 82.2667, 26.0, 61.175, 27.7208, 12.35, 7.225,\n",
       "       7.925, 7.225, 59.4, 3.1708, 31.6833, 61.3792, 262.375, 14.5,\n",
       "       61.9792, 7.225, 30.5, 21.6792, 26.0, 31.5, 20.575, 23.45, 57.75,\n",
       "       7.2292, 8.05, 8.6625, 9.5, 56.4958, 13.4167, 26.55, 7.85, 13.0,\n",
       "       52.5542, 7.925, 29.7, 7.75, 76.2917, 15.9, 60.0, 15.0333, 23.0,\n",
       "       263.0, 15.5792, 29.125, 7.8958, 7.65, 16.1, 262.375, 7.8958, 13.5,\n",
       "       7.75, 7.725, 262.375, 21.0, 7.8792, 42.4, 28.5375, 263.0, 7.75,\n",
       "       7.8958, 7.925, 27.7208, 211.5, 211.5, 8.05, 25.7, 13.0, 7.75,\n",
       "       15.2458, 221.7792, 26.0, 7.8958, 10.7083, 14.4542, 7.8792, 8.05,\n",
       "       7.75, 23.0, 13.9, 7.775, 52.0, 8.05, 26.0, 7.7958, 78.85, 7.925,\n",
       "       7.8542, 8.05, 55.4417, 26.0, 7.75, 7.775, 8.5167, 22.525, 7.8208,\n",
       "       7.75, 8.7125, 13.0, 15.0458, 7.7792, 31.6792, 7.2833, 221.7792,\n",
       "       14.4542, 6.4375, 16.7, 75.2417, 26.0, 15.75, 7.75, 57.75, 7.25,\n",
       "       7.75, 16.1, 7.7958, 23.25, 13.0, 8.05, 8.05, 28.5, 25.4667, 6.4375,\n",
       "       7.8958, 7.8542, 7.225, 13.0, 8.05, 46.9, 46.9, 151.55, 262.375,\n",
       "       26.0, 26.55, 18.0, 51.8625, 8.05, 26.55, 26.0, 83.1583, 7.8958,\n",
       "       nan, 12.1833, 31.3875, 7.55, 221.7792, 7.8542, 26.55, 13.775,\n",
       "       7.7333, 15.2458, 13.5, 7.0, 13.0, 22.025, 50.4958, 34.375, 27.7208,\n",
       "       8.9625, 7.55, 7.225, 13.9, 7.2292, 31.3875, 39.0, 36.75, 55.4417,\n",
       "       39.0, 83.1583, 13.0, 83.1583, 53.1, 7.75, 247.5208, 16.0, 21.0,\n",
       "       8.05, 69.55, 13.0, 26.0, 26.0, 14.5, 12.35, 32.5, 7.8542, 134.5,\n",
       "       7.775, 10.5, 8.1125, 15.5, 14.4, 227.525, 26.0, 10.5, 25.7417,\n",
       "       7.75, 10.5, 27.7208, 7.8958, 22.525, 7.05, 73.5, 26.0, 7.775, 42.5,\n",
       "       7.8792, 164.8667, 211.5, 8.05, 13.8583, 8.05, 10.5, 7.7958,\n",
       "       27.4458, 15.2458, 7.7958, 7.75, 15.1, 13.0, 65.0, 26.55, 6.4958,\n",
       "       7.8792, 71.2833, 7.8542, 75.25, 7.225, 13.0, 106.425, 27.7208,\n",
       "       30.0, 134.5, 7.8875, 23.45, 51.8625, 21.0, 32.5, 26.0, 14.4542,\n",
       "       27.75, 7.925, 136.7792, 9.325, 9.5, 7.55, 7.75, 8.05, 13.0, 7.775,\n",
       "       17.4, 7.8542, 23.0, 12.1833, 12.7375, 7.8958, 0.0, 7.55, 8.05,\n",
       "       8.6625, 75.2417, 7.75, 136.7792, 15.5, 7.225, 26.0, 10.5, 26.0,\n",
       "       21.0, 10.5, 8.6625, 13.775, 7.75, 15.2458, 20.2125, 7.25, 7.25,\n",
       "       82.2667, 7.2292, 8.05, 39.6, 6.95, 7.2292, 81.8583, 9.5, 7.8958,\n",
       "       41.5792, 21.6792, 45.5, 7.8542, 7.775, 15.0458, 21.0, 8.6625, 7.75,\n",
       "       26.55, 151.55, 9.35, 93.5, 14.1083, 8.6625, 7.225, 7.575, 7.75,\n",
       "       135.6333, 7.7333, 146.5208, 10.5, 7.8542, 31.5, 7.775, 7.2292,\n",
       "       13.0, 26.55, 211.3375, 7.05, 39.0, 79.2, 26.0, 13.0, 36.75, 29.7,\n",
       "       7.225, 15.7417, 7.8958, 26.0, 13.0, 7.2292, 31.5, 7.2292, 10.5,\n",
       "       7.5792, 69.55, 512.3292, 14.5, 7.65, 13.0, 7.2292, 13.5, 21.0,\n",
       "       63.3583, 10.5, 73.5, 65.0, 20.575, 26.0, 51.4792, 7.8792, 7.75,\n",
       "       15.55, 69.55, 37.0042, 21.0, 8.6625, 55.4417, 69.55, 14.4583,\n",
       "       39.6875, 59.4, 13.8583, 11.5, 134.5, 0.0, 13.0, 81.8583, 262.375,\n",
       "       8.6625, 11.5, 50.0, 31.3875, 7.75, 7.8792, 14.5, 16.1, 12.875,\n",
       "       65.0, 7.775, 13.0, 7.75, 21.075, 93.5, 39.4, 20.25, 10.5, 22.025,\n",
       "       60.0, 7.25, 79.2, 7.775, 7.7333, 164.8667, 21.0, 59.4, 47.1,\n",
       "       27.7208, 13.8625, 10.5, 211.5, 7.7208, 13.775, 7.75, 90.0, 7.775,\n",
       "       8.05, 108.9, 7.25, 8.05, 22.3583], dtype=object)"
      ]
     },
     "execution_count": 33,
     "metadata": {},
     "output_type": "execute_result"
    }
   ],
   "source": [
    "df_to_arr_load = np.load('df_to_arr.npy',allow_pickle=True)\n",
    "df_to_arr_load"
   ]
  },
  {
   "cell_type": "code",
   "execution_count": 44,
   "id": "aeae41ca",
   "metadata": {},
   "outputs": [
    {
     "data": {
      "text/plain": [
       "640.30357"
      ]
     },
     "execution_count": 44,
     "metadata": {},
     "output_type": "execute_result"
    }
   ],
   "source": [
    "df_to_arr_load[2:5].dot(df_to_arr_load[7:10])"
   ]
  },
  {
   "cell_type": "markdown",
   "id": "e4a2df79",
   "metadata": {},
   "source": [
    "##실습정답"
   ]
  },
  {
   "cell_type": "code",
   "execution_count": 47,
   "id": "1daf9865",
   "metadata": {
    "scrolled": true
   },
   "outputs": [
    {
     "data": {
      "text/plain": [
       "array([  7.8292,   7.    ,   9.6875,   8.6625,  12.2875,   9.225 ,\n",
       "         7.6292,  29.    ,   7.2292,  24.15  ,   7.8958,  26.    ,\n",
       "        82.2667,  26.    ,  61.175 ,  27.7208,  12.35  ,   7.225 ,\n",
       "         7.925 ,   7.225 ,  59.4   ,   3.1708,  31.6833,  61.3792,\n",
       "       262.375 ,  14.5   ,  61.9792,   7.225 ,  30.5   ,  21.6792,\n",
       "        26.    ,  31.5   ,  20.575 ,  23.45  ,  57.75  ,   7.2292,\n",
       "         8.05  ,   8.6625,   9.5   ,  56.4958,  13.4167,  26.55  ,\n",
       "         7.85  ,  13.    ,  52.5542,   7.925 ,  29.7   ,   7.75  ,\n",
       "        76.2917,  15.9   ,  60.    ,  15.0333,  23.    , 263.    ,\n",
       "        15.5792,  29.125 ,   7.8958,   7.65  ,  16.1   , 262.375 ,\n",
       "         7.8958,  13.5   ,   7.75  ,   7.725 , 262.375 ,  21.    ,\n",
       "         7.8792,  42.4   ,  28.5375, 263.    ,   7.75  ,   7.8958,\n",
       "         7.925 ,  27.7208, 211.5   , 211.5   ,   8.05  ,  25.7   ,\n",
       "        13.    ,   7.75  ,  15.2458, 221.7792,  26.    ,   7.8958,\n",
       "        10.7083,  14.4542,   7.8792,   8.05  ,   7.75  ,  23.    ,\n",
       "        13.9   ,   7.775 ,  52.    ,   8.05  ,  26.    ,   7.7958,\n",
       "        78.85  ,   7.925 ,   7.8542,   8.05  ,  55.4417,  26.    ,\n",
       "         7.75  ,   7.775 ,   8.5167,  22.525 ,   7.8208,   7.75  ,\n",
       "         8.7125,  13.    ,  15.0458,   7.7792,  31.6792,   7.2833,\n",
       "       221.7792,  14.4542,   6.4375,  16.7   ,  75.2417,  26.    ,\n",
       "        15.75  ,   7.75  ,  57.75  ,   7.25  ,   7.75  ,  16.1   ,\n",
       "         7.7958,  23.25  ,  13.    ,   8.05  ,   8.05  ,  28.5   ,\n",
       "        25.4667,   6.4375,   7.8958,   7.8542,   7.225 ,  13.    ,\n",
       "         8.05  ,  46.9   ,  46.9   , 151.55  , 262.375 ,  26.    ,\n",
       "        26.55  ,  18.    ,  51.8625,   8.05  ,  26.55  ,  26.    ,\n",
       "        83.1583,   7.8958,      nan,  12.1833,  31.3875,   7.55  ,\n",
       "       221.7792,   7.8542,  26.55  ,  13.775 ,   7.7333,  15.2458,\n",
       "        13.5   ,   7.    ,  13.    ,  22.025 ,  50.4958,  34.375 ,\n",
       "        27.7208,   8.9625,   7.55  ,   7.225 ,  13.9   ,   7.2292,\n",
       "        31.3875,  39.    ,  36.75  ,  55.4417,  39.    ,  83.1583,\n",
       "        13.    ,  83.1583,  53.1   ,   7.75  , 247.5208,  16.    ,\n",
       "        21.    ,   8.05  ,  69.55  ,  13.    ,  26.    ,  26.    ,\n",
       "        14.5   ,  12.35  ,  32.5   ,   7.8542, 134.5   ,   7.775 ,\n",
       "        10.5   ,   8.1125,  15.5   ,  14.4   , 227.525 ,  26.    ,\n",
       "        10.5   ,  25.7417,   7.75  ,  10.5   ,  27.7208,   7.8958,\n",
       "        22.525 ,   7.05  ,  73.5   ,  26.    ,   7.775 ,  42.5   ,\n",
       "         7.8792, 164.8667, 211.5   ,   8.05  ,  13.8583,   8.05  ,\n",
       "        10.5   ,   7.7958,  27.4458,  15.2458,   7.7958,   7.75  ,\n",
       "        15.1   ,  13.    ,  65.    ,  26.55  ,   6.4958,   7.8792,\n",
       "        71.2833,   7.8542,  75.25  ,   7.225 ,  13.    , 106.425 ,\n",
       "        27.7208,  30.    , 134.5   ,   7.8875,  23.45  ,  51.8625,\n",
       "        21.    ,  32.5   ,  26.    ,  14.4542,  27.75  ,   7.925 ,\n",
       "       136.7792,   9.325 ,   9.5   ,   7.55  ,   7.75  ,   8.05  ,\n",
       "        13.    ,   7.775 ,  17.4   ,   7.8542,  23.    ,  12.1833,\n",
       "        12.7375,   7.8958,   0.    ,   7.55  ,   8.05  ,   8.6625,\n",
       "        75.2417,   7.75  , 136.7792,  15.5   ,   7.225 ,  26.    ,\n",
       "        10.5   ,  26.    ,  21.    ,  10.5   ,   8.6625,  13.775 ,\n",
       "         7.75  ,  15.2458,  20.2125,   7.25  ,   7.25  ,  82.2667,\n",
       "         7.2292,   8.05  ,  39.6   ,   6.95  ,   7.2292,  81.8583,\n",
       "         9.5   ,   7.8958,  41.5792,  21.6792,  45.5   ,   7.8542,\n",
       "         7.775 ,  15.0458,  21.    ,   8.6625,   7.75  ,  26.55  ,\n",
       "       151.55  ,   9.35  ,  93.5   ,  14.1083,   8.6625,   7.225 ,\n",
       "         7.575 ,   7.75  , 135.6333,   7.7333, 146.5208,  10.5   ,\n",
       "         7.8542,  31.5   ,   7.775 ,   7.2292,  13.    ,  26.55  ,\n",
       "       211.3375,   7.05  ,  39.    ,  79.2   ,  26.    ,  13.    ,\n",
       "        36.75  ,  29.7   ,   7.225 ,  15.7417,   7.8958,  26.    ,\n",
       "        13.    ,   7.2292,  31.5   ,   7.2292,  10.5   ,   7.5792,\n",
       "        69.55  , 512.3292,  14.5   ,   7.65  ,  13.    ,   7.2292,\n",
       "        13.5   ,  21.    ,  63.3583,  10.5   ,  73.5   ,  65.    ,\n",
       "        20.575 ,  26.    ,  51.4792,   7.8792,   7.75  ,  15.55  ,\n",
       "        69.55  ,  37.0042,  21.    ,   8.6625,  55.4417,  69.55  ,\n",
       "        14.4583,  39.6875,  59.4   ,  13.8583,  11.5   , 134.5   ,\n",
       "         0.    ,  13.    ,  81.8583, 262.375 ,   8.6625,  11.5   ,\n",
       "        50.    ,  31.3875,   7.75  ,   7.8792,  14.5   ,  16.1   ,\n",
       "        12.875 ,  65.    ,   7.775 ,  13.    ,   7.75  ,  21.075 ,\n",
       "        93.5   ,  39.4   ,  20.25  ,  10.5   ,  22.025 ,  60.    ,\n",
       "         7.25  ,  79.2   ,   7.775 ,   7.7333, 164.8667,  21.    ,\n",
       "        59.4   ,  47.1   ,  27.7208,  13.8625,  10.5   , 211.5   ,\n",
       "         7.7208,  13.775 ,   7.75  ,  90.    ,   7.775 ,   8.05  ,\n",
       "       108.9   ,   7.25  ,   8.05  ,  22.3583])"
      ]
     },
     "execution_count": 47,
     "metadata": {},
     "output_type": "execute_result"
    }
   ],
   "source": [
    "to_file = np.array(titanic['Fare'])\n",
    "to_file"
   ]
  },
  {
   "cell_type": "code",
   "execution_count": 48,
   "id": "c0e63b39",
   "metadata": {},
   "outputs": [],
   "source": [
    "np.save('df_to_arr.npy', to_file)"
   ]
  },
  {
   "cell_type": "code",
   "execution_count": 49,
   "id": "d8b21e6d",
   "metadata": {},
   "outputs": [],
   "source": [
    "titanic_small = titanic[['Age','SibSp','Parch']].iloc[:10]"
   ]
  },
  {
   "cell_type": "code",
   "execution_count": 52,
   "id": "d218ff90",
   "metadata": {},
   "outputs": [
    {
     "data": {
      "text/plain": [
       "array([[34.5,  0. ,  0. ],\n",
       "       [47. ,  1. ,  0. ],\n",
       "       [62. ,  0. ,  0. ]])"
      ]
     },
     "execution_count": 52,
     "metadata": {},
     "output_type": "execute_result"
    }
   ],
   "source": [
    "array_dot1 = np.array(titanic_small.iloc[:3])\n",
    "array_dot1"
   ]
  },
  {
   "cell_type": "code",
   "execution_count": 55,
   "id": "8445b22f",
   "metadata": {},
   "outputs": [
    {
     "data": {
      "text/plain": [
       "array([[26.,  1.,  1.],\n",
       "       [18.,  0.,  0.],\n",
       "       [21.,  2.,  0.]])"
      ]
     },
     "execution_count": 55,
     "metadata": {},
     "output_type": "execute_result"
    }
   ],
   "source": [
    "array_dot2 = np.array(titanic_small.iloc[-3:])\n",
    "array_dot2"
   ]
  },
  {
   "cell_type": "code",
   "execution_count": 56,
   "id": "fc5229a4",
   "metadata": {},
   "outputs": [
    {
     "data": {
      "text/plain": [
       "array([[ 897. ,   34.5,   34.5],\n",
       "       [1240. ,   47. ,   47. ],\n",
       "       [1612. ,   62. ,   62. ]])"
      ]
     },
     "execution_count": 56,
     "metadata": {},
     "output_type": "execute_result"
    }
   ],
   "source": [
    "array_dot1.dot(array_dot2)"
   ]
  },
  {
   "cell_type": "code",
   "execution_count": 72,
   "id": "fa1f19ac",
   "metadata": {},
   "outputs": [
    {
     "name": "stdout",
     "output_type": "stream",
     "text": [
      "0\n",
      "1\n",
      "0\n",
      "0\n",
      "1\n",
      "0\n",
      "0\n",
      "1\n",
      "0\n",
      "2\n"
     ]
    }
   ],
   "source": [
    "for i in titanic_small.index:\n",
    "    print(titanic_small.iloc[i,1])"
   ]
  },
  {
   "cell_type": "code",
   "execution_count": 68,
   "id": "5ca7913d",
   "metadata": {
    "scrolled": true
   },
   "outputs": [
    {
     "name": "stdout",
     "output_type": "stream",
     "text": [
      "7.8292\n",
      "7.0\n",
      "9.6875\n",
      "8.6625\n",
      "12.2875\n",
      "9.225\n",
      "7.6292\n",
      "29.0\n",
      "7.2292\n",
      "24.15\n"
     ]
    }
   ],
   "source": [
    "i=0\n",
    "while :\n",
    "    print(titanic_small.iloc[i,1]))\n",
    "    i +=1"
   ]
  },
  {
   "cell_type": "code",
   "execution_count": 5,
   "id": "82a3c86b",
   "metadata": {},
   "outputs": [],
   "source": [
    "def plus(x, y):\n",
    "    return x + y\n",
    "plus(1,1)"
   ]
  },
  {
   "cell_type": "code",
   "execution_count": 9,
   "id": "7c284e2b",
   "metadata": {},
   "outputs": [
    {
     "name": "stdout",
     "output_type": "stream",
     "text": [
      "[1, 2, 3, 4, 5]\n"
     ]
    }
   ],
   "source": [
    "def append2(l2):\n",
    "   global l1"
   ]
  },
  {
   "cell_type": "code",
   "execution_count": 10,
   "id": "ea0608a4",
   "metadata": {},
   "outputs": [],
   "source": [
    "import pandas as pd"
   ]
  },
  {
   "cell_type": "code",
   "execution_count": 11,
   "id": "9152918c",
   "metadata": {},
   "outputs": [],
   "source": [
    "df=pd.read_csv('test.csv')"
   ]
  },
  {
   "cell_type": "code",
   "execution_count": 12,
   "id": "cc1352d8",
   "metadata": {},
   "outputs": [
    {
     "data": {
      "text/html": [
       "<div>\n",
       "<style scoped>\n",
       "    .dataframe tbody tr th:only-of-type {\n",
       "        vertical-align: middle;\n",
       "    }\n",
       "\n",
       "    .dataframe tbody tr th {\n",
       "        vertical-align: top;\n",
       "    }\n",
       "\n",
       "    .dataframe thead th {\n",
       "        text-align: right;\n",
       "    }\n",
       "</style>\n",
       "<table border=\"1\" class=\"dataframe\">\n",
       "  <thead>\n",
       "    <tr style=\"text-align: right;\">\n",
       "      <th></th>\n",
       "      <th>PassengerId</th>\n",
       "      <th>Pclass</th>\n",
       "      <th>Name</th>\n",
       "      <th>Sex</th>\n",
       "      <th>Age</th>\n",
       "      <th>SibSp</th>\n",
       "      <th>Parch</th>\n",
       "      <th>Ticket</th>\n",
       "      <th>Fare</th>\n",
       "      <th>Cabin</th>\n",
       "      <th>Embarked</th>\n",
       "    </tr>\n",
       "  </thead>\n",
       "  <tbody>\n",
       "    <tr>\n",
       "      <th>0</th>\n",
       "      <td>892</td>\n",
       "      <td>3</td>\n",
       "      <td>Kelly, Mr. James</td>\n",
       "      <td>male</td>\n",
       "      <td>34.5</td>\n",
       "      <td>0</td>\n",
       "      <td>0</td>\n",
       "      <td>330911</td>\n",
       "      <td>7.8292</td>\n",
       "      <td>NaN</td>\n",
       "      <td>Q</td>\n",
       "    </tr>\n",
       "    <tr>\n",
       "      <th>1</th>\n",
       "      <td>893</td>\n",
       "      <td>3</td>\n",
       "      <td>Wilkes, Mrs. James (Ellen Needs)</td>\n",
       "      <td>female</td>\n",
       "      <td>47.0</td>\n",
       "      <td>1</td>\n",
       "      <td>0</td>\n",
       "      <td>363272</td>\n",
       "      <td>7.0000</td>\n",
       "      <td>NaN</td>\n",
       "      <td>S</td>\n",
       "    </tr>\n",
       "  </tbody>\n",
       "</table>\n",
       "</div>"
      ],
      "text/plain": [
       "   PassengerId  Pclass                              Name     Sex   Age  SibSp  \\\n",
       "0          892       3                  Kelly, Mr. James    male  34.5      0   \n",
       "1          893       3  Wilkes, Mrs. James (Ellen Needs)  female  47.0      1   \n",
       "\n",
       "   Parch  Ticket    Fare Cabin Embarked  \n",
       "0      0  330911  7.8292   NaN        Q  \n",
       "1      0  363272  7.0000   NaN        S  "
      ]
     },
     "execution_count": 12,
     "metadata": {},
     "output_type": "execute_result"
    }
   ],
   "source": [
    "df.head(2)"
   ]
  },
  {
   "cell_type": "code",
   "execution_count": 19,
   "id": "7508506f",
   "metadata": {},
   "outputs": [
    {
     "data": {
      "text/plain": [
       "418"
      ]
     },
     "execution_count": 19,
     "metadata": {},
     "output_type": "execute_result"
    }
   ],
   "source": [
    "fn1=0\n",
    "for i in df.index:\n",
    "    df.iloc[i,-7]>=20\n",
    "    fn1+=1\n",
    "fn1"
   ]
  },
  {
   "cell_type": "code",
   "execution_count": 31,
   "id": "aecc0ce4",
   "metadata": {
    "scrolled": true
   },
   "outputs": [
    {
     "data": {
      "text/html": [
       "<div>\n",
       "<style scoped>\n",
       "    .dataframe tbody tr th:only-of-type {\n",
       "        vertical-align: middle;\n",
       "    }\n",
       "\n",
       "    .dataframe tbody tr th {\n",
       "        vertical-align: top;\n",
       "    }\n",
       "\n",
       "    .dataframe thead th {\n",
       "        text-align: right;\n",
       "    }\n",
       "</style>\n",
       "<table border=\"1\" class=\"dataframe\">\n",
       "  <thead>\n",
       "    <tr style=\"text-align: right;\">\n",
       "      <th></th>\n",
       "      <th>PassengerId</th>\n",
       "      <th>Pclass</th>\n",
       "      <th>Name</th>\n",
       "      <th>Sex</th>\n",
       "      <th>Age</th>\n",
       "      <th>SibSp</th>\n",
       "      <th>Parch</th>\n",
       "      <th>Ticket</th>\n",
       "      <th>Fare</th>\n",
       "      <th>Cabin</th>\n",
       "      <th>Embarked</th>\n",
       "    </tr>\n",
       "  </thead>\n",
       "  <tbody>\n",
       "    <tr>\n",
       "      <th>0</th>\n",
       "      <td>892</td>\n",
       "      <td>3</td>\n",
       "      <td>Kelly, Mr. James</td>\n",
       "      <td>male</td>\n",
       "      <td>False</td>\n",
       "      <td>0</td>\n",
       "      <td>0</td>\n",
       "      <td>330911</td>\n",
       "      <td>7.8292</td>\n",
       "      <td>NaN</td>\n",
       "      <td>Q</td>\n",
       "    </tr>\n",
       "    <tr>\n",
       "      <th>1</th>\n",
       "      <td>893</td>\n",
       "      <td>3</td>\n",
       "      <td>Wilkes, Mrs. James (Ellen Needs)</td>\n",
       "      <td>female</td>\n",
       "      <td>False</td>\n",
       "      <td>1</td>\n",
       "      <td>0</td>\n",
       "      <td>363272</td>\n",
       "      <td>7.0000</td>\n",
       "      <td>NaN</td>\n",
       "      <td>S</td>\n",
       "    </tr>\n",
       "    <tr>\n",
       "      <th>2</th>\n",
       "      <td>894</td>\n",
       "      <td>2</td>\n",
       "      <td>Myles, Mr. Thomas Francis</td>\n",
       "      <td>male</td>\n",
       "      <td>False</td>\n",
       "      <td>0</td>\n",
       "      <td>0</td>\n",
       "      <td>240276</td>\n",
       "      <td>9.6875</td>\n",
       "      <td>NaN</td>\n",
       "      <td>Q</td>\n",
       "    </tr>\n",
       "    <tr>\n",
       "      <th>3</th>\n",
       "      <td>895</td>\n",
       "      <td>3</td>\n",
       "      <td>Wirz, Mr. Albert</td>\n",
       "      <td>male</td>\n",
       "      <td>False</td>\n",
       "      <td>0</td>\n",
       "      <td>0</td>\n",
       "      <td>315154</td>\n",
       "      <td>8.6625</td>\n",
       "      <td>NaN</td>\n",
       "      <td>S</td>\n",
       "    </tr>\n",
       "    <tr>\n",
       "      <th>4</th>\n",
       "      <td>896</td>\n",
       "      <td>3</td>\n",
       "      <td>Hirvonen, Mrs. Alexander (Helga E Lindqvist)</td>\n",
       "      <td>female</td>\n",
       "      <td>False</td>\n",
       "      <td>1</td>\n",
       "      <td>1</td>\n",
       "      <td>3101298</td>\n",
       "      <td>12.2875</td>\n",
       "      <td>NaN</td>\n",
       "      <td>S</td>\n",
       "    </tr>\n",
       "    <tr>\n",
       "      <th>...</th>\n",
       "      <td>...</td>\n",
       "      <td>...</td>\n",
       "      <td>...</td>\n",
       "      <td>...</td>\n",
       "      <td>...</td>\n",
       "      <td>...</td>\n",
       "      <td>...</td>\n",
       "      <td>...</td>\n",
       "      <td>...</td>\n",
       "      <td>...</td>\n",
       "      <td>...</td>\n",
       "    </tr>\n",
       "    <tr>\n",
       "      <th>413</th>\n",
       "      <td>1305</td>\n",
       "      <td>3</td>\n",
       "      <td>Spector, Mr. Woolf</td>\n",
       "      <td>male</td>\n",
       "      <td>False</td>\n",
       "      <td>0</td>\n",
       "      <td>0</td>\n",
       "      <td>A.5. 3236</td>\n",
       "      <td>8.0500</td>\n",
       "      <td>NaN</td>\n",
       "      <td>S</td>\n",
       "    </tr>\n",
       "    <tr>\n",
       "      <th>414</th>\n",
       "      <td>1306</td>\n",
       "      <td>1</td>\n",
       "      <td>Oliva y Ocana, Dona. Fermina</td>\n",
       "      <td>female</td>\n",
       "      <td>False</td>\n",
       "      <td>0</td>\n",
       "      <td>0</td>\n",
       "      <td>PC 17758</td>\n",
       "      <td>108.9000</td>\n",
       "      <td>C105</td>\n",
       "      <td>C</td>\n",
       "    </tr>\n",
       "    <tr>\n",
       "      <th>415</th>\n",
       "      <td>1307</td>\n",
       "      <td>3</td>\n",
       "      <td>Saether, Mr. Simon Sivertsen</td>\n",
       "      <td>male</td>\n",
       "      <td>False</td>\n",
       "      <td>0</td>\n",
       "      <td>0</td>\n",
       "      <td>SOTON/O.Q. 3101262</td>\n",
       "      <td>7.2500</td>\n",
       "      <td>NaN</td>\n",
       "      <td>S</td>\n",
       "    </tr>\n",
       "    <tr>\n",
       "      <th>416</th>\n",
       "      <td>1308</td>\n",
       "      <td>3</td>\n",
       "      <td>Ware, Mr. Frederick</td>\n",
       "      <td>male</td>\n",
       "      <td>False</td>\n",
       "      <td>0</td>\n",
       "      <td>0</td>\n",
       "      <td>359309</td>\n",
       "      <td>8.0500</td>\n",
       "      <td>NaN</td>\n",
       "      <td>S</td>\n",
       "    </tr>\n",
       "    <tr>\n",
       "      <th>417</th>\n",
       "      <td>1309</td>\n",
       "      <td>3</td>\n",
       "      <td>Peter, Master. Michael J</td>\n",
       "      <td>male</td>\n",
       "      <td>False</td>\n",
       "      <td>1</td>\n",
       "      <td>1</td>\n",
       "      <td>2668</td>\n",
       "      <td>22.3583</td>\n",
       "      <td>NaN</td>\n",
       "      <td>C</td>\n",
       "    </tr>\n",
       "  </tbody>\n",
       "</table>\n",
       "<p>418 rows × 11 columns</p>\n",
       "</div>"
      ],
      "text/plain": [
       "     PassengerId  Pclass                                          Name  \\\n",
       "0            892       3                              Kelly, Mr. James   \n",
       "1            893       3              Wilkes, Mrs. James (Ellen Needs)   \n",
       "2            894       2                     Myles, Mr. Thomas Francis   \n",
       "3            895       3                              Wirz, Mr. Albert   \n",
       "4            896       3  Hirvonen, Mrs. Alexander (Helga E Lindqvist)   \n",
       "..           ...     ...                                           ...   \n",
       "413         1305       3                            Spector, Mr. Woolf   \n",
       "414         1306       1                  Oliva y Ocana, Dona. Fermina   \n",
       "415         1307       3                  Saether, Mr. Simon Sivertsen   \n",
       "416         1308       3                           Ware, Mr. Frederick   \n",
       "417         1309       3                      Peter, Master. Michael J   \n",
       "\n",
       "        Sex    Age  SibSp  Parch              Ticket      Fare Cabin Embarked  \n",
       "0      male  False      0      0              330911    7.8292   NaN        Q  \n",
       "1    female  False      1      0              363272    7.0000   NaN        S  \n",
       "2      male  False      0      0              240276    9.6875   NaN        Q  \n",
       "3      male  False      0      0              315154    8.6625   NaN        S  \n",
       "4    female  False      1      1             3101298   12.2875   NaN        S  \n",
       "..      ...    ...    ...    ...                 ...       ...   ...      ...  \n",
       "413    male  False      0      0           A.5. 3236    8.0500   NaN        S  \n",
       "414  female  False      0      0            PC 17758  108.9000  C105        C  \n",
       "415    male  False      0      0  SOTON/O.Q. 3101262    7.2500   NaN        S  \n",
       "416    male  False      0      0              359309    8.0500   NaN        S  \n",
       "417    male  False      1      1                2668   22.3583   NaN        C  \n",
       "\n",
       "[418 rows x 11 columns]"
      ]
     },
     "execution_count": 31,
     "metadata": {},
     "output_type": "execute_result"
    }
   ],
   "source": [
    "def fn1(i):\n",
    "    return i>=20\n",
    "df['Age']=[fn1(i) for i in df['Age']]\n",
    "df"
   ]
  },
  {
   "cell_type": "code",
   "execution_count": 37,
   "id": "0f9342d6",
   "metadata": {},
   "outputs": [
    {
     "data": {
      "text/html": [
       "<div>\n",
       "<style scoped>\n",
       "    .dataframe tbody tr th:only-of-type {\n",
       "        vertical-align: middle;\n",
       "    }\n",
       "\n",
       "    .dataframe tbody tr th {\n",
       "        vertical-align: top;\n",
       "    }\n",
       "\n",
       "    .dataframe thead th {\n",
       "        text-align: right;\n",
       "    }\n",
       "</style>\n",
       "<table border=\"1\" class=\"dataframe\">\n",
       "  <thead>\n",
       "    <tr style=\"text-align: right;\">\n",
       "      <th></th>\n",
       "      <th>PassengerId</th>\n",
       "      <th>Pclass</th>\n",
       "      <th>Name</th>\n",
       "      <th>Sex</th>\n",
       "      <th>Age</th>\n",
       "      <th>SibSp</th>\n",
       "      <th>Parch</th>\n",
       "      <th>Ticket</th>\n",
       "      <th>Fare</th>\n",
       "      <th>Cabin</th>\n",
       "      <th>Embarked</th>\n",
       "    </tr>\n",
       "  </thead>\n",
       "  <tbody>\n",
       "    <tr>\n",
       "      <th>0</th>\n",
       "      <td>892</td>\n",
       "      <td>3</td>\n",
       "      <td>Kelly, Mr. James</td>\n",
       "      <td>male</td>\n",
       "      <td>False</td>\n",
       "      <td>0</td>\n",
       "      <td>0</td>\n",
       "      <td>330911</td>\n",
       "      <td>7.8292</td>\n",
       "      <td>NaN</td>\n",
       "      <td>Q</td>\n",
       "    </tr>\n",
       "    <tr>\n",
       "      <th>1</th>\n",
       "      <td>893</td>\n",
       "      <td>3</td>\n",
       "      <td>Wilkes, Mrs. James (Ellen Needs)</td>\n",
       "      <td>female</td>\n",
       "      <td>False</td>\n",
       "      <td>1</td>\n",
       "      <td>0</td>\n",
       "      <td>363272</td>\n",
       "      <td>7.0000</td>\n",
       "      <td>NaN</td>\n",
       "      <td>S</td>\n",
       "    </tr>\n",
       "    <tr>\n",
       "      <th>2</th>\n",
       "      <td>894</td>\n",
       "      <td>2</td>\n",
       "      <td>Myles, Mr. Thomas Francis</td>\n",
       "      <td>male</td>\n",
       "      <td>False</td>\n",
       "      <td>0</td>\n",
       "      <td>0</td>\n",
       "      <td>240276</td>\n",
       "      <td>9.6875</td>\n",
       "      <td>NaN</td>\n",
       "      <td>Q</td>\n",
       "    </tr>\n",
       "    <tr>\n",
       "      <th>3</th>\n",
       "      <td>895</td>\n",
       "      <td>3</td>\n",
       "      <td>Wirz, Mr. Albert</td>\n",
       "      <td>male</td>\n",
       "      <td>False</td>\n",
       "      <td>0</td>\n",
       "      <td>0</td>\n",
       "      <td>315154</td>\n",
       "      <td>8.6625</td>\n",
       "      <td>NaN</td>\n",
       "      <td>S</td>\n",
       "    </tr>\n",
       "    <tr>\n",
       "      <th>4</th>\n",
       "      <td>896</td>\n",
       "      <td>3</td>\n",
       "      <td>Hirvonen, Mrs. Alexander (Helga E Lindqvist)</td>\n",
       "      <td>female</td>\n",
       "      <td>False</td>\n",
       "      <td>1</td>\n",
       "      <td>1</td>\n",
       "      <td>3101298</td>\n",
       "      <td>12.2875</td>\n",
       "      <td>NaN</td>\n",
       "      <td>S</td>\n",
       "    </tr>\n",
       "    <tr>\n",
       "      <th>...</th>\n",
       "      <td>...</td>\n",
       "      <td>...</td>\n",
       "      <td>...</td>\n",
       "      <td>...</td>\n",
       "      <td>...</td>\n",
       "      <td>...</td>\n",
       "      <td>...</td>\n",
       "      <td>...</td>\n",
       "      <td>...</td>\n",
       "      <td>...</td>\n",
       "      <td>...</td>\n",
       "    </tr>\n",
       "    <tr>\n",
       "      <th>413</th>\n",
       "      <td>1305</td>\n",
       "      <td>3</td>\n",
       "      <td>Spector, Mr. Woolf</td>\n",
       "      <td>male</td>\n",
       "      <td>False</td>\n",
       "      <td>0</td>\n",
       "      <td>0</td>\n",
       "      <td>A.5. 3236</td>\n",
       "      <td>8.0500</td>\n",
       "      <td>NaN</td>\n",
       "      <td>S</td>\n",
       "    </tr>\n",
       "    <tr>\n",
       "      <th>414</th>\n",
       "      <td>1306</td>\n",
       "      <td>1</td>\n",
       "      <td>Oliva y Ocana, Dona. Fermina</td>\n",
       "      <td>female</td>\n",
       "      <td>False</td>\n",
       "      <td>0</td>\n",
       "      <td>0</td>\n",
       "      <td>PC 17758</td>\n",
       "      <td>108.9000</td>\n",
       "      <td>C105</td>\n",
       "      <td>C</td>\n",
       "    </tr>\n",
       "    <tr>\n",
       "      <th>415</th>\n",
       "      <td>1307</td>\n",
       "      <td>3</td>\n",
       "      <td>Saether, Mr. Simon Sivertsen</td>\n",
       "      <td>male</td>\n",
       "      <td>False</td>\n",
       "      <td>0</td>\n",
       "      <td>0</td>\n",
       "      <td>SOTON/O.Q. 3101262</td>\n",
       "      <td>7.2500</td>\n",
       "      <td>NaN</td>\n",
       "      <td>S</td>\n",
       "    </tr>\n",
       "    <tr>\n",
       "      <th>416</th>\n",
       "      <td>1308</td>\n",
       "      <td>3</td>\n",
       "      <td>Ware, Mr. Frederick</td>\n",
       "      <td>male</td>\n",
       "      <td>False</td>\n",
       "      <td>0</td>\n",
       "      <td>0</td>\n",
       "      <td>359309</td>\n",
       "      <td>8.0500</td>\n",
       "      <td>NaN</td>\n",
       "      <td>S</td>\n",
       "    </tr>\n",
       "    <tr>\n",
       "      <th>417</th>\n",
       "      <td>1309</td>\n",
       "      <td>3</td>\n",
       "      <td>Peter, Master. Michael J</td>\n",
       "      <td>male</td>\n",
       "      <td>False</td>\n",
       "      <td>1</td>\n",
       "      <td>1</td>\n",
       "      <td>2668</td>\n",
       "      <td>22.3583</td>\n",
       "      <td>NaN</td>\n",
       "      <td>C</td>\n",
       "    </tr>\n",
       "  </tbody>\n",
       "</table>\n",
       "<p>418 rows × 11 columns</p>\n",
       "</div>"
      ],
      "text/plain": [
       "     PassengerId  Pclass                                          Name  \\\n",
       "0            892       3                              Kelly, Mr. James   \n",
       "1            893       3              Wilkes, Mrs. James (Ellen Needs)   \n",
       "2            894       2                     Myles, Mr. Thomas Francis   \n",
       "3            895       3                              Wirz, Mr. Albert   \n",
       "4            896       3  Hirvonen, Mrs. Alexander (Helga E Lindqvist)   \n",
       "..           ...     ...                                           ...   \n",
       "413         1305       3                            Spector, Mr. Woolf   \n",
       "414         1306       1                  Oliva y Ocana, Dona. Fermina   \n",
       "415         1307       3                  Saether, Mr. Simon Sivertsen   \n",
       "416         1308       3                           Ware, Mr. Frederick   \n",
       "417         1309       3                      Peter, Master. Michael J   \n",
       "\n",
       "        Sex    Age  SibSp  Parch              Ticket      Fare Cabin Embarked  \n",
       "0      male  False      0      0              330911    7.8292   NaN        Q  \n",
       "1    female  False      1      0              363272    7.0000   NaN        S  \n",
       "2      male  False      0      0              240276    9.6875   NaN        Q  \n",
       "3      male  False      0      0              315154    8.6625   NaN        S  \n",
       "4    female  False      1      1             3101298   12.2875   NaN        S  \n",
       "..      ...    ...    ...    ...                 ...       ...   ...      ...  \n",
       "413    male  False      0      0           A.5. 3236    8.0500   NaN        S  \n",
       "414  female  False      0      0            PC 17758  108.9000  C105        C  \n",
       "415    male  False      0      0  SOTON/O.Q. 3101262    7.2500   NaN        S  \n",
       "416    male  False      0      0              359309    8.0500   NaN        S  \n",
       "417    male  False      1      1                2668   22.3583   NaN        C  \n",
       "\n",
       "[418 rows x 11 columns]"
      ]
     },
     "execution_count": 37,
     "metadata": {},
     "output_type": "execute_result"
    }
   ],
   "source": [
    "j=0\n",
    "def fn2(i):\n",
    "    global j\n",
    "    global df\n",
    "    df.loc[j,'Age']=i>=20\n",
    "    j+=1\n",
    "[fn1(i) for i in df['Age']]\n",
    "df"
   ]
  },
  {
   "cell_type": "code",
   "execution_count": 47,
   "id": "f2f1e09e",
   "metadata": {},
   "outputs": [
    {
     "ename": "TypeError",
     "evalue": "list indices must be integers or slices, not str",
     "output_type": "error",
     "traceback": [
      "\u001b[1;31m---------------------------------------------------------------------------\u001b[0m",
      "\u001b[1;31mTypeError\u001b[0m                                 Traceback (most recent call last)",
      "\u001b[1;32m~\\AppData\\Local\\Temp\\ipykernel_6300\\3530909488.py\u001b[0m in \u001b[0;36m<module>\u001b[1;34m\u001b[0m\n\u001b[0;32m      1\u001b[0m \u001b[0mcount\u001b[0m\u001b[1;33m=\u001b[0m\u001b[1;36m0\u001b[0m\u001b[1;33m\u001b[0m\u001b[1;33m\u001b[0m\u001b[0m\n\u001b[1;32m----> 2\u001b[1;33m \u001b[1;32mfor\u001b[0m \u001b[0mi\u001b[0m \u001b[1;32min\u001b[0m \u001b[0mlist\u001b[0m\u001b[1;33m(\u001b[0m\u001b[0mdf\u001b[0m\u001b[1;33m[\u001b[0m\u001b[1;34m'Name'\u001b[0m\u001b[1;33m]\u001b[0m\u001b[1;33m)\u001b[0m\u001b[1;33m[\u001b[0m\u001b[0mi\u001b[0m\u001b[1;33m]\u001b[0m\u001b[1;33m:\u001b[0m\u001b[1;33m\u001b[0m\u001b[1;33m\u001b[0m\u001b[0m\n\u001b[0m\u001b[0;32m      3\u001b[0m     \u001b[1;32mfor\u001b[0m \u001b[0mj\u001b[0m \u001b[1;32min\u001b[0m \u001b[0mlist\u001b[0m\u001b[1;33m(\u001b[0m\u001b[0mdf\u001b[0m\u001b[1;33m[\u001b[0m\u001b[1;34m'Name'\u001b[0m\u001b[1;33m]\u001b[0m\u001b[1;33m)\u001b[0m\u001b[1;33m[\u001b[0m\u001b[0mi\u001b[0m\u001b[1;33m]\u001b[0m\u001b[1;33m[\u001b[0m\u001b[0mj\u001b[0m\u001b[1;33m]\u001b[0m\u001b[1;33m:\u001b[0m\u001b[1;33m\u001b[0m\u001b[1;33m\u001b[0m\u001b[0m\n\u001b[0;32m      4\u001b[0m         \u001b[0mlist\u001b[0m\u001b[1;33m(\u001b[0m\u001b[0mdf\u001b[0m\u001b[1;33m[\u001b[0m\u001b[1;34m'Name'\u001b[0m\u001b[1;33m]\u001b[0m\u001b[1;33m)\u001b[0m\u001b[1;33m[\u001b[0m\u001b[0mi\u001b[0m\u001b[1;33m]\u001b[0m\u001b[1;33m[\u001b[0m\u001b[0mj\u001b[0m\u001b[1;33m]\u001b[0m \u001b[1;33m==\u001b[0m \u001b[1;34m'.'\u001b[0m\u001b[1;33m\u001b[0m\u001b[1;33m\u001b[0m\u001b[0m\n\u001b[0;32m      5\u001b[0m         \u001b[0mcount\u001b[0m\u001b[1;33m+=\u001b[0m\u001b[1;36m1\u001b[0m\u001b[1;33m\u001b[0m\u001b[1;33m\u001b[0m\u001b[0m\n",
      "\u001b[1;31mTypeError\u001b[0m: list indices must be integers or slices, not str"
     ]
    }
   ],
   "source": [
    "str.count(sub[, start[, end]])"
   ]
  },
  {
   "cell_type": "code",
   "execution_count": 61,
   "id": "a0fa0be1",
   "metadata": {},
   "outputs": [
    {
     "ename": "AttributeError",
     "evalue": "'int' object has no attribute 'count'",
     "output_type": "error",
     "traceback": [
      "\u001b[1;31m---------------------------------------------------------------------------\u001b[0m",
      "\u001b[1;31mAttributeError\u001b[0m                            Traceback (most recent call last)",
      "\u001b[1;32m~\\AppData\\Local\\Temp\\ipykernel_6300\\193964523.py\u001b[0m in \u001b[0;36m<module>\u001b[1;34m\u001b[0m\n\u001b[0;32m      1\u001b[0m \u001b[1;32mfor\u001b[0m \u001b[0mi\u001b[0m \u001b[1;32min\u001b[0m \u001b[0mrange\u001b[0m\u001b[1;33m(\u001b[0m\u001b[0mlen\u001b[0m\u001b[1;33m(\u001b[0m\u001b[0mdf\u001b[0m\u001b[1;33m[\u001b[0m\u001b[1;34m'Name'\u001b[0m\u001b[1;33m]\u001b[0m\u001b[1;33m)\u001b[0m\u001b[1;33m)\u001b[0m\u001b[1;33m:\u001b[0m\u001b[1;33m\u001b[0m\u001b[1;33m\u001b[0m\u001b[0m\n\u001b[1;32m----> 2\u001b[1;33m     \u001b[0mdf\u001b[0m\u001b[1;33m[\u001b[0m\u001b[1;34m'Name'\u001b[0m\u001b[1;33m]\u001b[0m\u001b[1;33m[\u001b[0m\u001b[0mi\u001b[0m\u001b[1;33m]\u001b[0m\u001b[1;33m+=\u001b[0m\u001b[0mdf\u001b[0m\u001b[1;33m[\u001b[0m\u001b[1;34m'Name'\u001b[0m\u001b[1;33m]\u001b[0m\u001b[1;33m[\u001b[0m\u001b[0mi\u001b[0m\u001b[1;33m]\u001b[0m\u001b[1;33m.\u001b[0m\u001b[0mcount\u001b[0m\u001b[1;33m(\u001b[0m\u001b[1;34m'.'\u001b[0m\u001b[1;33m)\u001b[0m\u001b[1;33m.\u001b[0m\u001b[0mcount\u001b[0m\u001b[1;33m(\u001b[0m\u001b[1;34m','\u001b[0m\u001b[1;33m)\u001b[0m\u001b[1;33m\u001b[0m\u001b[1;33m\u001b[0m\u001b[0m\n\u001b[0m\u001b[0;32m      3\u001b[0m \u001b[0mdf\u001b[0m\u001b[1;33m[\u001b[0m\u001b[1;34m'Name'\u001b[0m\u001b[1;33m]\u001b[0m\u001b[1;33m\u001b[0m\u001b[1;33m\u001b[0m\u001b[0m\n",
      "\u001b[1;31mAttributeError\u001b[0m: 'int' object has no attribute 'count'"
     ]
    }
   ],
   "source": [
    "for i in range(len(df['Name'])):\n",
    "    df['Name'][i]+=df['Name'][i].count('.').count(',')\n",
    "df['Name']"
   ]
  },
  {
   "cell_type": "code",
   "execution_count": 62,
   "id": "697e4323",
   "metadata": {},
   "outputs": [
    {
     "data": {
      "text/plain": [
       "RangeIndex(start=0, stop=418, step=1)"
      ]
     },
     "execution_count": 62,
     "metadata": {},
     "output_type": "execute_result"
    }
   ],
   "source": [
    "df['Name'].index"
   ]
  },
  {
   "cell_type": "code",
   "execution_count": 66,
   "id": "32275ed7",
   "metadata": {},
   "outputs": [
    {
     "data": {
      "text/plain": [
       "0      1\n",
       "1      1\n",
       "2      1\n",
       "3      1\n",
       "4      1\n",
       "      ..\n",
       "413    1\n",
       "414    1\n",
       "415    1\n",
       "416    1\n",
       "417    1\n",
       "Name: Name, Length: 418, dtype: int64"
      ]
     },
     "execution_count": 66,
     "metadata": {},
     "output_type": "execute_result"
    }
   ],
   "source": [
    "df['Name'].str.count(',')"
   ]
  },
  {
   "cell_type": "code",
   "execution_count": 70,
   "id": "03934491",
   "metadata": {},
   "outputs": [
    {
     "name": "stdout",
     "output_type": "stream",
     "text": [
      "[2, 2, 2, 2, 2, 2, 2, 2, 2, 2, 2, 2, 2, 2, 2, 2, 2, 2, 2, 2, 2, 2, 2, 2, 2, 2, 2, 2, 2, 2, 2, 2, 2, 2, 2, 2, 2, 2, 2, 2, 2, 2, 2, 2, 2, 2, 2, 2, 2, 2, 2, 2, 2, 2, 2, 2, 2, 2, 2, 2, 2, 2, 2, 2, 2, 2, 2, 2, 2, 2, 2, 2, 2, 2, 2, 2, 2, 2, 2, 2, 2, 2, 2, 2, 2, 2, 2, 2, 2, 2, 2, 2, 2, 2, 2, 2, 2, 2, 2, 2, 2, 2, 2, 2, 2, 2, 2, 2, 2, 2, 2, 2, 2, 2, 2, 2, 2, 2, 2, 2, 2, 2, 2, 2, 2, 2, 2, 2, 2, 2, 2, 2, 2, 2, 2, 2, 2, 2, 2, 2, 2, 2, 2, 2, 2, 2, 2, 2, 2, 2, 2, 2, 2, 2, 2, 2, 2, 2, 2, 2, 2, 2, 2, 2, 2, 2, 2, 2, 2, 2, 2, 2, 2, 2, 2, 2, 2, 2, 2, 2, 2, 2, 2, 2, 2, 2, 2, 2, 2, 2, 2, 2, 2, 2, 2, 2, 2, 2, 2, 2, 2, 2, 2, 2, 2, 2, 2, 2, 2, 2, 2, 2, 2, 2, 2, 2, 2, 2, 2, 2, 2, 2, 2, 2, 2, 2, 2, 2, 2, 2, 2, 2, 2, 2, 2, 2, 2, 2, 2, 2, 2, 2, 2, 2, 2, 2, 2, 2, 2, 2, 2, 2, 2, 2, 2, 2, 2, 2, 2, 2, 2, 2, 2, 2, 2, 2, 2, 2, 2, 2, 2, 2, 2, 2, 2, 2, 2, 2, 2, 2, 2, 2, 2, 2, 2, 2, 2, 2, 2, 2, 2, 2, 2, 2, 2, 2, 2, 2, 2, 2, 2, 2, 2, 2, 2, 2, 2, 2, 2, 2, 2, 2, 2, 2, 2, 2, 2, 2, 2, 2, 2, 2, 2, 2, 2, 2, 2, 2, 2, 2, 2, 2, 2, 2, 2, 2, 2, 2, 2, 2, 2, 2, 2, 2, 2, 2, 2, 2, 2, 2, 2, 2, 2, 2, 2, 2, 2, 2, 2, 2, 2, 2, 2, 2, 2, 2, 2, 2, 2, 2, 2, 2, 2, 2, 2, 2, 2, 2, 2, 2, 2, 2, 2, 2, 2, 2, 2, 2, 2, 2, 2, 2, 2, 2, 2, 2, 2, 2, 2, 2, 2, 2, 2, 2, 2, 2, 2, 2, 2, 2, 2, 2, 2, 2, 2, 2, 2, 2]\n",
      "[True, True, True, True, True, True, True, True, True, True, True, True, True, True, True, True, True, True, True, True, True, True, True, True, True, True, True, True, True, True, True, True, True, True, True, True, True, True, True, True, True, True, True, True, True, True, True, True, True, True, True, True, True, True, True, True, True, True, True, True, True, True, True, True, True, True, True, True, True, True, True, True, True, True, True, True, True, True, True, True, True, True, True, True, True, True, True, True, True, True, True, True, True, True, True, True, True, True, True, True, True, True, True, True, True, True, True, True, True, True, True, True, True, True, True, True, True, True, True, True, True, True, True, True, True, True, True, True, True, True, True, True, True, True, True, True, True, True, True, True, True, True, True, True, True, True, True, True, True, True, True, True, True, True, True, True, True, True, True, True, True, True, True, True, True, True, True, True, True, True, True, True, True, True, True, True, True, True, True, True, True, True, True, True, True, True, True, True, True, True, True, True, True, True, True, True, True, True, True, True, True, True, True, True, True, True, True, True, True, True, True, True, True, True, True, True, True, True, True, True, True, True, True, True, True, True, True, True, True, True, True, True, True, True, True, True, True, True, True, True, True, True, True, True, True, True, True, True, True, True, True, True, True, True, True, True, True, True, True, True, True, True, True, True, True, True, True, True, True, True, True, True, True, True, True, True, True, True, True, True, True, True, True, True, True, True, True, True, True, True, True, True, True, True, True, True, True, True, True, True, True, True, True, True, True, True, True, True, True, True, True, True, True, True, True, True, True, True, True, True, True, True, True, True, True, True, True, True, True, True, True, True, True, True, True, True, True, True, True, True, True, True, True, True, True, True, True, True, True, True, True, True, True, True, True, True, True, True, True, True, True, True, True, True, True, True, True, True, True, True, True, True, True, True, True, True, True, True, True, True, True, True, True, True, True, True, True, True, True, True, True, True, True, True, True, True, True, True, True, True, True, True, True, True, True, True, True, True, True, True, True, True, True, True, True, True, True, True]\n"
     ]
    }
   ],
   "source": [
    "count_str = [nm.count(',') + nm.count('.') for nm in df['Name']]\n",
    "count_blank = [nm.count(' ') >= 2 for nm in df['Name']]\n",
    "print(count_str)\n",
    "print(count_blank)"
   ]
  },
  {
   "cell_type": "code",
   "execution_count": null,
   "id": "4ecda782",
   "metadata": {},
   "outputs": [],
   "source": []
  }
 ],
 "metadata": {
  "kernelspec": {
   "display_name": "Python 3 (ipykernel)",
   "language": "python",
   "name": "python3"
  },
  "language_info": {
   "codemirror_mode": {
    "name": "ipython",
    "version": 3
   },
   "file_extension": ".py",
   "mimetype": "text/x-python",
   "name": "python",
   "nbconvert_exporter": "python",
   "pygments_lexer": "ipython3",
   "version": "3.9.13"
  }
 },
 "nbformat": 4,
 "nbformat_minor": 5
}
