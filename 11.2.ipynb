{
 "cells": [
  {
   "cell_type": "code",
   "execution_count": 10,
   "id": "85378330",
   "metadata": {},
   "outputs": [
    {
     "name": "stdout",
     "output_type": "stream",
     "text": [
      "When 46 is divided by 9, the quotient is 5\n",
      "When 46 is divided by 9, the remainder is 1\n"
     ]
    }
   ],
   "source": [
    "quotient = 46 // 9\n",
    "remainder = 46 % 9\n",
    "print(\"When 46 is divided by 9, the quotient is\", quotient)\n",
    "print(\"When 46 is divided by 9, the remainder is\", remainder)"
   ]
  },
  {
   "cell_type": "code",
   "execution_count": 18,
   "id": "56c47957",
   "metadata": {},
   "outputs": [
    {
     "name": "stdout",
     "output_type": "stream",
     "text": [
      "x = 1\n",
      "y = 2\n",
      "x + y = 3\n"
     ]
    }
   ],
   "source": [
    "x = int(input(\"x = \"))\n",
    "y = int(input(\"y = \"))\n",
    "print(\"x + y =\",x+y)"
   ]
  },
  {
   "cell_type": "code",
   "execution_count": 23,
   "id": "43e01725",
   "metadata": {},
   "outputs": [
    {
     "name": "stdout",
     "output_type": "stream",
     "text": [
      "x = 2\n",
      "y = 3\n",
      "x * y = 6\n"
     ]
    }
   ],
   "source": [
    "x = int(input(\"x = \"))\n",
    "y = int(input(\"y = \"))\n",
    "print(\"x * y =\",x*y)"
   ]
  },
  {
   "cell_type": "code",
   "execution_count": 21,
   "id": "71178dfe",
   "metadata": {},
   "outputs": [
    {
     "name": "stdout",
     "output_type": "stream",
     "text": [
      "77.3\n",
      "119\n",
      "True\n"
     ]
    }
   ],
   "source": [
    "x = [49, 96, '안녕하세요', 77.3, 44]\n",
    "print(x[3]) #1\n",
    "x[0] += 70 \n",
    "print(x[0]) #2\n",
    "print(x[-2]==x[3]) #3"
   ]
  },
  {
   "cell_type": "code",
   "execution_count": 46,
   "id": "2cd6a755",
   "metadata": {},
   "outputs": [
    {
     "data": {
      "text/plain": [
       "[3, 4, 5, 6, 7, 8, 9, 62, 99]"
      ]
     },
     "execution_count": 46,
     "metadata": {},
     "output_type": "execute_result"
    }
   ],
   "source": [
    "l = [99, 62, 4, 3, 3, 3, 5, 6, 8, 7, 8, 9]\n",
    "s = set(l)\n",
    "l = list(s)\n",
    "l.sort()\n",
    "l"
   ]
  },
  {
   "cell_type": "code",
   "execution_count": 2,
   "id": "6c339f82",
   "metadata": {},
   "outputs": [
    {
     "name": "stdout",
     "output_type": "stream",
     "text": [
      "Enter the first number you want to calculate: 2\n",
      "Enter the second number you want to calculate: 3\n",
      "Enter the third number you want to calculate: 4\n",
      "The sum of three numbers is 9.0\n",
      "The difference of three numbers is -5.0\n",
      "The product of three numbers is 24.0\n"
     ]
    }
   ],
   "source": [
    "first_input_num = float(input(\"Enter the first number you want to calculate: \")) \n",
    "second_input_num =  float(input(\"Enter the second number you want to calculate: \")) \n",
    "third_input_num = float(input(\"Enter the third number you want to calculate: \"))\n",
    "\n",
    "result_plus = first_input_num + second_input_num + third_input_num\n",
    "result_minus = first_input_num - second_input_num - third_input_num\n",
    "result_multiply = first_input_num * second_input_num * third_input_num\n",
    "\n",
    "print(\"The sum of three numbers is\", result_plus)\n",
    "print(\"The difference of three numbers is\", result_minus)\n",
    "print(\"The product of three numbers is\", result_multiply)"
   ]
  },
  {
   "cell_type": "code",
   "execution_count": 20,
   "id": "36a626a1",
   "metadata": {},
   "outputs": [
    {
     "name": "stdout",
     "output_type": "stream",
     "text": [
      "Enter a single digit: 23\n",
      "It is not a single digit\n"
     ]
    }
   ],
   "source": [
    "input_value = int(input(\"Enter a single digit: \"))\n",
    "if -10<input_value and input_value<10:\n",
    "    r1 = input_value - 50\n",
    "    r2 = input_value - 100\n",
    "    r3 = input_value - 150\n",
    "    print(input_value,\"- 50 =\", r1)\n",
    "    print(input_value,\"- 100 =\", r2)\n",
    "    print(input_value,\"- 150 =\", r3)\n",
    "else:\n",
    "    print(\"It is not a single digit\")"
   ]
  },
  {
   "cell_type": "code",
   "execution_count": 26,
   "id": "216b40fd",
   "metadata": {},
   "outputs": [
    {
     "name": "stdout",
     "output_type": "stream",
     "text": [
      "Enter a number: 0\n",
      "It is a zero\n"
     ]
    }
   ],
   "source": [
    "input_value = int(input(\"Enter a number: \"))\n",
    "if input_value > 100:\n",
    "    print(\"It is bigger than a hundread\")\n",
    "elif input_value > 0: \n",
    "    print(\"It is a positive number\")\n",
    "elif input_value == 0: \n",
    "     print(\"It is a zero\")\n",
    "else:\n",
    "    print(\"It is a negative number\")"
   ]
  },
  {
   "cell_type": "code",
   "execution_count": 29,
   "id": "3bf8e33a",
   "metadata": {},
   "outputs": [
    {
     "name": "stdout",
     "output_type": "stream",
     "text": [
      "x = 6\n",
      "y = 5\n",
      "When x is divided by y, the remainder is 1.0\n"
     ]
    }
   ],
   "source": [
    "x = int(input(\"x = \")) \n",
    "y = int(input(\"y = \")) \n",
    "if x % y == 0:\n",
    "    print(\"x is mutiple of y\")\n",
    "elif x // y > 1:\n",
    "    print(\"When x is divided by y, the quotient is\",x // y)\n",
    "else:\n",
    "    print(\"When x is divided by y, the remainder is\",x % y)"
   ]
  },
  {
   "cell_type": "code",
   "execution_count": 43,
   "id": "7af4b79e",
   "metadata": {},
   "outputs": [
    {
     "name": "stdout",
     "output_type": "stream",
     "text": [
      "abcdefghAjklmnopqrstuvwxyz\n",
      "abcdefghAjklmnopqrstuvwxyz\n"
     ]
    }
   ],
   "source": [
    "board = \"abcdefghijklmnopqrstuvwxyz\"#i를 A로 바꾼다.\n",
    "print('A'.join([board.split('i')[0], board.split('i')[1]]))\n",
    "\n",
    "board = \"abcdefghijklmnopqrstuvwxyz\"\n",
    "print(board.replace('i','A'))"
   ]
  },
  {
   "cell_type": "code",
   "execution_count": 10,
   "id": "33ec9353",
   "metadata": {},
   "outputs": [
    {
     "name": "stdout",
     "output_type": "stream",
     "text": [
      "안녕하세요\n",
      "파이썬2차시수업중입니다\n",
      "\n"
     ]
    }
   ],
   "source": [
    "msg = '안녕하세요,\\t파이썬 2차시 수업 중입니다!\\n'\n",
    "msg = msg.replace('\\t','')\n",
    "msg = msg.replace('\\n','')\n",
    "msg = msg.replace(' ','')\n",
    "print(msg.split(',')[0])\n",
    "print(msg.split(',')[1].split('!')[0])\n",
    "print(msg.split(',')[1].split('!')[1])"
   ]
  }
 ],
 "metadata": {
  "kernelspec": {
   "display_name": "Python 3 (ipykernel)",
   "language": "python",
   "name": "python3"
  },
  "language_info": {
   "codemirror_mode": {
    "name": "ipython",
    "version": 3
   },
   "file_extension": ".py",
   "mimetype": "text/x-python",
   "name": "python",
   "nbconvert_exporter": "python",
   "pygments_lexer": "ipython3",
   "version": "3.9.13"
  }
 },
 "nbformat": 4,
 "nbformat_minor": 5
}
